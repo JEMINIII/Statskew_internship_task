{
 "cells": [
  {
   "cell_type": "code",
   "execution_count": 1,
   "id": "ecdecf51",
   "metadata": {},
   "outputs": [],
   "source": [
    "base_url = \"https://www.flipkart.com\" "
   ]
  },
  {
   "cell_type": "markdown",
   "id": "01d9f416",
   "metadata": {},
   "source": [
    "### 1- Create Your own filter and reduce function same as real filter and reduce function?"
   ]
  },
  {
   "cell_type": "code",
   "execution_count": 2,
   "id": "8d30f2da",
   "metadata": {},
   "outputs": [
    {
     "name": "stdout",
     "output_type": "stream",
     "text": [
      "[234, 254, 788, 432, 656]\n"
     ]
    }
   ],
   "source": [
    "def is_even(num):\n",
    "    if num%2==0:\n",
    "        return True\n",
    "    \n",
    "def my_filter(is_even,lst):\n",
    "    result =[]\n",
    "    for num in lst:\n",
    "        #print(num,\"----\")\n",
    "        if (is_even(num)) :\n",
    "            result.append(num)\n",
    "    return result   \n",
    "lst = [234,231,254,565,788,675,432,656]        \n",
    "my_result = my_filter(is_even,lst)\n",
    "print(my_result)\n",
    "\n"
   ]
  },
  {
   "cell_type": "code",
   "execution_count": 3,
   "id": "a61b0cfe",
   "metadata": {},
   "outputs": [
    {
     "data": {
      "text/plain": [
       "filter"
      ]
     },
     "execution_count": 3,
     "metadata": {},
     "output_type": "execute_result"
    }
   ],
   "source": [
    "filtered = filter(is_even,lst)\n",
    "type(filtered)"
   ]
  },
  {
   "cell_type": "code",
   "execution_count": 4,
   "id": "80e4021d",
   "metadata": {},
   "outputs": [
    {
     "name": "stdout",
     "output_type": "stream",
     "text": [
      "Help on class filter in module builtins:\n",
      "\n",
      "class filter(object)\n",
      " |  filter(function or None, iterable) --> filter object\n",
      " |  \n",
      " |  Return an iterator yielding those items of iterable for which function(item)\n",
      " |  is true. If function is None, return the items that are true.\n",
      " |  \n",
      " |  Methods defined here:\n",
      " |  \n",
      " |  __getattribute__(self, name, /)\n",
      " |      Return getattr(self, name).\n",
      " |  \n",
      " |  __iter__(self, /)\n",
      " |      Implement iter(self).\n",
      " |  \n",
      " |  __next__(self, /)\n",
      " |      Implement next(self).\n",
      " |  \n",
      " |  __reduce__(...)\n",
      " |      Return state information for pickling.\n",
      " |  \n",
      " |  ----------------------------------------------------------------------\n",
      " |  Static methods defined here:\n",
      " |  \n",
      " |  __new__(*args, **kwargs) from builtins.type\n",
      " |      Create and return a new object.  See help(type) for accurate signature.\n",
      "\n"
     ]
    }
   ],
   "source": [
    "help(filter)"
   ]
  },
  {
   "cell_type": "code",
   "execution_count": 5,
   "id": "f0dd5f5d",
   "metadata": {},
   "outputs": [
    {
     "name": "stdout",
     "output_type": "stream",
     "text": [
      "e\n",
      "e\n"
     ]
    }
   ],
   "source": [
    "def fun(variable):\n",
    "    letters = ['a', 'e', 'i', 'o', 'u']\n",
    "    if (variable in letters):\n",
    "        #print(variable)\n",
    "        return True\n",
    "    else:\n",
    "        #print(variable)\n",
    "        return False\n",
    "\n",
    "def my_filter(fun,sequence):\n",
    "    for var in sequence:\n",
    "        if(fun(var)):\n",
    "            print(var)\n",
    " # sequence\n",
    "sequence = ['g', 'e', 'e', 'j', 'k', 's', 'p', 'r']\n",
    "my_filter(fun,sequence)"
   ]
  },
  {
   "cell_type": "code",
   "execution_count": 6,
   "id": "b97a8014",
   "metadata": {},
   "outputs": [
    {
     "name": "stdout",
     "output_type": "stream",
     "text": [
      "24\n"
     ]
    }
   ],
   "source": [
    "# Reduce function\n",
    "def add(a,b):\n",
    "    return a+b\n",
    "\n",
    "def reducefunc(add,lst):\n",
    "    a = lst[0]\n",
    "    for i in range(1,len(lst)):\n",
    "        b = lst[i]\n",
    "        a = add(a,b)\n",
    "    return a\n",
    "\n",
    "#reducefunc(add,lst)\n",
    "lst = [10,2,3,4,5]\n",
    "my_result = reducefunc(add,lst)\n",
    "print(my_result)"
   ]
  },
  {
   "cell_type": "code",
   "execution_count": 7,
   "id": "4139e69d",
   "metadata": {},
   "outputs": [],
   "source": [
    "\n",
    "def add(i):\n",
    "    return num\n",
    "\n",
    "def my_reduce(add,lst):\n",
    "    num=0\n",
    "    for i in range(len(lst)):\n",
    "        num+=lst[i]\n",
    "        \n",
    "lst=[234,231,254,565,788,675,432,656]        \n",
    "my_reduce(add,lst)"
   ]
  },
  {
   "cell_type": "markdown",
   "id": "b327d8d5",
   "metadata": {},
   "source": [
    "### 2- Move Files from one folder to another folder. By using Python. And create empty files using python."
   ]
  },
  {
   "cell_type": "code",
   "execution_count": 8,
   "id": "620c4de5",
   "metadata": {},
   "outputs": [
    {
     "name": "stdout",
     "output_type": "stream",
     "text": [
      "List of directories and files before creation:\n",
      "['.ipynb_checkpoints', 'college.db', 'myfile.txt', 'Statskew_week_1.ipynb', 'student.csv', 'student.json']\n",
      "\n"
     ]
    }
   ],
   "source": [
    "#create empty files using python.\n",
    "import os\n",
    "path = \"D:/Project Work/folder_1\"\n",
    "file = 'myfile.txt'\n",
    "dir_list = os.listdir(path) \n",
    "print(\"List of directories and files before creation:\")\n",
    "print(dir_list)\n",
    "print()"
   ]
  },
  {
   "cell_type": "code",
   "execution_count": 9,
   "id": "9e763d04",
   "metadata": {},
   "outputs": [],
   "source": [
    "with open(os.path.join(path, file), 'w') as fp:\n",
    "    pass"
   ]
  },
  {
   "cell_type": "code",
   "execution_count": 10,
   "id": "b82b2858",
   "metadata": {},
   "outputs": [
    {
     "name": "stdout",
     "output_type": "stream",
     "text": [
      "List of directories and files after creation:\n",
      "['.ipynb_checkpoints', 'college.db', 'myfile.txt', 'Statskew_week_1.ipynb', 'student.csv', 'student.json']\n",
      "\n"
     ]
    }
   ],
   "source": [
    "dir_list = os.listdir(path) \n",
    "print(\"List of directories and files after creation:\")\n",
    "print(dir_list)\n",
    "print()"
   ]
  },
  {
   "cell_type": "code",
   "execution_count": 11,
   "id": "0c7556a1",
   "metadata": {
    "scrolled": true
   },
   "outputs": [],
   "source": [
    "# Move Files from one folder to another folder.\n",
    "#os.rename(\"myfile.txt\", \"D:\\\\Project Work\\\\folder_2\\\\my_move_file3.txt\")"
   ]
  },
  {
   "cell_type": "markdown",
   "id": "c3cb77fc",
   "metadata": {},
   "source": [
    "### 3- Delete files if the files are present in the folder otherwise pass."
   ]
  },
  {
   "cell_type": "code",
   "execution_count": 12,
   "id": "ec46a442",
   "metadata": {},
   "outputs": [],
   "source": [
    "#import os\n",
    "#if os.path.exists(\"samle.txt\"):\n",
    "#    os.remove(\"sample.txt\")\n",
    "#else:\n",
    "#    print(\"The file does not exist\")"
   ]
  },
  {
   "cell_type": "markdown",
   "id": "7c8c53ed",
   "metadata": {},
   "source": [
    "### 4- Open the Json file and extract the name of the students.\n",
    "Download link :\n",
    "https://drive.google.com/file/d/1_l60BmsOlHcvNnsT_5ECRvoH75npz3\n",
    "Oq/view"
   ]
  },
  {
   "cell_type": "code",
   "execution_count": 13,
   "id": "0f176377",
   "metadata": {},
   "outputs": [],
   "source": [
    "myJson = [\n",
    "  {\n",
    "    \"name\": \"John Smith\",\n",
    "    \"phone_number\": \"123-456-7890\",\n",
    "    \"address\": \"123 Main St, Anytown USA\",\n",
    "    \"school_name\": \"Anytown High School\"\n",
    "  },\n",
    "  {\n",
    "    \"name\": \"Jane Doe\",\n",
    "    \"phone_number\": \"555-555-5555\",\n",
    "    \"address\": \"456 Elm St, Anytown USA\",\n",
    "    \"school_name\": \"Anytown High School\"\n",
    "  },\n",
    "  {\n",
    "    \"name\": \"Bob Johnson\",\n",
    "    \"phone_number\": \"555-123-4567\",\n",
    "    \"address\": \"789 Oak St, Anytown USA\",\n",
    "    \"school_name\": \"Anytown Middle School\"\n",
    "  },\n",
    "  {\n",
    "    \"name\": \"Emily Davis\",\n",
    "    \"phone_number\": \"555-789-1234\",\n",
    "    \"address\": \"321 Maple St, Anytown USA\",\n",
    "    \"school_name\": \"Anytown Elementary School\"\n",
    "  },\n",
    "  {\n",
    "    \"name\": \"David Lee\",\n",
    "    \"phone_number\": \"555-444-4444\",\n",
    "    \"address\": \"555 Pine St, Anytown USA\",\n",
    "    \"school_name\": \"Anytown High School\"\n",
    "  },\n",
    "  {\n",
    "    \"name\": \"Samantha Hernandez\",\n",
    "    \"phone_number\": \"555-666-7777\",\n",
    "    \"address\": \"777 Oak St, Anytown USA\",\n",
    "    \"school_name\": \"Anytown Elementary School\"\n",
    "  },\n",
    "  {\n",
    "    \"name\": \"Chris Nguyen\",\n",
    "    \"phone_number\": \"555-222-3333\",\n",
    "    \"address\": \"888 Maple St, Anytown USA\",\n",
    "    \"school_name\": \"Anytown Middle School\"\n",
    "  },\n",
    "  {\n",
    "    \"name\": \"Ashley Patel\",\n",
    "    \"phone_number\": \"555-777-8888\",\n",
    "    \"address\": \"999 Pine St, Anytown USA\",\n",
    "    \"school_name\": \"Anytown High School\"\n",
    "  },\n",
    "  {\n",
    "    \"name\": \"Kevin Wilson\",\n",
    "    \"phone_number\": \"555-111-2222\",\n",
    "    \"address\": \"111 Elm St, Anytown USA\",\n",
    "    \"school_name\": \"Anytown Middle School\"\n",
    "  },\n",
    "  {\n",
    "    \"name\": \"Jessica Kim\",\n",
    "    \"phone_number\": \"555-888-9999\",\n",
    "    \"address\": \"222 Maple St, Anytown USA\",\n",
    "    \"school_name\": \"Anytown High School\"\n",
    "  },\n",
    "  {\n",
    "    \"name\": \"Mark Lee\",\n",
    "    \"phone_number\": \"555-444-5555\",\n",
    "    \"address\": \"333 Oak St, Anytown USA\",\n",
    "    \"school_name\": \"Anytown Elementary School\"\n",
    "  },\n",
    "  {\n",
    "    \"name\": \"Melissa Brown\",\n",
    "    \"phone_number\": \"555-222-1111\",\n",
    "    \"address\": \"444 Pine St, Anytown USA\",\n",
    "    \"school_name\": \"Anytown Middle School\"\n",
    "  },\n",
    "  {\n",
    "    \"name\": \"Ryan Nguyen\",\n",
    "    \"phone_number\": \"555-333-4444\",\n",
    "    \"address\": \"555 Elm St, Anytown USA\",\n",
    "    \"school_name\": \"Anytown High School\"\n",
    "  },\n",
    "  {\n",
    "    \"name\": \"Alexandra Hernandez\",\n",
    "    \"phone_number\": \"555-666-5555\",\n",
    "    \"address\": \"666 Oak St, Anytown USA\",\n",
    "    \"school_name\": \"Anytown Elementary School\"}\n",
    "]"
   ]
  },
  {
   "cell_type": "code",
   "execution_count": 14,
   "id": "67631079",
   "metadata": {},
   "outputs": [],
   "source": [
    "import json\n",
    "# Serializing json\n",
    "json_object = json.dumps(myJson, indent=4)\n",
    " \n",
    "# Writing to sample.json\n",
    "with open(\"student.json\", \"w\") as outfile:\n",
    "    outfile.write(json_object)"
   ]
  },
  {
   "cell_type": "code",
   "execution_count": 15,
   "id": "4aa248bb",
   "metadata": {},
   "outputs": [
    {
     "data": {
      "text/plain": [
       "0              John Smith\n",
       "1                Jane Doe\n",
       "2             Bob Johnson\n",
       "3             Emily Davis\n",
       "4               David Lee\n",
       "5      Samantha Hernandez\n",
       "6            Chris Nguyen\n",
       "7            Ashley Patel\n",
       "8            Kevin Wilson\n",
       "9             Jessica Kim\n",
       "10               Mark Lee\n",
       "11          Melissa Brown\n",
       "12            Ryan Nguyen\n",
       "13    Alexandra Hernandez\n",
       "Name: name, dtype: object"
      ]
     },
     "execution_count": 15,
     "metadata": {},
     "output_type": "execute_result"
    }
   ],
   "source": [
    "import pandas as pd\n",
    "df = pd.read_json(\"student.json\")\n",
    "df.name"
   ]
  },
  {
   "cell_type": "code",
   "execution_count": 16,
   "id": "80c5f666",
   "metadata": {},
   "outputs": [],
   "source": [
    "# converted to csv\n",
    "\n",
    "import csv\n",
    "with open('student.json') as json_file:\n",
    "    data = json.load(json_file)"
   ]
  },
  {
   "cell_type": "code",
   "execution_count": 17,
   "id": "f655d770",
   "metadata": {},
   "outputs": [],
   "source": [
    "#Extract the fields you want to include in the CSV file\n",
    "fields = ['name', 'phone_number', 'address','school_name']\n",
    "with open('student.csv', 'w') as csv_file:\n",
    "    writer = csv.writer(csv_file)\n",
    "    writer.writerow(fields)\n",
    "    # Write each data row to the CSV file\n",
    "    for row in data:\n",
    "        writer.writerow([row[field] for field in fields])"
   ]
  },
  {
   "cell_type": "code",
   "execution_count": 18,
   "id": "9b95d21b",
   "metadata": {},
   "outputs": [
    {
     "data": {
      "text/plain": [
       "0              John Smith\n",
       "1                Jane Doe\n",
       "2             Bob Johnson\n",
       "3             Emily Davis\n",
       "4               David Lee\n",
       "5      Samantha Hernandez\n",
       "6            Chris Nguyen\n",
       "7            Ashley Patel\n",
       "8            Kevin Wilson\n",
       "9             Jessica Kim\n",
       "10               Mark Lee\n",
       "11          Melissa Brown\n",
       "12            Ryan Nguyen\n",
       "13    Alexandra Hernandez\n",
       "Name: name, dtype: object"
      ]
     },
     "execution_count": 18,
     "metadata": {},
     "output_type": "execute_result"
    }
   ],
   "source": [
    "import pandas as pd\n",
    "df = pd.read_csv(\"student.csv\")\n",
    "df[\"name\"]"
   ]
  },
  {
   "cell_type": "markdown",
   "id": "2ca7c2a5",
   "metadata": {},
   "source": [
    "### 5 -Create a class which contains all the above functions and import this class for use. (OOPS Concept)"
   ]
  },
  {
   "cell_type": "code",
   "execution_count": 19,
   "id": "6e958869",
   "metadata": {},
   "outputs": [
    {
     "name": "stdout",
     "output_type": "stream",
     "text": [
      "[2, 4, 6]\n",
      "200\n"
     ]
    }
   ],
   "source": [
    "\n",
    "class myclass:\n",
    "    \n",
    " \n",
    "    \n",
    "    def is_even(num):\n",
    "        if num%2==0:\n",
    "            return True\n",
    "    def my_filter(is_even,lst):   \n",
    "        result =[]\n",
    "        for num in lst:\n",
    "            if (is_even(num)) :\n",
    "                result.append(num)\n",
    "        return result   \n",
    "    lst = [1,2,3,4,5,6]    \n",
    "    my_result = my_filter(is_even,lst)\n",
    "    \n",
    "    \n",
    "    \n",
    "    # Reduce function\n",
    "    \n",
    "    def add(a,b):\n",
    "        return a+b\n",
    "    \n",
    "    def reducefunc(add,lst):\n",
    "        a = lst[0]\n",
    "        for i in range(1,len(lst)):\n",
    "            b = lst[i]\n",
    "            a = add(a,b)\n",
    "        #print(a)\n",
    "        return a\n",
    "    lst = [50,50,50,50]\n",
    "    my_result2 = reducefunc(add,lst)\n",
    "#print(my_result)\n",
    "    \n",
    "    \n",
    "        \n",
    "        \n",
    "\n",
    "    \n",
    "p1= myclass\n",
    "print(p1.my_result)\n",
    "print(p1.my_result2)"
   ]
  },
  {
   "cell_type": "code",
   "execution_count": null,
   "id": "20fb3792",
   "metadata": {},
   "outputs": [],
   "source": []
  },
  {
   "cell_type": "markdown",
   "id": "d650d84b",
   "metadata": {},
   "source": [
    "### 6- Scrape mobile name, mobile price and reviews from first 20 page of flipkart."
   ]
  },
  {
   "cell_type": "code",
   "execution_count": 20,
   "id": "a2d47a11",
   "metadata": {},
   "outputs": [],
   "source": [
    "base_url = \"https://www.flipkart.com\" "
   ]
  },
  {
   "cell_type": "code",
   "execution_count": 21,
   "id": "0b7311be",
   "metadata": {},
   "outputs": [],
   "source": [
    "import requests\n",
    "from bs4 import BeautifulSoup as bs"
   ]
  },
  {
   "cell_type": "code",
   "execution_count": 22,
   "id": "cccbba8f",
   "metadata": {},
   "outputs": [],
   "source": [
    "url = \"https://www.flipkart.com/search?q=mobile&sid=tyy%2C4io&as=on&as-show=on&otracker=AS_QueryStore_OrganicAutoSuggest_1_2_na_na_na&otracker1=AS_QueryStore_OrganicAutoSuggest_1_2_na_na_na&as-pos=1&as-type=RECENT&suggestionId=mobile%7CMobiles&requestId=c6be39e8-02b1-4c2a-a974-36c63ef17525&as-backfill=on\"\n",
    "url_data = requests.get(url)"
   ]
  },
  {
   "cell_type": "code",
   "execution_count": 23,
   "id": "02ba9b20",
   "metadata": {},
   "outputs": [],
   "source": [
    "soup = bs(url_data.text,\"html.parser\")"
   ]
  },
  {
   "cell_type": "code",
   "execution_count": 24,
   "id": "496aef7f",
   "metadata": {},
   "outputs": [],
   "source": [
    "product = soup.find_all(\"div\", attrs={\"class\":\"_4rR01T\"})"
   ]
  },
  {
   "cell_type": "code",
   "execution_count": 25,
   "id": "9bf36507",
   "metadata": {
    "scrolled": true
   },
   "outputs": [],
   "source": [
    "#counter = 0\n",
    "#for link in soup.find_all('a',attrs={'class':\"_1fQZEK\"}):\n",
    "#    print(link.get('href'))\n",
    "#    counter+=1\n",
    "#    if counter==20:\n",
    "#        break\n",
    "    #products_url = soup.find(\"a\",attrs={'class':\"_1fQZEK\"}).get('href')\n",
    "#product_url\n"
   ]
  },
  {
   "cell_type": "code",
   "execution_count": 26,
   "id": "d28ee95d",
   "metadata": {
    "scrolled": true
   },
   "outputs": [
    {
     "data": {
      "text/plain": [
       "'POCO C50 (Royal Blue, 32 GB)'"
      ]
     },
     "execution_count": 26,
     "metadata": {},
     "output_type": "execute_result"
    }
   ],
   "source": [
    "product[2].text"
   ]
  },
  {
   "cell_type": "code",
   "execution_count": 27,
   "id": "9b612e6f",
   "metadata": {
    "scrolled": true
   },
   "outputs": [
    {
     "data": {
      "text/plain": [
       "'₹6,499'"
      ]
     },
     "execution_count": 27,
     "metadata": {},
     "output_type": "execute_result"
    }
   ],
   "source": [
    "price = soup.find_all(\"div\",attrs={\"class\":\"_30jeq3 _1_WHN1\"})\n",
    "price[0].text"
   ]
  },
  {
   "cell_type": "code",
   "execution_count": 28,
   "id": "ee5ef587",
   "metadata": {},
   "outputs": [
    {
     "data": {
      "text/plain": [
       "['POCO C51 (Royal Blue, 64 GB)',\n",
       " 'POCO C51 (Power Black, 64 GB)',\n",
       " 'POCO C50 (Royal Blue, 32 GB)',\n",
       " 'vivo T2x 5G (Aurora Gold, 128 GB)',\n",
       " 'vivo T2x 5G (Glimmer Black, 128 GB)',\n",
       " 'vivo T2x 5G (Marine Blue, 128 GB)',\n",
       " 'vivo T2x 5G (Aurora Gold, 128 GB)',\n",
       " 'vivo T2x 5G (Glimmer Black, 128 GB)',\n",
       " 'Infinix SMART 7 (Azure Blue, 64 GB)',\n",
       " 'Infinix SMART 7 (Emerald Green, 128 GB)',\n",
       " 'Infinix SMART 7 (Emerald Green, 64 GB)',\n",
       " 'POCO C55 (Cool Blue, 128 GB)',\n",
       " 'Infinix SMART 7 (Azure Blue, 128 GB)',\n",
       " 'POCO C55 (Power Black, 128 GB)',\n",
       " 'Infinix SMART 7 (Night Black, 64 GB)',\n",
       " 'MOTOROLA G32 (Mineral Gray, 128 GB)',\n",
       " 'MOTOROLA G62 5G (Frosted Blue, 128 GB)',\n",
       " 'POCO C55 (Forest Green, 128 GB)',\n",
       " 'MOTOROLA e32 (Arctic Blue, 64 GB)',\n",
       " 'MOTOROLA e13 (Aurora Green, 64 GB)']"
      ]
     },
     "execution_count": 28,
     "metadata": {},
     "output_type": "execute_result"
    }
   ],
   "source": [
    "mobile_name = []\n",
    "for i in range(20):\n",
    "    mobile_name.append(product[i].text)\n",
    "mobile_name"
   ]
  },
  {
   "cell_type": "code",
   "execution_count": 29,
   "id": "34cc4bc8",
   "metadata": {},
   "outputs": [],
   "source": [
    "#for i in range(20):\n",
    "#    print(product[i].text)"
   ]
  },
  {
   "cell_type": "code",
   "execution_count": 30,
   "id": "3b399d7e",
   "metadata": {
    "scrolled": true
   },
   "outputs": [],
   "source": [
    "#for i in range(20):\n",
    "#    print(price[i].text)"
   ]
  },
  {
   "cell_type": "code",
   "execution_count": 31,
   "id": "357f2057",
   "metadata": {},
   "outputs": [
    {
     "data": {
      "text/plain": [
       "['₹6,499',\n",
       " '₹6,499',\n",
       " '₹5,499',\n",
       " '₹12,999',\n",
       " '₹13,999',\n",
       " '₹13,999',\n",
       " '₹13,999',\n",
       " '₹12,999',\n",
       " '₹6,999',\n",
       " '₹7,799',\n",
       " '₹6,999',\n",
       " '₹8,999',\n",
       " '₹7,799',\n",
       " '₹8,999',\n",
       " '₹6,999',\n",
       " '₹11,999',\n",
       " '₹14,999',\n",
       " '₹8,999',\n",
       " '₹7,999',\n",
       " '₹7,299']"
      ]
     },
     "execution_count": 31,
     "metadata": {},
     "output_type": "execute_result"
    }
   ],
   "source": [
    "Product_price = []\n",
    "for i in range(20):\n",
    "    Product_price.append(price[i].text)\n",
    "Product_price"
   ]
  },
  {
   "cell_type": "code",
   "execution_count": 32,
   "id": "9ae251f9",
   "metadata": {
    "scrolled": true
   },
   "outputs": [],
   "source": [
    "#product_url = \"https://www.flipkart.com/vivo-t2x-5g-glimmer-black-128-gb/p/itmcb8f0f6a85d5d?pid=MOBGZBFUF389GDMP&lid=LSTMOBGZBFUF389GDMPKCQWJ4&marketplace=FLIPKART&q=mobiles&store=tyy%2F4io&srno=s_1_6&otracker=AS_QueryStore_OrganicAutoSuggest_2_6_na_na_ps&otracker1=AS_QueryStore_OrganicAutoSuggest_2_6_na_na_ps&iid=8a5a5d32-49ff-46c7-acce-842653cc7668.MOBGZBFUF389GDMP.SEARCH&ssid=fzz638vb680000001692103209960&qH=eb4af0bf07c16429\"\n",
    "#product_data = requests.get(product_url)\n"
   ]
  },
  {
   "cell_type": "code",
   "execution_count": 33,
   "id": "e3839fa3",
   "metadata": {},
   "outputs": [],
   "source": [
    "#soup2 = bs(product_data.text,\"html.parser\")"
   ]
  },
  {
   "cell_type": "code",
   "execution_count": 34,
   "id": "bb239358",
   "metadata": {},
   "outputs": [],
   "source": [
    "#product_review_url = soup2.find(\"div\",attrs={'class':'_3UAT2v _16PBlm'}).parent.get('href')\n",
    "#product_review_url\n"
   ]
  },
  {
   "cell_type": "code",
   "execution_count": 35,
   "id": "f3cd7fa3",
   "metadata": {
    "scrolled": true
   },
   "outputs": [
    {
     "name": "stdout",
     "output_type": "stream",
     "text": [
      "https://www.flipkart.com/vivo-t2x-5g-glimmer-black-128-gb/p/itmcb8f0f6a85d5d?pid=MOBGZBFUF389GDMP&lid=LSTMOBGZBFUF389GDMPKCQWJ4&marketplace=FLIPKART&q=mobile&store=tyy%2F4io&srno=s_1_5&otracker=AS_QueryStore_OrganicAutoSuggest_1_2_na_na_na&otracker1=AS_QueryStore_OrganicAutoSuggest_1_2_na_na_na&fm=organic&iid=c976470f-6fed-4c27-9be0-f8c2834e0f27.MOBGZBFUF389GDMP.SEARCH&ppt=None&ppn=None&ssid=cdzd328ng00000001692182729079&qH=532c28d5412dd75b\n"
     ]
    }
   ],
   "source": [
    "lst1 = []\n",
    "for link in soup.find_all('a',attrs={'class':\"_1fQZEK\"}):\n",
    "    lst = []\n",
    "    lst.append(link.get('href'))\n",
    "    lst1.append(lst)\n",
    "    \n",
    "    lst1.append(lst)\n",
    "\n",
    "    \n",
    "final_review_url = []\n",
    "for i in range(20):\n",
    "    product_review_url = lst1[i][0]\n",
    "    final_review_url.append(base_url+product_review_url)\n",
    "print(final_review_url[8])"
   ]
  },
  {
   "cell_type": "code",
   "execution_count": 36,
   "id": "2a6dc979",
   "metadata": {},
   "outputs": [],
   "source": [
    "#final_review_url = base_url+product_review_url\n",
    "#final_review_url"
   ]
  },
  {
   "cell_type": "code",
   "execution_count": 37,
   "id": "6871b426",
   "metadata": {},
   "outputs": [],
   "source": [
    "review_data = []\n",
    "for i in range(20):\n",
    "    review_data.append(requests.get(final_review_url[i]))\n"
   ]
  },
  {
   "cell_type": "code",
   "execution_count": 38,
   "id": "a0a608c1",
   "metadata": {},
   "outputs": [
    {
     "data": {
      "text/plain": [
       "<!DOCTYPE html>\n",
       "<html lang=\"en\"><head><link href=\"https://rukminim2.flixcart.com\" rel=\"preconnect\"/><link href=\"//static-assets-web.flixcart.com/fk-p-linchpin-web/fk-cp-zion/css/app_modules.chunk.905c37.css\" rel=\"stylesheet\"/><link href=\"//static-assets-web.flixcart.com/fk-p-linchpin-web/fk-cp-zion/css/app.chunk.5ffd15.css\" rel=\"stylesheet\"/><meta content=\"text/html; charset=utf-8\" http-equiv=\"Content-type\"/><meta content=\"IE=Edge\" http-equiv=\"X-UA-Compatible\"/><meta content=\"102988293558\" property=\"fb:page_id\"/><meta content=\"658873552,624500995,100000233612389\" property=\"fb:admins\"/><meta content=\"noodp\" name=\"robots\"/><link href=\"https:///www/promos/new/20150528-140547-favicon-retina.ico\" rel=\"shortcut icon\"/><link href=\"/osdd.xml?v=2\" rel=\"search\" type=\"application/opensearchdescription+xml\"/><meta content=\"website\" property=\"og:type\"/><meta content=\"Flipkart.com\" name=\"og_site_name\" property=\"og:site_name\"/><link href=\"/apple-touch-icon-57x57.png\" rel=\"apple-touch-icon\" sizes=\"57x57\"/><link href=\"/apple-touch-icon-72x72.png\" rel=\"apple-touch-icon\" sizes=\"72x72\"/><link href=\"/apple-touch-icon-114x114.png\" rel=\"apple-touch-icon\" sizes=\"114x114\"/><link href=\"/apple-touch-icon-144x144.png\" rel=\"apple-touch-icon\" sizes=\"144x144\"/><link href=\"/apple-touch-icon-57x57.png\" rel=\"apple-touch-icon\"/><meta content=\"app\" name=\"twitter:card\"/><meta content=\"@flipkart\" name=\"twitter:site\"/><meta content=\"@flipkart\" name=\"twitter:creator\"/><meta content=\"Infinix SMART 7 ( 128 GB Storage, 4 GB RAM ) Online at Best Price On Flipkart.com\" name=\"twitter:title\"/><meta content=\"Shop for electronics, apparels &amp; more using our Flipkart app Free shipping &amp; COD.\" name=\"twitter:description\"/><meta content=\"http://rukmini1.flixcart.com/image/300/300/xif0q/mobile/6/a/d/-original-imagrqg4uruhwuza.jpeg\" property=\"twitter:image\"><meta content=\"in\" name=\"twitter:app:country\"/><meta content=\"Flipkart\" name=\"al:ios:app_name\"/><meta content=\"742044692\" name=\"al:ios:app_store_id\"/><meta content=\"Flipkart\" name=\"twitter:app:name:iphone\"/><meta content=\"742044692\" name=\"twitter:app:id:iphone\"/><meta content=\"http://dl.flipkart.com/dl/home?\" name=\"twitter:app:url:iphone\"/><meta content=\"Flipkart\" name=\"twitter:app:name:ipad\"/><meta content=\"742044692\" name=\"twitter:app:id:ipad\"/><meta content=\"http://dl.flipkart.com/dl/home?\" name=\"twitter:app:url:ipad\"/><meta content=\"Flipkart\" name=\"twitter:app:name:googleplay\"/><meta content=\"com.flipkart.android\" name=\"twitter:app:id:googleplay\"/><meta content=\"http://dl.flipkart.com/dl/home?\" name=\"twitter:app:url:googleplay\"/><style>#container {\n",
       "\t\t\theight: 100%;\n",
       "\t\t}</style> <link href=\"///fk-cp-zion/css/Product.chunk.2f0494.css\" rel=\"stylesheet\"/><title>Infinix SMART 7 ( 128 GB Storage, 4 GB RAM ) Online at Best Price On Flipkart.com</title><meta content=\"Infinix SMART 7 ( 128 GB Storage, 4 GB RAM ) Online at Best Price On Flipkart.com\" name=\"og_title\" property=\"og:title\"><meta content=\"Buy SMART 7 Online, SMART 7 Price, SMART 7 Features and Specifications, SMART 7 Reviews\" name=\"Keywords\"> <meta content=\"Buy Infinix SMART 7 online at best price with offers in India. Infinix SMART 7 (Emerald Green, 128 GB) features and specifications include 4 GB RAM,  128 GB ROM, 6000 mAh battery, 13 MP back camera and 5 MP front camera. Compare SMART 7 by price and performance to shop at Flipkart\" name=\"Description\"><meta content=\"Buy Infinix SMART 7 online at best price with offers in India. Infinix SMART 7 (Emerald Green, 128 GB) features and specifications include 4 GB RAM,  128 GB ROM, 6000 mAh battery, 13 MP back camera and 5 MP front camera. Compare SMART 7 by price and performance to shop at Flipkart\" property=\"og:description\"> <link href=\"android-app://com.flipkart.android/flipkart/de_pp_seg_--_ITM7B72B66485A59\" rel=\"alternate\"/> <meta content=\"http://rukmini1.flixcart.com/image/300/300/xif0q/mobile/6/a/d/-original-imagrqg4uruhwuza.jpeg\" name=\"og_image\" property=\"og:image\"> <meta content=\"F4EEB3A0AFFDD385992A06E6920C0AC3\" name=\"msvalidate.01\"> <!--[if IE 9 ]>\n",
       "\t<script nonce=\"15049676549609274317\">\n",
       "\t\twindow.browserVersion = 'IE9';\n",
       "\t\tdocument.documentElement.className += ' ie9';\n",
       "\t</script>\n",
       "\t<![endif]--><!--[if !IE]><!--><script nonce=\"15049676549609274317\">if (/*@cc_on!@*/false) {\n",
       "\t\t\twindow.browserVersion = 'IE10';\n",
       "\t\t\tdocument.documentElement.className += ' ie10';\n",
       "\t\t}</script><!--<![endif]--> <script nonce=\"15049676549609274317\">!function(){if(\"PerformancePaintTiming\" in window){var e=window.__perf={e:[]};e.o=new PerformanceObserver(function(n){e.e=e.e.concat(n.getEntries())});try{e.o.observe({entryTypes:[\"paint\"]})}catch(e){}}}();\n",
       "\n",
       "\t\tif (requestAnimationFrame && performance && performance.mark) {\n",
       "\t\t\trequestAnimationFrame(function () {\n",
       "\t\t\t\twindow.first_paint = performance.now();\n",
       "\t\t\t\tperformance.mark(\"first_paint\");\n",
       "\t\t\t});\n",
       "\t\t}\n",
       "\n",
       "        // web-vitals polyfill for FID\n",
       "        !function(n,e){var t,o,i,c=[],f={passive:!0,capture:!0},r=new Date,a=\"pointerup\",u=\"pointercancel\";function p(n,c){t||(t=c,o=n,i=new Date,w(e),s())}function s(){o>=0&&o<i-r&&(c.forEach(function(n){n(o,t)}),c=[])}function l(t){if(t.cancelable){var o=(t.timeStamp>1e12?new Date:performance.now())-t.timeStamp;\"pointerdown\"==t.type?function(t,o){function i(){p(t,o),r()}function c(){r()}function r(){e(a,i,f),e(u,c,f)}n(a,i,f),n(u,c,f)}(o,t):p(o,t)}}function w(n){[\"click\",\"mousedown\",\"keydown\",\"touchstart\",\"pointerdown\"].forEach(function(e){n(e,l,f)})}w(n),self.perfMetrics=self.perfMetrics||{},self.perfMetrics.onFirstInputDelay=function(n){c.push(n),s()}}(addEventListener,removeEventListener);</script><script async=\"\" src=\"https://www.googletagmanager.com/gtag/js?id=AW-594691041\"></script><script nonce=\"15049676549609274317\">window.dataLayer = window.dataLayer || [];\n",
       "\t\tfunction gtag(){dataLayer.push(arguments)};\n",
       "\t\tgtag('js', new Date());</script></meta></meta></meta></meta></meta></meta></meta></head><body><div id=\"container\"><div><div class=\"_1kfTjk\"><div class=\"_1rH5Jn\"><div class=\"_1TmfNK\"></div><div class=\"_2Xfa2_\"><div class=\"_3_C9Hx\"><div class=\"_3qX0zy\"><a href=\"/\"><img alt=\"Flipkart\" class=\"_2xm1JU\" src=\"//static-assets-web.flixcart.com/fk-p-linchpin-web/fk-cp-zion/img/flipkart-plus_8d85f4.png\" title=\"Flipkart\" width=\"75\"/></a><a class=\"_21ljIi\" href=\"/plus\">Explore<!-- --> <span class=\"_2FVHGh\">Plus</span><img src=\"//static-assets-web.flixcart.com/fk-p-linchpin-web/fk-cp-zion/img/plus_aef861.png\" width=\"10\"/></a></div></div><div class=\"_1cmsER\"><form action=\"/search\" class=\"_2M8cLY header-form-search\" method=\"GET\"><div class=\"col-12-12 _2oO9oE\"><div class=\"_3OO5Xc\"><input autocomplete=\"off\" class=\"_3704LK\" name=\"q\" placeholder=\"Search for products, brands and more\" title=\"Search for products, brands and more\" type=\"text\" value=\"\"/></div><button class=\"L0Z3Pu\" type=\"submit\"><svg class=\"\" height=\"20\" viewbox=\"0 0 17 18\" width=\"20\" xmlns=\"http://www.w3.org/2000/svg\"><g fill=\"#2874F1\" fill-rule=\"evenodd\"><path class=\"_34RNph\" d=\"m11.618 9.897l4.225 4.212c.092.092.101.232.02.313l-1.465 1.46c-.081.081-.221.072-.314-.02l-4.216-4.203\"></path><path class=\"_34RNph\" d=\"m6.486 10.901c-2.42 0-4.381-1.956-4.381-4.368 0-2.413 1.961-4.369 4.381-4.369 2.42 0 4.381 1.956 4.381 4.369 0 2.413-1.961 4.368-4.381 4.368m0-10.835c-3.582 0-6.486 2.895-6.486 6.467 0 3.572 2.904 6.467 6.486 6.467 3.582 0 6.486-2.895 6.486-6.467 0-3.572-2.904-6.467-6.486-6.467\"></path></g></svg></button><input name=\"otracker\" type=\"hidden\" value=\"search\"/><input name=\"otracker1\" type=\"hidden\" value=\"search\"/><input name=\"marketplace\" type=\"hidden\" value=\"FLIPKART\"/><input name=\"as-show\" type=\"hidden\" value=\"off\"/><input name=\"as\" type=\"hidden\" value=\"off\"/></div><ul class=\"col-12-12 _1MRYA1\"></ul></form></div><div class=\"go_DOp _2errNR\"><div class=\"_28p97w\"><div class=\"_1psGvi _3BvnxG\"><div><a class=\"_1_3w1N\" href=\"/account/login?ret=/infinix-smart-7-emerald-green-128-gb/p/itm7b72b66485a59%3Fpid%3DMOBGRH6YM3KZXNWF%26lid%3DLSTMOBGRH6YM3KZXNWFSJXTYT%26marketplace%3DFLIPKART%26q%3Dmobile%26store%3Dtyy%252F4io%26srno%3Ds_1_10%26otracker%3DAS_QueryStore_OrganicAutoSuggest_1_2_na_na_na%26otracker1%3DAS_QueryStore_OrganicAutoSuggest_1_2_na_na_na%26fm%3Dorganic%26iid%3Dc976470f-6fed-4c27-9be0-f8c2834e0f27.MOBGRH6YM3KZXNWF.SEARCH%26ppt%3DNone%26ppn%3DNone%26ssid%3Dcdzd328ng00000001692182729079%26qH%3D532c28d5412dd75b\">Login</a></div></div></div></div><div class=\"go_DOp\"><a class=\"_3-PJz-\" href=\"https://seller.flipkart.com/sell-online/?utm_source=fkwebsite&amp;utm_medium=websitedirect\"><span>Become a Seller</span></a></div><div class=\"go_DOp\"><div class=\"_28p97w\"><div class=\"_1psGvi _3BvnxG\"><div><div class=\"exehdJ\"> <!-- -->More<!-- --> </div></div></div><svg class=\"zZ3yfL\" height=\"8\" viewbox=\"0 0 16 27\" width=\"4.7\" xmlns=\"http://www.w3.org/2000/svg\"><path class=\"_2gTTdy\" d=\"M16 23.207L6.11 13.161 16 3.093 12.955 0 0 13.161l12.955 13.161z\" fill=\"#fff\"></path></svg></div></div><div class=\"go_DOp\"><div class=\"_1psGvi\"><div class=\"YUhWwv\"><a class=\"_3SkBxJ\" href=\"/viewcart?exploreMode=true&amp;preference=FLIPKART\"><svg class=\"V3C5bO\" height=\"14\" viewbox=\"0 0 16 16\" width=\"14\" xmlns=\"http://www.w3.org/2000/svg\"><path class=\"_1bS9ic\" d=\"M15.32 2.405H4.887C3 2.405 2.46.805 2.46.805L2.257.21C2.208.085 2.083 0 1.946 0H.336C.1 0-.064.24.024.46l.644 1.945L3.11 9.767c.047.137.175.23.32.23h8.418l-.493 1.958H3.768l.002.003c-.017 0-.033-.003-.05-.003-1.06 0-1.92.86-1.92 1.92s.86 1.92 1.92 1.92c.99 0 1.805-.75 1.91-1.712l5.55.076c.12.922.91 1.636 1.867 1.636 1.04 0 1.885-.844 1.885-1.885 0-.866-.584-1.593-1.38-1.814l2.423-8.832c.12-.433-.206-.86-.655-.86\" fill=\"#fff\"></path></svg><span>Cart</span></a></div></div></div></div><div class=\"_1TmfNK\"></div></div><div class=\"_1mUdNz\"></div></div><div class=\"_331-kn\"></div><div class=\"_2c7YLP UtUXW0 _6t1WkM _3HqJxg\"><div class=\"_1YokD2 _2GoDe3\" style=\"background-color:#FFFFFF;padding:16px 16px 16px 16px\"><div class=\"_1YokD2 _3Mn1Gg col-5-12 _78xt5Y\"><div class=\"_1AtVbE col-12-12\"><div class=\"_1iyjIJ\"><div class=\"_3li7GG\"><div class=\"_35DpL-\"><div class=\"_2FHWw4\"><div class=\"_2mLllQ\" style=\"height:576px\"><ul class=\"_3GnUWp\" style=\"-webkit-transform:translateY(-0px);-moz-transform:translateY(-0px);-o-transform:translateY(-0px);-ms-transform:translateY(-0px);transform:translateY(-0px)\"><li class=\"_20Gt85 _1Y_A6W\" style=\"height:64px\"><div class=\"_1AuMiq P9aMAP\"><div class=\"_2E1FGS\"><img class=\"q6DClP\" src=\"https://rukminim2.flixcart.com/image/128/128/xif0q/mobile/6/a/d/-original-imagrqg4uruhwuza.jpeg?q=70\"/></div></div></li><li class=\"_20Gt85 _1Y_A6W\" style=\"height:64px\"><div class=\"_1AuMiq\"><div class=\"_2E1FGS\"><img class=\"q6DClP\" src=\"https://rukminim2.flixcart.com/image/128/128/xif0q/mobile/6/a/d/-original-imagrqg4uruhwuza.jpeg?q=70\"/></div><div class=\"_2usHgU\"></div><div class=\"_3g-Cpg\"></div></div></li><li class=\"_20Gt85 _1Y_A6W\" style=\"height:64px\"><div class=\"_1AuMiq\"><div class=\"_2E1FGS\"><img class=\"q6DClP\" src=\"https://rukminim2.flixcart.com/image/128/128/xif0q/mobile/x/i/3/-original-imagrqg4huupqhax.jpeg?q=70\"/></div></div></li><li class=\"_20Gt85 _1Y_A6W\" style=\"height:64px\"><div class=\"_1AuMiq\"><div class=\"_2E1FGS\"><img class=\"q6DClP\" src=\"https://rukminim2.flixcart.com/image/128/128/xif0q/mobile/k/i/p/-original-imagnfnnbhzwfxej.jpeg?q=70\"/></div></div></li><li class=\"_20Gt85 _1Y_A6W\" style=\"height:64px\"><div class=\"_1AuMiq\"><div class=\"_2E1FGS\"><img class=\"q6DClP\" src=\"https://rukminim2.flixcart.com/image/128/128/xif0q/mobile/b/e/v/-original-imagrqg4vebjseuw.jpeg?q=70\"/></div></div></li><li class=\"_20Gt85 _1Y_A6W\" style=\"height:64px\"><div class=\"_1AuMiq\"><div class=\"_2E1FGS\"><img class=\"q6DClP\" src=\"https://rukminim2.flixcart.com/image/128/128/xif0q/mobile/2/c/0/-original-imagrqg45zkfpgem.jpeg?q=70\"/></div></div></li><li class=\"_20Gt85 _1Y_A6W\" style=\"height:64px\"><div class=\"_1AuMiq\"><div class=\"_2E1FGS\"><img class=\"q6DClP\" src=\"https://rukminim2.flixcart.com/image/128/128/xif0q/mobile/d/g/w/-original-imagrqg4zrukpdjv.jpeg?q=70\"/></div></div></li><li class=\"_20Gt85 _1Y_A6W\" style=\"height:64px\"><div class=\"_1AuMiq\"><div class=\"_2E1FGS\"><img class=\"q6DClP\" src=\"https://rukminim2.flixcart.com/image/128/128/xif0q/mobile/o/w/u/-original-imagnfnnpc9ewabp.jpeg?q=70\"/></div></div></li><li class=\"_20Gt85 _1Y_A6W\" style=\"height:64px\"><div class=\"_1AuMiq\"><div class=\"_2E1FGS\"><img class=\"q6DClP\" src=\"https://rukminim2.flixcart.com/image/128/128/xif0q/mobile/x/e/d/-original-imagnfnnyy8rwpsq.jpeg?q=70\"/></div></div></li></ul></div><div class=\"_1VfWRb _3jywji YTKFIp\"><svg class=\"_1YdSSj\" height=\"15\" viewbox=\"0 0 16 27\" width=\"8\" xmlns=\"http://www.w3.org/2000/svg\"><path class=\"\" d=\"M16 23.207L6.11 13.161 16 3.093 12.955 0 0 13.161l12.955 13.161z\" fill=\"#000\"></path></svg></div><div class=\"_1VfWRb VnysFO\"><svg class=\"_1YdSSj\" height=\"15\" viewbox=\"0 0 16 27\" width=\"8\" xmlns=\"http://www.w3.org/2000/svg\"><path class=\"\" d=\"M16 23.207L6.11 13.161 16 3.093 12.955 0 0 13.161l12.955 13.161z\" fill=\"#000\"></path></svg></div></div></div><div class=\"_1BweB8\"><div class=\"_3kidJX\"><div class=\"_3A1TYz\" style=\"height:0;width:0\"></div><div class=\"CXW8mj _3nMexc\" style=\"height:inherit;width:inherit\"><img alt=\"Infinix SMART 7 (Emerald Green, 128 GB)\" class=\"_396cs4 _2amPTt _3qGmMb\" loading=\"eager\" src=\"https://rukminim2.flixcart.com/image/416/416/xif0q/mobile/6/a/d/-original-imagrqg4uruhwuza.jpeg?q=70\" srcset=\"https://rukminim2.flixcart.com/image/832/832/xif0q/mobile/6/a/d/-original-imagrqg4uruhwuza.jpeg?q=70 2x, https://rukminim2.flixcart.com/image/416/416/xif0q/mobile/6/a/d/-original-imagrqg4uruhwuza.jpeg?q=70 1x\"/></div></div><div class=\"bXrC_t\" style=\"left:0;width:0;height:0\"><img class=\"_3_UeBw\"/></div></div></div><div class=\"_2hVSre _25_uYi\"><div class=\"_36FSn5\"><svg class=\"_1l0elc\" height=\"16\" viewbox=\"0 0 20 16\" width=\"16\" xmlns=\"http://www.w3.org/2000/svg\"><path class=\"eX72wL\" d=\"M8.695 16.682C4.06 12.382 1 9.536 1 6.065 1 3.219 3.178 1 5.95 1c1.566 0 3.069.746 4.05 1.915C10.981 1.745 12.484 1 14.05 1 16.822 1 19 3.22 19 6.065c0 3.471-3.06 6.316-7.695 10.617L10 17.897l-1.305-1.215z\" fill=\"#2874F0\" fill-rule=\"evenodd\" opacity=\".9\" stroke=\"#FFF\"></path></svg></div></div></div></div><div class=\"_1AtVbE col-12-12\"><div class=\"_1p3MFP dTTu2M\"><ul class=\"row\"><li class=\"col col-6-12\"><button class=\"_2KpZ6l _2U9uOA _3v1-ww\"><svg class=\"_1KOMV2\" height=\"16\" viewbox=\"0 0 16 15\" width=\"16\" xmlns=\"http://www.w3.org/2000/svg\"><path class=\"\" d=\"M15.32 2.405H4.887C3 2.405 2.46.805 2.46.805L2.257.21C2.208.085 2.083 0 1.946 0H.336C.1 0-.064.24.024.46l.644 1.945L3.11 9.767c.047.137.175.23.32.23h8.418l-.493 1.958H3.768l.002.003c-.017 0-.033-.003-.05-.003-1.06 0-1.92.86-1.92 1.92s.86 1.92 1.92 1.92c.99 0 1.805-.75 1.91-1.712l5.55.076c.12.922.91 1.636 1.867 1.636 1.04 0 1.885-.844 1.885-1.885 0-.866-.584-1.593-1.38-1.814l2.423-8.832c.12-.433-.206-.86-.655-.86\" fill=\"#fff\"></path></svg> <!-- -->Add to cart</button></li><li class=\"col col-6-12\"><form><button class=\"_2KpZ6l _2U9uOA ihZ75k _3AWRsL\" type=\"button\"><span class=\"_3iRXzi\"></span> <!-- -->Buy Now</button></form></li></ul></div></div><div class=\"_1AtVbE col-12-12\"></div></div><div class=\"_1YokD2 _3Mn1Gg col-8-12\" style=\"padding:0px 0px 0px 24px\"><div class=\"_1YokD2 _2GoDe3\"><div class=\"_1AtVbE\" style=\"flex-grow:1;overflow:auto\"><div class=\"_1MR4o5\"><div class=\"_3GIHBu\"><a class=\"_2whKao\" href=\"/?otracker=product_breadCrumbs_Home\">Home</a><svg class=\"_39X-Og\" height=\"27\" viewbox=\"0 0 16 27\" width=\"16\" xmlns=\"http://www.w3.org/2000/svg\"><path class=\"DpXnhQ\" d=\"M16 23.207L6.11 13.161 16 3.093 12.955 0 0 13.161l12.955 13.161z\" fill=\"#fff\"></path></svg></div><div class=\"_3GIHBu\"><a class=\"_2whKao\" href=\"/mobiles-accessories/pr?sid=tyy&amp;marketplace=FLIPKART&amp;otracker=product_breadCrumbs_Mobiles+%26+Accessories\">Mobiles &amp; Accessories</a><svg class=\"_39X-Og\" height=\"27\" viewbox=\"0 0 16 27\" width=\"16\" xmlns=\"http://www.w3.org/2000/svg\"><path class=\"DpXnhQ\" d=\"M16 23.207L6.11 13.161 16 3.093 12.955 0 0 13.161l12.955 13.161z\" fill=\"#fff\"></path></svg></div><div class=\"_3GIHBu\"><a class=\"_2whKao\" href=\"/mobiles/pr?sid=tyy,4io&amp;marketplace=FLIPKART&amp;otracker=product_breadCrumbs_Mobiles\">Mobiles</a><svg class=\"_39X-Og\" height=\"27\" viewbox=\"0 0 16 27\" width=\"16\" xmlns=\"http://www.w3.org/2000/svg\"><path class=\"DpXnhQ\" d=\"M16 23.207L6.11 13.161 16 3.093 12.955 0 0 13.161l12.955 13.161z\" fill=\"#fff\"></path></svg></div><div class=\"_3GIHBu\"><a class=\"_2whKao\" href=\"/mobiles/infinix~brand/pr?sid=tyy,4io&amp;marketplace=FLIPKART&amp;otracker=product_breadCrumbs_Infinix+Mobiles\">Infinix Mobiles</a><svg class=\"_39X-Og\" height=\"27\" viewbox=\"0 0 16 27\" width=\"16\" xmlns=\"http://www.w3.org/2000/svg\"><path class=\"DpXnhQ\" d=\"M16 23.207L6.11 13.161 16 3.093 12.955 0 0 13.161l12.955 13.161z\" fill=\"#fff\"></path></svg></div><div class=\"_3GIHBu\"><div class=\"_1LJS6T _2whKao _1QoaG0\"><div class=\"_2NKhZn\"><p>Infinix SMART 7 (Emerald Green, 128 GB) (4 GB RAM)</p>\n",
       "</div></div><svg class=\"_39X-Og\" height=\"27\" viewbox=\"0 0 16 27\" width=\"16\" xmlns=\"http://www.w3.org/2000/svg\"><path class=\"DpXnhQ\" d=\"M16 23.207L6.11 13.161 16 3.093 12.955 0 0 13.161l12.955 13.161z\" fill=\"#fff\"></path></svg></div></div></div><div class=\"_1AtVbE col-12-12\" style=\"flex:0 0 90px;max-width:90px\"><div class=\"_3PzNI- _3EPyR5\"><span class=\"f3A4_V\"><label class=\"_2iDkf8\"><input class=\"_30VH1S\" readonly=\"\" type=\"checkbox\"/><div class=\"_24_Dny\"></div></label></span><label class=\"_6Up2sF\">Compare</label></div></div><div class=\"_1AtVbE col-12-12\" style=\"flex:0 0 90px;max-width:90px\"><div class=\"_1GpbsQ\"><div class=\"Bv11UC\"><span class=\"\"><span class=\"_2kXMeX\"><svg class=\"Kj-yxs\" height=\"18\" width=\"18\" xmlns=\"http://www.w3.org/2000/svg\"><path class=\"_2bvlkb\" d=\"M14.78 5.883L9.032 0v3.362C3.284 4.202.822 8.404 0 12.606 2.053 9.666 4.927 8.32 9.032 8.32v3.446l5.748-5.883z\" fill=\"#c2c2c2\" fill-rule=\"evenodd\"></path></svg><span style=\"margin-left:5px\">Share</span></span></span></div></div></div></div><div class=\"_1AtVbE col-12-12\"><div class=\"aMaAEs\"><div><h1 class=\"yhB1nd\"><span class=\"B_NuCI\">Infinix SMART 7 (Emerald Green, 128 GB)<!-- -->  (4 GB RAM)</span></h1><span class=\"yhB1nd GXgmTe\">#JustHere</span></div><div class=\"\"><div class=\"_3_L3jD\"><div class=\"gUuXy- _16VRIQ\"><span class=\"_1lRcqv\" id=\"productRating_LSTMOBGRH6YM3KZXNWFSJXTYT_MOBGRH6YM3KZXNWF_\"><div class=\"_3LWZlK\">4.3<img class=\"_1wB99o\" src=\"data:image/svg+xml;base64,PHN2ZyB4bWxucz0iaHR0cDovL3d3dy53My5vcmcvMjAwMC9zdmciIHdpZHRoPSIxMyIgaGVpZ2h0PSIxMiI+PHBhdGggZmlsbD0iI0ZGRiIgZD0iTTYuNSA5LjQzOWwtMy42NzQgMi4yMy45NC00LjI2LTMuMjEtMi44ODMgNC4yNTQtLjQwNEw2LjUuMTEybDEuNjkgNC4wMSA0LjI1NC40MDQtMy4yMSAyLjg4Mi45NCA0LjI2eiIvPjwvc3ZnPg==\"/></div></span><span class=\"_2_R_DZ\"><span><span>59,018 Ratings </span><span class=\"_13vcmD\">&amp;</span><span> 2,873 Reviews</span></span></span></div></div><span class=\"b7864- _2Z07dN\"><img class=\"jMnjzX\" height=\"21\" src=\"//static-assets-web.flixcart.com/fk-p-linchpin-web/fk-cp-zion/img/fa_62673a.png\"/></span></div><div class=\"dyC4hf\"><div class=\"CEmiEU\"><div class=\"_25b18c\"><div class=\"_30jeq3 _16Jk6d\">₹7,799</div><div class=\"_3I9_wc _2p6lqe\">₹<!-- -->10,999</div><div class=\"_3Ay6Sb _31Dcoz\"><span>29% off</span></div></div></div><div class=\"_1V9q7_\"><div class=\"_25icda\" id=\"price-info-icon\"><svg class=\"_3ECE0V\" height=\"20\" viewbox=\"0 0 20 20\" width=\"20\" xmlns=\"http://www.w3.org/2000/svg\"><defs><circle cx=\"8\" cy=\"8\" id=\"b\" r=\"8\"></circle><filter filterunits=\"objectBoundingBox\" height=\"130%\" id=\"a\" width=\"130%\" x=\"-15%\" y=\"-8.8%\"><femorphology in=\"SourceAlpha\" operator=\"dilate\" radius=\".4\" result=\"shadowSpreadOuter1\"></femorphology><feoffset dy=\"1\" in=\"shadowSpreadOuter1\" result=\"shadowOffsetOuter1\"></feoffset><fegaussianblur in=\"shadowOffsetOuter1\" result=\"shadowBlurOuter1\" stddeviation=\".5\"></fegaussianblur><fecomposite in=\"shadowBlurOuter1\" in2=\"SourceAlpha\" operator=\"out\" result=\"shadowBlurOuter1\"></fecomposite><fecolormatrix in=\"shadowBlurOuter1\" values=\"0 0 0 0 0 0 0 0 0 0 0 0 0 0 0 0 0 0 0.2 0\"></fecolormatrix></filter></defs><g fill=\"none\" fill-rule=\"evenodd\"><g transform=\"translate(2 1)\"><use fill=\"#000\" filter=\"url(#a)\" xlink:href=\"#b\"></use><use fill=\"#FCFCFC\" stroke=\"#000\" stroke-opacity=\".3\" stroke-width=\".8\" xlink:href=\"#b\"></use></g><text fill=\"#1D1D1D\" font-family=\"Roboto-Medium, Roboto\" font-size=\"11\" font-weight=\"400\" opacity=\".59\" transform=\"translate(2 1)\"><tspan x=\"6.6\" y=\"12.2\">i</tspan></text></g></svg></div></div></div><div class=\"wjKmXL\"><li>+ ₹29 Secured Packaging Fee</li></div></div></div><div class=\"_1AtVbE col-12-12\"><div class=\"_3Z0lU8\"><div class=\"rd9nIL\">Available offers</div></div><div class=\"_3TT44I\"><div class=\"WT_FyS\"><div class=\"XUp0WS\"><span class=\"_3j4Zjq row\"><img class=\"_3HLfAg\" height=\"18\" src=\"https://rukminim2.flixcart.com/www/36/36/promos/06/09/2016/c22c9fc4-0555-4460-8401-bf5c28d7ba29.png?q=90\" width=\"18\"/><li class=\"_16eBzU col\"><span class=\"u8dYXW\">Bank Offer</span><span>10% Upto ₹700 off on Axis Bank Credit and Debit Card Transactions</span><div class=\"Bv11UC _1qNw3R\"><span class=\"fGhUR2\">T&amp;C</span></div></li></span><span class=\"_3j4Zjq row\"><img class=\"_3HLfAg\" height=\"18\" src=\"https://rukminim2.flixcart.com/www/36/36/promos/06/09/2016/c22c9fc4-0555-4460-8401-bf5c28d7ba29.png?q=90\" width=\"18\"/><li class=\"_16eBzU col\"><span class=\"u8dYXW\">Bank Offer</span><span>5% Cashback on Flipkart Axis Bank Card</span><div class=\"Bv11UC _1qNw3R\"><span class=\"fGhUR2\">T&amp;C</span></div></li></span><span class=\"_3j4Zjq row\"><img class=\"_3HLfAg\" height=\"18\" src=\"https://rukminim2.flixcart.com/www/36/36/promos/06/09/2016/c22c9fc4-0555-4460-8401-bf5c28d7ba29.png?q=90\" width=\"18\"/><li class=\"_16eBzU col\"><span>Extra ₹500 Off on Bikes &amp; Scooters on purchase of ₹30,000 or more</span><div class=\"Bv11UC _1qNw3R\"><span class=\"fGhUR2\">T&amp;C</span></div></li></span><span class=\"_3j4Zjq row\"><img class=\"_3HLfAg\" height=\"18\" src=\"https://rukminim2.flixcart.com/www/36/36/promos/06/09/2016/c22c9fc4-0555-4460-8401-bf5c28d7ba29.png?q=90\" width=\"18\"/><li class=\"_16eBzU col\"><span class=\"u8dYXW\">Partner Offer</span><span>Sign-up for Flipkart Pay Later &amp; get free Times Prime Benefits worth ₹10,000*</span><div class=\"Bv11UC _1qNw3R\"><span class=\"fGhUR2\">Know More</span></div></li></span></div><button class=\"_1JIkBw\"><div class=\"row\"><div class=\"IMZJg1\"><span>View 2 more offers</span></div></div></button></div></div></div><div class=\"_1AtVbE col-12-12\" style=\"padding:24px 0px 24px 0px\"><div class=\"_32JtDB\"><label class=\"_2Fn-Ln XB6mmk _11ogoE _3L7Pww\" for=\"BUY_WITHOUT_EXCHANGE\"><input checked=\"\" class=\"_3DAmyP\" id=\"BUY_WITHOUT_EXCHANGE\" name=\"exchange-options\" readonly=\"\" type=\"radio\"/><div class=\"_1XFPmK\"></div><div class=\"_2jIO64 _3JGmY_\"><div checked=\"\" data-checked=\"true\" data-disabled=\"false\"><div class=\"_2CxnBI\"><div>Buy without Exchange</div><div class=\"_17Rl6L\">₹7,799</div></div></div></div></label><label class=\"_2Fn-Ln XB6mmk _2LcXZ-\" for=\"BUY_WITH_EXCHANGE\"><input class=\"_3DAmyP\" disabled=\"\" id=\"BUY_WITH_EXCHANGE\" name=\"exchange-options\" readonly=\"\" type=\"radio\"/><div class=\"_1XFPmK\"></div><div class=\"_2jIO64 _3JGmY_\"><div data-checked=\"false\" data-disabled=\"true\" disabled=\"\"><div class=\"_2CxnBI\"><div>Buy with Exchange</div><div class=\"_17Rl6L\">up to ₹7,250 off</div></div><div class=\"_2Tpdn3 _1Y11nq\" style=\"color:#FF0000\">Enter pincode to check if exchange is available</div></div></div></label></div></div><div class=\"_1AtVbE col-12-12\"><div class=\"_1UdlE-\"><div class=\"_4ju5o2\"><div class=\"_3nWYNs\"><img src=\"https://rukminim2.flixcart.com/image/160/160/cms-brand/aa7d76c3409fb62e94521c504f80c012bae0a0f6ac61c179327aa3ef577c8ffd.jpg?q=90\"/></div></div><div class=\"XcYV4g\"><div class=\"_352bdz\">1 Year on Handset and 6 Months on Accessories</div></div></div></div><div class=\"_1AtVbE col-12-12\"><div class=\"_3wmLAA\"><div class=\"ffYZ17 col col-6-12\"><div class=\"_22QfJJ\"><span class=\"_1rcQuH\" id=\"Color\">Color</span><div><ul class=\"_1q8vHb\"><li class=\"_3V2wfe\" id=\"swatch-0-color\"><a class=\"kmlXmn\" data-img=\"http://rukmini1.flixcart.com/image/{@width}/{@height}/xif0q/mobile/c/t/4/-original-imagrqg4ahf36sng.jpeg?q={@quality}\" href=\"/infinix-smart-7-azure-blue-128-gb/p/itm7b72b66485a59?pid=MOBGRH6Y386CENMX&amp;lid=LSTMOBGRH6Y386CENMXT973RF&amp;marketplace=FLIPKART&amp;q=mobile&amp;sattr[]=color&amp;sattr[]=storage&amp;st=color\"><div class=\"_2C41yO\" data-img=\"http://rukmini1.flixcart.com/image/{@width}/{@height}/xif0q/mobile/c/t/4/-original-imagrqg4ahf36sng.jpeg?q={@quality}\"><img class=\"_30PAEw\" src=\"https://rukminim2.flixcart.com/image/144/144/xif0q/mobile/c/t/4/-original-imagrqg4ahf36sng.jpeg?q=50\"/></div></a><div class=\"_2OTVHf _3NVE7n _1mQK5h _2J-DXM\"><div class=\"_3Oikkn _3_ezix _2KarXJ\">Azure Blue</div></div></li><li class=\"_3V2wfe\" id=\"swatch-1-color\"><a class=\"kmlXmn PP89tw\" data-img=\"http://rukmini1.flixcart.com/image/{@width}/{@height}/xif0q/mobile/6/a/d/-original-imagrqg4uruhwuza.jpeg?q={@quality}\" href=\"/infinix-smart-7-emerald-green-128-gb/p/itm7b72b66485a59?pid=MOBGRH6YM3KZXNWF&amp;lid=LSTMOBGRH6YM3KZXNWFSJXTYT&amp;marketplace=FLIPKART&amp;q=mobile&amp;sattr[]=color&amp;sattr[]=storage&amp;st=color\"><div class=\"_2C41yO\" data-img=\"http://rukmini1.flixcart.com/image/{@width}/{@height}/xif0q/mobile/6/a/d/-original-imagrqg4uruhwuza.jpeg?q={@quality}\"><img class=\"_30PAEw\" src=\"https://rukminim2.flixcart.com/image/144/144/xif0q/mobile/6/a/d/-original-imagrqg4uruhwuza.jpeg?q=50\"/></div></a><div class=\"_2OTVHf _3NVE7n _1mQK5h _2J-DXM\"><div class=\"_3Oikkn _3_ezix _2KarXJ\">Emerald Green</div></div></li><li class=\"_3V2wfe\" id=\"swatch-2-color\"><a class=\"kmlXmn\" data-img=\"http://rukmini1.flixcart.com/image/{@width}/{@height}/xif0q/mobile/q/p/c/-original-imagrqg4tzgvvjzy.jpeg?q={@quality}\" href=\"/infinix-smart-7-night-black-128-gb/p/itm7b72b66485a59?pid=MOBGRH6YCHF2XEFB&amp;lid=LSTMOBGRH6YCHF2XEFBXFULMV&amp;marketplace=FLIPKART&amp;q=mobile&amp;sattr[]=color&amp;sattr[]=storage&amp;st=color\"><div class=\"_2C41yO\" data-img=\"http://rukmini1.flixcart.com/image/{@width}/{@height}/xif0q/mobile/q/p/c/-original-imagrqg4tzgvvjzy.jpeg?q={@quality}\"><img class=\"_30PAEw\" src=\"https://rukminim2.flixcart.com/image/144/144/xif0q/mobile/q/p/c/-original-imagrqg4tzgvvjzy.jpeg?q=50\"/></div></a><div class=\"_2OTVHf _3NVE7n _1mQK5h _2J-DXM\"><div class=\"_3Oikkn _3_ezix _2KarXJ\">Night Black</div></div></li></ul></div></div><div class=\"_2OTVHf _3duxeq z0fG_Y _1mQK5h _3MaULO _2wPDps\"><div class=\"_3Oikkn _3_ezix\"><span>Please select a Color to proceed</span><button class=\"_2KpZ6l FYrnUt\">✕</button></div></div></div><div class=\"ffYZ17 col col-6-12\"><div class=\"_22QfJJ\"><span class=\"_1rcQuH\" id=\"Storage\">Storage</span><div><ul class=\"_1q8vHb\"><li class=\"_3V2wfe\" id=\"swatch-0-storage\"><a class=\"_1fGeJ5\" href=\"/infinix-smart-7-emerald-green-64-gb/p/itm7b72b66485a59?pid=MOBGMTW2HFCMQY35&amp;lid=LSTMOBGMTW2HFCMQY35IUSXY9&amp;marketplace=FLIPKART&amp;q=mobile&amp;sattr[]=color&amp;sattr[]=storage&amp;st=storage\">64 GB</a><div class=\"_2OTVHf _3NVE7n _1mQK5h _2J-DXM\"><div class=\"_3Oikkn _3_ezix _2KarXJ\">64 GB</div></div></li><li class=\"_3V2wfe\" id=\"swatch-1-storage\"><a class=\"_1fGeJ5 PP89tw\" href=\"/infinix-smart-7-emerald-green-128-gb/p/itm7b72b66485a59?pid=MOBGRH6YM3KZXNWF&amp;lid=LSTMOBGRH6YM3KZXNWFSJXTYT&amp;marketplace=FLIPKART&amp;q=mobile&amp;sattr[]=color&amp;sattr[]=storage&amp;st=storage\">128 GB</a><div class=\"_2OTVHf _3NVE7n _1mQK5h _2J-DXM\"><div class=\"_3Oikkn _3_ezix _2KarXJ\">128 GB</div></div></li></ul></div></div><div class=\"_2OTVHf _3duxeq z0fG_Y _1mQK5h _3MaULO _2wPDps\"><div class=\"_3Oikkn _3_ezix\"><span>Please select a Storage to proceed</span><button class=\"_2KpZ6l FYrnUt\">✕</button></div></div></div></div></div><div class=\"_1AtVbE col-12-12\"><div class=\"row _2WVRLm\"><div class=\"col col-12-12\"><div class=\"_1PQN-K\"><div class=\"_2taUHM\">Delivery</div><div class=\"_24N3im\"><div class=\"_1tgazt _1LO0H9\"><div class=\"bTgKY7 _16ocF5\"></div><div class=\"_2u50Np\"><div class=\"hivXmn _1_74WS\"><svg class=\"_1kbGNj\" height=\"12\" viewbox=\"0 0 9 12\" width=\"12\" xmlns=\"http://www.w3.org/2000/svg\"><path class=\"_6xm1dD\" d=\"M4.2 5.7c-.828 0-1.5-.672-1.5-1.5 0-.398.158-.78.44-1.06.28-.282.662-.44 1.06-.44.828 0 1.5.672 1.5 1.5 0 .398-.158.78-.44 1.06-.28.282-.662.44-1.06.44zm0-5.7C1.88 0 0 1.88 0 4.2 0 7.35 4.2 12 4.2 12s4.2-4.65 4.2-7.8C8.4 1.88 6.52 0 4.2 0z\" fill=\"#2874f0\" fill-rule=\"evenodd\"></path></svg><form autocomplete=\"off\" class=\"N79-rD\"><input class=\"_36yFo0\" id=\"pincodeInputId\" maxlength=\"6\" placeholder=\"Enter Delivery Pincode\" type=\"text\" value=\"\"/></form><div class=\"_2YsvKq _2ggyDI _16ocF5\"><svg class=\"_2LJFE8\" viewbox=\"25 25 50 50\"><circle class=\"_2XJHnB\" cx=\"50\" cy=\"50\" fill=\"none\" r=\"10\" stroke=\"#0057e7\" stroke-miterlimit=\"10\" stroke-width=\"3\"></circle></svg></div><span class=\"_2P_LDn\">Check<div class=\"_2OTVHf _1Hhkx7 _1mQK5h _3BB7xg _3yvRQZ\"><div class=\"_3Oikkn _3_ezix _3Hbb-8\">Enter pincode</div></div></span></div></div></div></div></div><div class=\"_1SLzzw\"><div class=\"_1OUluu\"><ul class=\"eWlq4L\"><div class=\"_20XEBf\"><div class=\"_3XINqE\">Delivery by<span class=\"_1TPvTK\">19 Aug, Saturday</span><span class=\"_2-oumo\">|</span><span class=\"_1rQTjC\">Free</span><span class=\"_2W3miC _2n0ivQ\">₹<!-- -->40</span><div class=\"Bv11UC\"><span class=\"question\">?</span></div></div><div class=\"_1dXn7l\">if ordered before 6:15 PM</div></div></ul></div><div class=\"_2O5gut\"><span class=\"YxlyDn\">View Details</span></div></div></div></div></div><div class=\"_1YokD2 _2GoDe3\" style=\"padding:24px 0px 0px 0px\"><div class=\"_1AtVbE col-6-12\"><div class=\"_2cM9lP\"><div class=\"_3a9CI2\">Highlights</div><div class=\"_2418kt\"><ul><li class=\"_21Ahn-\">4 GB RAM | 128 GB ROM | Expandable Upto 512 GB</li><li class=\"_21Ahn-\">16.76 cm (6.6 inch) HD+ Display</li><li class=\"_21Ahn-\">13MP + AI Lens | 5MP Front Camera</li><li class=\"_21Ahn-\">6000 mAh Battery</li><li class=\"_21Ahn-\">Unisoc Spreadtrum SC9863A1 Processor</li></ul></div></div></div><div class=\"_1AtVbE col-6-12\"><div class=\"_3vDXYV flex\"><div class=\"Yd8aaW\">Easy Payment Options</div><div class=\"_250Jnj\"><ul><li class=\"_1Ma4bX\">EMI starting from ₹275/month</li><li class=\"_1Ma4bX\">Cash on Delivery</li><li class=\"_1Ma4bX\">Net banking &amp; Credit/ Debit/ ATM card</li></ul><div class=\"_20cDxP\">View Details</div></div></div></div></div><div class=\"_1YokD2 _3Mn1Gg\"><div class=\"_1AtVbE col-12-12\"><div class=\"_1iWRKW\"><div class=\"_1jneHk\"><span>Seller</span></div><div><div class=\"_1RLviY\" id=\"sellerName\"><span><span>Flashstar Commerce</span><div class=\"_3LWZlK _1D-8OL\">4.8<img class=\"_1wB99o\" src=\"data:image/svg+xml;base64,PHN2ZyB4bWxucz0iaHR0cDovL3d3dy53My5vcmcvMjAwMC9zdmciIHdpZHRoPSIxMyIgaGVpZ2h0PSIxMiI+PHBhdGggZmlsbD0iI0ZGRiIgZD0iTTYuNSA5LjQzOWwtMy42NzQgMi4yMy45NC00LjI2LTMuMjEtMi44ODMgNC4yNTQtLjQwNEw2LjUuMTEybDEuNjkgNC4wMSA0LjI1NC40MDQtMy4yMSAyLjg4Mi45NCA0LjI2eiIvPjwvc3ZnPg==\"/></div></span></div><div class=\"xDHSrl\"><ul class=\"_2-RJLI\"><li class=\"_1UNqMC\"><div class=\"_2MJMLX\">7 Days Service Center Replacement/Repair<div class=\"Bv11UC\"><span class=\"question\">?</span></div></div></li></ul></div><li class=\"_38I6QT\"><a href=\"/sellers?pid=MOBGRH6YM3KZXNWF&amp;otracker=AS_QueryStore_OrganicAutoSuggest_1_2_na_na_na&amp;fetchId=6f77e185-3ad5-4f27-8b38-92d41f146382.MOBGRH6YM3KZXNWF\"><div class=\"_1_xoMS\">See other sellers</div></a></li></div></div></div><div class=\"_1YokD2 _2GoDe3\" style=\"padding:24px 0px 0px 0px\"><div class=\"_1AtVbE col-6-12\" style=\"padding:0px 12px 0px 0px\"><div><div class=\"_2xlWlq\"><div class=\"_3ywSr_\" style=\"padding-top:23.89%\"><div class=\"_1bEAQy _312yBx\" style=\"padding-top:23.89%\"><img alt=\"\" class=\"_2OHU_q\"/><img alt=\"\" class=\"kJjFO0 _3DIhEh\" src=\"https://rukminim2.flixcart.com/lockin/100/100/images/CCO__PP_2019-07-14.png?q=50\"/></div></div></div></div></div></div><div class=\"_1AtVbE col-12-12\"><div class=\"_3nkT-2\"><div class=\"_3cFJ8l\">Description</div><div class=\"_2o-xpa\"><div class=\"_1mXcCf RmoJUa\">NA</div><div class=\"_2RbGAi _1Gh8xC\"><div class=\"Dh6Djs\"></div></div></div><div class=\"_2eaE_9 _1Gh8xC\">Read More</div></div></div><div class=\"_1AtVbE col-12-12\"><div class=\"_3dtsli\"><div class=\"_5pFuey\">Specifications</div><div><div class=\"_1UhVsV _3AsE0T\"><div class=\"_3k-BhJ\"><div class=\"flxcaE\">General</div><table class=\"_14cfVK\"><tbody><tr class=\"_1s_Smc row\"><td class=\"_1hKmbr col col-3-12\">In The Box</td><td class=\"URwL2w col col-9-12\"><ul><li class=\"_21lJbe\">Handset, Adaptor, USB Type-C Cable, TPU Case, Sim Ejector Pin, Quick Start Guide, Warranty Card, Xclub Card</li></ul></td></tr><tr class=\"_1s_Smc row\"><td class=\"_1hKmbr col col-3-12\">Model Number</td><td class=\"URwL2w col col-9-12\"><ul><li class=\"_21lJbe\">X6517</li></ul></td></tr><tr class=\"_1s_Smc row\"><td class=\"_1hKmbr col col-3-12\">Model Name</td><td class=\"URwL2w col col-9-12\"><ul><li class=\"_21lJbe\">SMART 7</li></ul></td></tr><tr class=\"_1s_Smc row\"><td class=\"_1hKmbr col col-3-12\">Color</td><td class=\"URwL2w col col-9-12\"><ul><li class=\"_21lJbe\">Emerald Green</li></ul></td></tr><tr class=\"_1s_Smc row\"><td class=\"_1hKmbr col col-3-12\">Browse Type</td><td class=\"URwL2w col col-9-12\"><ul><li class=\"_21lJbe\">Smartphones</li></ul></td></tr><tr class=\"_1s_Smc row\"><td class=\"_1hKmbr col col-3-12\">SIM Type</td><td class=\"URwL2w col col-9-12\"><ul><li class=\"_21lJbe\">Dual Sim</li></ul></td></tr><tr class=\"_1s_Smc row\"><td class=\"_1hKmbr col col-3-12\">Hybrid Sim Slot</td><td class=\"URwL2w col col-9-12\"><ul><li class=\"_21lJbe\">No</li></ul></td></tr><tr class=\"_1s_Smc row\"><td class=\"_1hKmbr col col-3-12\">Touchscreen</td><td class=\"URwL2w col col-9-12\"><ul><li class=\"_21lJbe\">Yes</li></ul></td></tr><tr class=\"_1s_Smc row\"><td class=\"_1hKmbr col col-3-12\">OTG Compatible</td><td class=\"URwL2w col col-9-12\"><ul><li class=\"_21lJbe\">Yes</li></ul></td></tr></tbody></table></div><div class=\"_3k-BhJ\"><div class=\"flxcaE\">Display Features</div><table class=\"_14cfVK\"><tbody><tr class=\"_1s_Smc row\"><td class=\"_1hKmbr col col-3-12\">Display Size</td><td class=\"URwL2w col col-9-12\"><ul><li class=\"_21lJbe\">16.76 cm (6.6 inch)</li></ul></td></tr><tr class=\"_1s_Smc row\"><td class=\"_1hKmbr col col-3-12\">Resolution</td><td class=\"URwL2w col col-9-12\"><ul><li class=\"_21lJbe\">1612 x 720 Pixels</li></ul></td></tr><tr class=\"_1s_Smc row\"><td class=\"_1hKmbr col col-3-12\">Resolution Type</td><td class=\"URwL2w col col-9-12\"><ul><li class=\"_21lJbe\">HD+</li></ul></td></tr><tr class=\"_1s_Smc row\"><td class=\"_1hKmbr col col-3-12\">Display Type</td><td class=\"URwL2w col col-9-12\"><ul><li class=\"_21lJbe\">HD+ IPS Display</li></ul></td></tr><tr class=\"_1s_Smc row\"><td class=\"_1hKmbr col col-3-12\">Other Display Features</td><td class=\"URwL2w col col-9-12\"><ul><li class=\"_21lJbe\">Refresh Rate: 60Hz, Touch Sampling Rate: 120Hz, Brightness: Upto 500 Nits, Color Contrast Ratio: 1500:1, Auto Brightness Control: 1 to 4096 Nits</li></ul></td></tr></tbody></table></div><div class=\"_3k-BhJ\"><div class=\"flxcaE\">Os &amp; Processor Features</div><table class=\"_14cfVK\"><tbody><tr class=\"_1s_Smc row\"><td class=\"_1hKmbr col col-3-12\">Operating System</td><td class=\"URwL2w col col-9-12\"><ul><li class=\"_21lJbe\">Android 12</li></ul></td></tr><tr class=\"_1s_Smc row\"><td class=\"_1hKmbr col col-3-12\">Processor Type</td><td class=\"URwL2w col col-9-12\"><ul><li class=\"_21lJbe\">Unisoc Spreadtrum SC9863A1</li></ul></td></tr><tr class=\"_1s_Smc row\"><td class=\"_1hKmbr col col-3-12\">Processor Core</td><td class=\"URwL2w col col-9-12\"><ul><li class=\"_21lJbe\">Octa Core</li></ul></td></tr><tr class=\"_1s_Smc row\"><td class=\"_1hKmbr col col-3-12\">Primary Clock Speed</td><td class=\"URwL2w col col-9-12\"><ul><li class=\"_21lJbe\">1.6 GHz</li></ul></td></tr><tr class=\"_1s_Smc row\"><td class=\"_1hKmbr col col-3-12\">Operating Frequency</td><td class=\"URwL2w col col-9-12\"><ul><li class=\"_21lJbe\">2G GSM: B2/B3/B5/B8, 3G WCDMA: B1/B5/B8, 4G LTE: B1/B3/B5/B8/B38/B40/B41 (120M)</li></ul></td></tr></tbody></table></div><div class=\"_3k-BhJ\"><div class=\"flxcaE\">Memory &amp; Storage Features</div><table class=\"_14cfVK\"><tbody><tr class=\"_1s_Smc row\"><td class=\"_1hKmbr col col-3-12\">Internal Storage</td><td class=\"URwL2w col col-9-12\"><ul><li class=\"_21lJbe\">128 GB</li></ul></td></tr><tr class=\"_1s_Smc row\"><td class=\"_1hKmbr col col-3-12\">RAM</td><td class=\"URwL2w col col-9-12\"><ul><li class=\"_21lJbe\">4 GB</li></ul></td></tr><tr class=\"_1s_Smc row\"><td class=\"_1hKmbr col col-3-12\">Expandable Storage</td><td class=\"URwL2w col col-9-12\"><ul><li class=\"_21lJbe\">512 GB</li></ul></td></tr><tr class=\"_1s_Smc row\"><td class=\"_1hKmbr col col-3-12\">Supported Memory Card Type</td><td class=\"URwL2w col col-9-12\"><ul><li class=\"_21lJbe\">MicroSD</li></ul></td></tr><tr class=\"_1s_Smc row\"><td class=\"_1hKmbr col col-3-12\">Memory Card Slot Type</td><td class=\"URwL2w col col-9-12\"><ul><li class=\"_21lJbe\">Dedicated Slot</li></ul></td></tr><tr class=\"_1s_Smc row\"><td class=\"_1hKmbr col col-3-12\">Call Log Memory</td><td class=\"URwL2w col col-9-12\"><ul><li class=\"_21lJbe\">Yes</li></ul></td></tr></tbody></table></div><div class=\"_3k-BhJ\"><div class=\"flxcaE\">Camera Features</div><table class=\"_14cfVK\"><tbody><tr class=\"_1s_Smc row\"><td class=\"_1hKmbr col col-3-12\">Primary Camera Available</td><td class=\"URwL2w col col-9-12\"><ul><li class=\"_21lJbe\">Yes</li></ul></td></tr><tr class=\"_1s_Smc row\"><td class=\"_1hKmbr col col-3-12\">Primary Camera</td><td class=\"URwL2w col col-9-12\"><ul><li class=\"_21lJbe\">13MP + AI Lens</li></ul></td></tr><tr class=\"_1s_Smc row\"><td class=\"_1hKmbr col col-3-12\">Primary Camera Features</td><td class=\"URwL2w col col-9-12\"><ul><li class=\"_21lJbe\">AI Dual Camera: 13MP + AI Lens, Camera Features: Portrait, HDR, AI 3D Beauty, Panorama, Video Features: HD Video Recording</li></ul></td></tr><tr class=\"_1s_Smc row\"><td class=\"_1hKmbr col col-3-12\">Secondary Camera Available</td><td class=\"URwL2w col col-9-12\"><ul><li class=\"_21lJbe\">Yes</li></ul></td></tr><tr class=\"_1s_Smc row\"><td class=\"_1hKmbr col col-3-12\">Secondary Camera</td><td class=\"URwL2w col col-9-12\"><ul><li class=\"_21lJbe\">5MP Front Camera</li></ul></td></tr><tr class=\"_1s_Smc row\"><td class=\"_1hKmbr col col-3-12\">Secondary Camera Features</td><td class=\"URwL2w col col-9-12\"><ul><li class=\"_21lJbe\">5MP Front Camera: Camera Features: AI Portrait, Face Beauty, Wideselfie, Video Features: HD Video Recording</li></ul></td></tr><tr class=\"_1s_Smc row\"><td class=\"_1hKmbr col col-3-12\">Flash</td><td class=\"URwL2w col col-9-12\"><ul><li class=\"_21lJbe\">Rear: Dual LED Flash | Front: LED Flash</li></ul></td></tr><tr class=\"_1s_Smc row\"><td class=\"_1hKmbr col col-3-12\">HD Recording</td><td class=\"URwL2w col col-9-12\"><ul><li class=\"_21lJbe\">Yes</li></ul></td></tr><tr class=\"_1s_Smc row\"><td class=\"_1hKmbr col col-3-12\">Video Recording</td><td class=\"URwL2w col col-9-12\"><ul><li class=\"_21lJbe\">Yes</li></ul></td></tr><tr class=\"_1s_Smc row\"><td class=\"_1hKmbr col col-3-12\">Digital Zoom</td><td class=\"URwL2w col col-9-12\"><ul><li class=\"_21lJbe\">Yes</li></ul></td></tr></tbody></table></div><div class=\"_3k-BhJ\"><div class=\"flxcaE\">Call Features</div><table class=\"_14cfVK\"><tbody><tr class=\"_1s_Smc row\"><td class=\"_1hKmbr col col-3-12\">Phone Book</td><td class=\"URwL2w col col-9-12\"><ul><li class=\"_21lJbe\">Yes</li></ul></td></tr></tbody></table></div><div class=\"_3k-BhJ\"><div class=\"flxcaE\">Connectivity Features</div><table class=\"_14cfVK\"><tbody><tr class=\"_1s_Smc row\"><td class=\"_1hKmbr col col-3-12\">Network Type</td><td class=\"URwL2w col col-9-12\"><ul><li class=\"_21lJbe\">4G, 3G, 2G</li></ul></td></tr><tr class=\"_1s_Smc row\"><td class=\"_1hKmbr col col-3-12\">Supported Networks</td><td class=\"URwL2w col col-9-12\"><ul><li class=\"_21lJbe\">4G LTE, WCDMA, GSM</li></ul></td></tr><tr class=\"_1s_Smc row\"><td class=\"_1hKmbr col col-3-12\">Internet Connectivity</td><td class=\"URwL2w col col-9-12\"><ul><li class=\"_21lJbe\">4G, 3G, EDGE, GPRS, Wi-Fi</li></ul></td></tr><tr class=\"_1s_Smc row\"><td class=\"_1hKmbr col col-3-12\">3G</td><td class=\"URwL2w col col-9-12\"><ul><li class=\"_21lJbe\">Yes</li></ul></td></tr><tr class=\"_1s_Smc row\"><td class=\"_1hKmbr col col-3-12\">Pre-installed Browser</td><td class=\"URwL2w col col-9-12\"><ul><li class=\"_21lJbe\">Yes</li></ul></td></tr><tr class=\"_1s_Smc row\"><td class=\"_1hKmbr col col-3-12\">Bluetooth Support</td><td class=\"URwL2w col col-9-12\"><ul><li class=\"_21lJbe\">Yes</li></ul></td></tr><tr class=\"_1s_Smc row\"><td class=\"_1hKmbr col col-3-12\">Bluetooth Version</td><td class=\"URwL2w col col-9-12\"><ul><li class=\"_21lJbe\">v4.2</li></ul></td></tr><tr class=\"_1s_Smc row\"><td class=\"_1hKmbr col col-3-12\">Wi-Fi</td><td class=\"URwL2w col col-9-12\"><ul><li class=\"_21lJbe\">Yes</li></ul></td></tr><tr class=\"_1s_Smc row\"><td class=\"_1hKmbr col col-3-12\">Wi-Fi Version</td><td class=\"URwL2w col col-9-12\"><ul><li class=\"_21lJbe\">IEEE 802.11 b/g/n</li></ul></td></tr><tr class=\"_1s_Smc row\"><td class=\"_1hKmbr col col-3-12\">Wi-Fi Hotspot</td><td class=\"URwL2w col col-9-12\"><ul><li class=\"_21lJbe\">Yes</li></ul></td></tr><tr class=\"_1s_Smc row\"><td class=\"_1hKmbr col col-3-12\">NFC</td><td class=\"URwL2w col col-9-12\"><ul><li class=\"_21lJbe\">No</li></ul></td></tr><tr class=\"_1s_Smc row\"><td class=\"_1hKmbr col col-3-12\">Infrared</td><td class=\"URwL2w col col-9-12\"><ul><li class=\"_21lJbe\">No</li></ul></td></tr><tr class=\"_1s_Smc row\"><td class=\"_1hKmbr col col-3-12\">USB Connectivity</td><td class=\"URwL2w col col-9-12\"><ul><li class=\"_21lJbe\">Yes</li></ul></td></tr><tr class=\"_1s_Smc row\"><td class=\"_1hKmbr col col-3-12\">EDGE</td><td class=\"URwL2w col col-9-12\"><ul><li class=\"_21lJbe\">Yes</li></ul></td></tr><tr class=\"_1s_Smc row\"><td class=\"_1hKmbr col col-3-12\">Map Support</td><td class=\"URwL2w col col-9-12\"><ul><li class=\"_21lJbe\">Yes</li></ul></td></tr><tr class=\"_1s_Smc row\"><td class=\"_1hKmbr col col-3-12\">GPS Support</td><td class=\"URwL2w col col-9-12\"><ul><li class=\"_21lJbe\">Yes</li></ul></td></tr></tbody></table></div><div class=\"_3k-BhJ\"><div class=\"flxcaE\">Other Details</div><table class=\"_14cfVK\"><tbody><tr class=\"_1s_Smc row\"><td class=\"_1hKmbr col col-3-12\">Smartphone</td><td class=\"URwL2w col col-9-12\"><ul><li class=\"_21lJbe\">Yes</li></ul></td></tr><tr class=\"_1s_Smc row\"><td class=\"_1hKmbr col col-3-12\">SIM Size</td><td class=\"URwL2w col col-9-12\"><ul><li class=\"_21lJbe\">Nano Sim</li></ul></td></tr><tr class=\"_1s_Smc row\"><td class=\"_1hKmbr col col-3-12\">User Interface</td><td class=\"URwL2w col col-9-12\"><ul><li class=\"_21lJbe\">XOS 12 (Based on Android 12)</li></ul></td></tr><tr class=\"_1s_Smc row\"><td class=\"_1hKmbr col col-3-12\">SMS</td><td class=\"URwL2w col col-9-12\"><ul><li class=\"_21lJbe\">Yes</li></ul></td></tr><tr class=\"_1s_Smc row\"><td class=\"_1hKmbr col col-3-12\">Sensors</td><td class=\"URwL2w col col-9-12\"><ul><li class=\"_21lJbe\">Fingerprint Sensor, Ambient Light Sensor, Proximity Sensor, Gyroscope (By Software), E-Compass</li></ul></td></tr><tr class=\"_1s_Smc row\"><td class=\"_1hKmbr col col-3-12\">Other Features</td><td class=\"URwL2w col col-9-12\"><ul><li class=\"_21lJbe\">DTS Surround Sound, Power Marathon Tech, Video Assistant, Xhide, XClone, Peek Proof, Kids Mode, Photo Compressor, 360 Flashlight, Social Turbo, Eye Care, Game Mode, Smart Panel, AI Gallery, Mem-Fusion, Type-C Charging Support, Upto 3GB Virtual RAM, Loudspeaker, Form Factor: Touch</li></ul></td></tr><tr class=\"_1s_Smc row\"><td class=\"_1hKmbr col col-3-12\">GPS Type</td><td class=\"URwL2w col col-9-12\"><ul><li class=\"_21lJbe\">AGPS</li></ul></td></tr></tbody></table></div><div class=\"_3k-BhJ\"><div class=\"flxcaE\">Multimedia Features</div><table class=\"_14cfVK\"><tbody><tr class=\"_1s_Smc row\"><td class=\"_1hKmbr col col-3-12\">DLNA Support</td><td class=\"URwL2w col col-9-12\"><ul><li class=\"_21lJbe\">No</li></ul></td></tr><tr class=\"_1s_Smc row\"><td class=\"_1hKmbr col col-3-12\">Audio Formats</td><td class=\"URwL2w col col-9-12\"><ul><li class=\"_21lJbe\">MP3, MIDI, AMR, WAV</li></ul></td></tr><tr class=\"_1s_Smc row\"><td class=\"_1hKmbr col col-3-12\">Music Player</td><td class=\"URwL2w col col-9-12\"><ul><li class=\"_21lJbe\">Yes</li></ul></td></tr><tr class=\"_1s_Smc row\"><td class=\"_1hKmbr col col-3-12\">Video Formats</td><td class=\"URwL2w col col-9-12\"><ul><li class=\"_21lJbe\">3GP, MP4, AVI</li></ul></td></tr></tbody></table></div><div class=\"_3k-BhJ\"><div class=\"flxcaE\">Battery &amp; Power Features</div><table class=\"_14cfVK\"><tbody><tr class=\"_1s_Smc row\"><td class=\"_1hKmbr col col-3-12\">Battery Capacity</td><td class=\"URwL2w col col-9-12\"><ul><li class=\"_21lJbe\">6000 mAh</li></ul></td></tr><tr class=\"_1s_Smc row\"><td class=\"_1hKmbr col col-3-12\">Battery Type</td><td class=\"URwL2w col col-9-12\"><ul><li class=\"_21lJbe\">Lithium-ion Polymer</li></ul></td></tr></tbody></table></div><div class=\"_3k-BhJ\"><div class=\"flxcaE\">Dimensions</div><table class=\"_14cfVK\"><tbody><tr class=\"_1s_Smc row\"><td class=\"_1hKmbr col col-3-12\">Width</td><td class=\"URwL2w col col-9-12\"><ul><li class=\"_21lJbe\">75.63 mm</li></ul></td></tr><tr class=\"_1s_Smc row\"><td class=\"_1hKmbr col col-3-12\">Height</td><td class=\"URwL2w col col-9-12\"><ul><li class=\"_21lJbe\">164.2 mm</li></ul></td></tr><tr class=\"_1s_Smc row\"><td class=\"_1hKmbr col col-3-12\">Depth</td><td class=\"URwL2w col col-9-12\"><ul><li class=\"_21lJbe\">9.37 mm</li></ul></td></tr><tr class=\"_1s_Smc row\"><td class=\"_1hKmbr col col-3-12\">Weight</td><td class=\"URwL2w col col-9-12\"><ul><li class=\"_21lJbe\">207 g</li></ul></td></tr></tbody></table></div><div class=\"_3k-BhJ\"><div class=\"flxcaE\">Warranty</div><table class=\"_14cfVK\"><tbody><tr class=\"_1s_Smc row\"><td class=\"_1hKmbr col col-3-12\">Warranty Summary</td><td class=\"URwL2w col col-9-12\"><ul><li class=\"_21lJbe\">1 Year on Handset and 6 Months on Accessories</li></ul></td></tr><tr class=\"_1s_Smc row\"><td class=\"_1hKmbr col col-3-12\">Domestic Warranty</td><td class=\"URwL2w col col-9-12\"><ul><li class=\"_21lJbe\">1 Year</li></ul></td></tr></tbody></table></div></div><button class=\"_2KpZ6l _1FH0tX\">Read More</button></div></div></div><div class=\"_1AtVbE col-12-12\"><div class=\"Qc7Nxn\"><div class=\"_2a46si\"><span>Frequently Bought Together</span></div><div><div class=\"_29oOb_\"><div class=\"_3E8aIl mtoPr4 _3EpnAp\"><div class=\"litDoE\"><div class=\"_4ddWXP _3BCh3_\"><a class=\"_2rpwqI\" href=\"/infinix-smart-7-emerald-green-128-gb/p/itm7b72b66485a59?pid=MOBGRH6YM3KZXNWF\" rel=\"noopener noreferrer\" target=\"_blank\" title=\"Infinix SMART 7 (Emerald Green, 128 GB)\"><div class=\"_28_T72\"><div><div class=\"CXW8mj\" style=\"height:112px;width:112px\"><img alt=\"Infinix SMART 7 (Emerald Green, 128 GB)\" class=\"_396cs4\" loading=\"eager\" src=\"https://rukminim2.flixcart.com/image/312/312/xif0q/mobile/6/a/d/-original-imagrqg4uruhwuza.jpeg?q=70\"/></div></div></div></a><div><div><a class=\"s1Q9rs\" href=\"/infinix-smart-7-emerald-green-128-gb/p/itm7b72b66485a59?pid=MOBGRH6YM3KZXNWF\" rel=\"noopener noreferrer\" target=\"_blank\" title=\"Infinix SMART 7 (Emerald Green, 128 GB)\">Infinix SMART 7 (Emerald Green, 128 GB)</a></div><div class=\"gUuXy- _2D5lwg\"><span class=\"_1lRcqv\" id=\"productRating_LSTMOBGRH6YM3KZXNWFSJXTYT_MOBGRH6YM3KZXNWF_\"><div class=\"_3LWZlK\">4.3<img class=\"_1wB99o\" src=\"data:image/svg+xml;base64,PHN2ZyB4bWxucz0iaHR0cDovL3d3dy53My5vcmcvMjAwMC9zdmciIHdpZHRoPSIxMyIgaGVpZ2h0PSIxMiI+PHBhdGggZmlsbD0iI0ZGRiIgZD0iTTYuNSA5LjQzOWwtMy42NzQgMi4yMy45NC00LjI2LTMuMjEtMi44ODMgNC4yNTQtLjQwNEw2LjUuMTEybDEuNjkgNC4wMSA0LjI1NC40MDQtMy4yMSAyLjg4Mi45NCA0LjI2eiIvPjwvc3ZnPg==\"/></div></span><span class=\"_2_R_DZ\">(59,018)</span></div><div class=\"_8VNy32\"><div class=\"_25b18c\"><div class=\"_30jeq3\">₹7,799</div><div class=\"_3I9_wc\">₹<!-- -->10,999</div><div class=\"_3Ay6Sb\"><span>29% off</span></div></div></div></div></div></div></div><div class=\"_3E8aIl mtoPr4 _3EpnAp\"><div class=\"litDoE\"><div class=\"_2AQydx\"><label class=\"_2iDkf8 _1dKMBS\"><input checked=\"\" class=\"_30VH1S\" readonly=\"\" type=\"checkbox\"/><div class=\"_24_Dny\"></div></label></div><div class=\"_4ddWXP _3BCh3_\"><a class=\"_2rpwqI\" href=\"/flipkart-smartbuy-back-cover-infinix-smart-7-7-hd/p/itm9eaa1ea832dfa?pid=ACCGN9UGZVWMWA5P&amp;lid=LSTACCGN9UGZVWMWA5PJFRMHK&amp;marketplace=FLIPKART&amp;fm=productRecommendation%2Fattach&amp;iid=R%3Aa%3Bp%3AMOBGRH6YM3KZXNWF%3Bl%3ALSTMOBGRH6YM3KZXNWFSJXTYT%3Bpt%3App%3Buid%3A0bf56414-3c22-11ee-8abc-cfa559dee5cd%3B.ACCGN9UGZVWMWA5P&amp;ppt=None&amp;ppn=None&amp;ssid=tqeke9u9ow0000001692182742321&amp;otracker=pp_reco_Frequently%2BBought%2BTogether_1_Frequently%2BBought%2BTogether_ACCGN9UGZVWMWA5P_productRecommendation%2Fattach_1&amp;otracker1=pp_reco_PINNED_productRecommendation%2Fattach_Frequently%2BBought%2BTogether_NA_productCard_cc_1_NA_view-all&amp;cid=ACCGN9UGZVWMWA5P\" rel=\"noopener noreferrer\" target=\"_blank\" title=\"Flipkart SmartBuy Back Cover for Infinix Smart 7, Infinix Smart 7 HD\"><div class=\"_28_T72\"><div><div class=\"CXW8mj\" style=\"height:112px;width:112px\"><img alt=\"Flipkart SmartBuy Back Cover for Infinix Smart 7, Infinix Smart 7 HD\" class=\"_396cs4\" loading=\"eager\" src=\"https://rukminim2.flixcart.com/image/312/312/xif0q/cases-covers/back-cover/c/n/1/fksb-c-ifx-smt-7-tra-flipkart-smartbuy-original-imagr5u8rdxchxmb.jpeg?q=70\"/></div></div></div></a><div><div><a class=\"s1Q9rs\" href=\"/flipkart-smartbuy-back-cover-infinix-smart-7-7-hd/p/itm9eaa1ea832dfa?pid=ACCGN9UGZVWMWA5P&amp;lid=LSTACCGN9UGZVWMWA5PJFRMHK&amp;marketplace=FLIPKART&amp;fm=productRecommendation%2Fattach&amp;iid=R%3Aa%3Bp%3AMOBGRH6YM3KZXNWF%3Bl%3ALSTMOBGRH6YM3KZXNWFSJXTYT%3Bpt%3App%3Buid%3A0bf56414-3c22-11ee-8abc-cfa559dee5cd%3B.ACCGN9UGZVWMWA5P&amp;ppt=None&amp;ppn=None&amp;ssid=tqeke9u9ow0000001692182742321&amp;otracker=pp_reco_Frequently%2BBought%2BTogether_1_Frequently%2BBought%2BTogether_ACCGN9UGZVWMWA5P_productRecommendation%2Fattach_1&amp;otracker1=pp_reco_PINNED_productRecommendation%2Fattach_Frequently%2BBought%2BTogether_NA_productCard_cc_1_NA_view-all&amp;cid=ACCGN9UGZVWMWA5P\" rel=\"noopener noreferrer\" target=\"_blank\" title=\"Flipkart SmartBuy Back Cover for Infinix Smart 7, Infinix Smart 7 HD\">Flipkart SmartBuy Back Cover for Infinix Smart 7, Infinix Smart 7...</a></div><div class=\"gUuXy- _2D5lwg\"><span class=\"_1lRcqv\" id=\"productRating_LSTACCGN9UGZVWMWA5PJFRMHK_ACCGN9UGZVWMWA5P_\"><div class=\"_3LWZlK\">4.1<img class=\"_1wB99o\" src=\"data:image/svg+xml;base64,PHN2ZyB4bWxucz0iaHR0cDovL3d3dy53My5vcmcvMjAwMC9zdmciIHdpZHRoPSIxMyIgaGVpZ2h0PSIxMiI+PHBhdGggZmlsbD0iI0ZGRiIgZD0iTTYuNSA5LjQzOWwtMy42NzQgMi4yMy45NC00LjI2LTMuMjEtMi44ODMgNC4yNTQtLjQwNEw2LjUuMTEybDEuNjkgNC4wMSA0LjI1NC40MDQtMy4yMSAyLjg4Mi45NCA0LjI2eiIvPjwvc3ZnPg==\"/></div></span><span class=\"_2_R_DZ\">(303)</span></div><div class=\"_8VNy32\"><div class=\"_25b18c\"><div class=\"_30jeq3\">₹189</div></div></div></div></div></div></div><div class=\"_3E8aIl mtoPr4\"><div class=\"litDoE\"><div class=\"_2AQydx\"><label class=\"_2iDkf8 _1dKMBS\"><input checked=\"\" class=\"_30VH1S\" readonly=\"\" type=\"checkbox\"/><div class=\"_24_Dny\"></div></label></div><div class=\"_4ddWXP _3BCh3_\"><a class=\"_2rpwqI\" href=\"/infinityworld-edge-tempered-glass-infinix-smart-7-7-v6-6/p/itmb47e5c31c7df5?pid=ACCFXXME5Y2PVDHK&amp;lid=LSTACCFXXME5Y2PVDHKSTE5HN&amp;marketplace=FLIPKART&amp;fm=productRecommendation%2Fattach&amp;iid=R%3Aa%3Bp%3AMOBGRH6YM3KZXNWF%3Bl%3ALSTMOBGRH6YM3KZXNWFSJXTYT%3Bpt%3App%3Buid%3A0bf56414-3c22-11ee-8abc-cfa559dee5cd%3B.ACCFXXME5Y2PVDHK&amp;ppt=None&amp;ppn=None&amp;ssid=tqeke9u9ow0000001692182742321&amp;otracker=pp_reco_Frequently%2BBought%2BTogether_2_Frequently%2BBought%2BTogether_ACCFXXME5Y2PVDHK_productRecommendation%2Fattach_2&amp;otracker1=pp_reco_PINNED_productRecommendation%2Fattach_Frequently%2BBought%2BTogether_NA_productCard_cc_2_NA_view-all&amp;cid=ACCFXXME5Y2PVDHK\" rel=\"noopener noreferrer\" target=\"_blank\" title=\"INFINITYWORLD Edge To Edge Tempered Glass for Infinix SMART 7, Infinix Smart 7, Infinix Smart 7 (V6.6)\"><div class=\"_28_T72\"><div><div class=\"CXW8mj\" style=\"height:112px;width:112px\"><img alt=\"INFINITYWORLD Edge To Edge Tempered Glass for Infinix SMART 7, Infinix Smart 7, Infinix Smart 7 (V6.6)\" class=\"_396cs4\" loading=\"eager\" src=\"https://rukminim2.flixcart.com/image/312/312/xif0q/screen-guard/edge-to-edge-tempered-glass/z/z/2/shiv-opof17-black-2-nstar-original-imagn92bmsqky9m5.jpeg?q=70\"/></div></div></div></a><div><div><a class=\"s1Q9rs\" href=\"/infinityworld-edge-tempered-glass-infinix-smart-7-7-v6-6/p/itmb47e5c31c7df5?pid=ACCFXXME5Y2PVDHK&amp;lid=LSTACCFXXME5Y2PVDHKSTE5HN&amp;marketplace=FLIPKART&amp;fm=productRecommendation%2Fattach&amp;iid=R%3Aa%3Bp%3AMOBGRH6YM3KZXNWF%3Bl%3ALSTMOBGRH6YM3KZXNWFSJXTYT%3Bpt%3App%3Buid%3A0bf56414-3c22-11ee-8abc-cfa559dee5cd%3B.ACCFXXME5Y2PVDHK&amp;ppt=None&amp;ppn=None&amp;ssid=tqeke9u9ow0000001692182742321&amp;otracker=pp_reco_Frequently%2BBought%2BTogether_2_Frequently%2BBought%2BTogether_ACCFXXME5Y2PVDHK_productRecommendation%2Fattach_2&amp;otracker1=pp_reco_PINNED_productRecommendation%2Fattach_Frequently%2BBought%2BTogether_NA_productCard_cc_2_NA_view-all&amp;cid=ACCFXXME5Y2PVDHK\" rel=\"noopener noreferrer\" target=\"_blank\" title=\"INFINITYWORLD Edge To Edge Tempered Glass for Infinix SMART 7, Infinix Smart 7, Infinix Smart 7 (V6.6)\">INFINITYWORLD Edge To Edge Tempered Glass for Infinix SMART 7, In...</a></div><div class=\"gUuXy- _2D5lwg\"><span class=\"_1lRcqv\" id=\"productRating_LSTACCFXXME5Y2PVDHKSTE5HN_ACCFXXME5Y2PVDHK_\"><div class=\"_3LWZlK\">4.1<img class=\"_1wB99o\" src=\"data:image/svg+xml;base64,PHN2ZyB4bWxucz0iaHR0cDovL3d3dy53My5vcmcvMjAwMC9zdmciIHdpZHRoPSIxMyIgaGVpZ2h0PSIxMiI+PHBhdGggZmlsbD0iI0ZGRiIgZD0iTTYuNSA5LjQzOWwtMy42NzQgMi4yMy45NC00LjI2LTMuMjEtMi44ODMgNC4yNTQtLjQwNEw2LjUuMTEybDEuNjkgNC4wMSA0LjI1NC40MDQtMy4yMSAyLjg4Mi45NCA0LjI2eiIvPjwvc3ZnPg==\"/></div></span><span class=\"_2_R_DZ\">(200)</span></div><div class=\"_8VNy32\"><div class=\"_25b18c\"><div class=\"_30jeq3\">₹229</div></div></div></div></div></div></div></div><div class=\"_2wKoSe\"><div class=\"_31684S\"><div><div class=\"_1BErVs _3HBQud\"><div class=\"_3_Be9W\"><span>1 Item</span></div><div class=\"_3ocu1Y\"><span>₹<!-- -->7,799</span></div></div><div class=\"_1BErVs\"><div class=\"_3_Be9W\">2<!-- --> <span>Add-on</span>s</div><div class=\"_3ocu1Y\"><span>₹<span>418</span></span></div></div><div class=\"_1BErVs _3hyeE5\"><div class=\"_3_Be9W\">Total</div><div class=\"_3ocu1Y\">₹<span>8,217</span></div></div></div></div><div class=\"_1UcWw6\"><button class=\"_2KpZ6l _1t_O3S _2ti6Tf _3AWRsL\"><span><svg class=\"ZOtu09\" height=\"16\" viewbox=\"0 0 16 15\" width=\"16\" xmlns=\"http://www.w3.org/2000/svg\"><path class=\"\" d=\"M15.32 2.405H4.887C3 2.405 2.46.805 2.46.805L2.257.21C2.208.085 2.083 0 1.946 0H.336C.1 0-.064.24.024.46l.644 1.945L3.11 9.767c.047.137.175.23.32.23h8.418l-.493 1.958H3.768l.002.003c-.017 0-.033-.003-.05-.003-1.06 0-1.92.86-1.92 1.92s.86 1.92 1.92 1.92c.99 0 1.805-.75 1.91-1.712l5.55.076c.12.922.91 1.636 1.867 1.636 1.04 0 1.885-.844 1.885-1.885 0-.866-.584-1.593-1.38-1.814l2.423-8.832c.12-.433-.206-.86-.655-.86\" fill=\"#fff\"></path></svg><span>Add 3 Items to Cart</span></span></button></div></div></div></div></div><div class=\"_1AtVbE col-12-12\"><div class=\"col JOpGWq\"><div class=\"_3HKIdy\"><div class=\"_2QKOHZ\">Ratings &amp; Reviews</div><div class=\"_3cH4s3\"><button class=\"_2KpZ6l _1q9yVr\" type=\"submit\"><span>Rate Product</span></button></div></div><div class=\"row _3AjFsn _2c2kV-\"><div class=\"_2e3Uck\"><div class=\"row\"><div class=\"col-4-12\"><div class=\"col\"><div class=\"row\"><div class=\"col-12-12 _1azcI6\"><div class=\"_2d4LTz\">4.3</div><div class=\"_2yxeXv\">★</div></div></div><div class=\"row _2afbiS\"><div class=\"col-12-12\"><span>59,018 Ratings &amp;</span></div></div><div class=\"row _2afbiS\"><div class=\"col-12-12\"><span>2,873 Reviews</span></div></div></div></div><div class=\"col-8-12 _3qpj74 _31DkEZ\"><div class=\"_13sFCC miQW6D _2m9Pwo\"><ul class=\"_2jr1F_\"><li class=\"_28Xb_u\"><div class=\"omG9iE\"><span class=\"_26f_zl\">5</span><span class=\"_2xBWPJ\">★</span></div></li><li class=\"_28Xb_u\"><div class=\"omG9iE\"><span class=\"_26f_zl\">4</span><span class=\"_2xBWPJ\">★</span></div></li><li class=\"_28Xb_u\"><div class=\"omG9iE\"><span class=\"_26f_zl\">3</span><span class=\"_2xBWPJ\">★</span></div></li><li class=\"_28Xb_u\"><div class=\"omG9iE\"><span class=\"_26f_zl\">2</span><span class=\"_2xBWPJ\">★</span></div></li><li class=\"_28Xb_u\"><div class=\"omG9iE\"><span class=\"_26f_zl\">1</span><span class=\"_2xBWPJ\">★</span></div></li></ul><ul class=\"_2Plkj9\"><li class=\"_28Xb_u\"><div><div class=\"_3UaKsS\"><span class=\"EkB-Xt _1z2lGe\" style=\"width:100%\"></span></div></div></li><li class=\"_28Xb_u\"><div><div class=\"_3UaKsS\"><span class=\"EkB-Xt _2fGXyl\" style=\"width:24.234250590035533%\"></span></div></div></li><li class=\"_28Xb_u\"><div><div class=\"_3UaKsS\"><span class=\"EkB-Xt _1ia31G\" style=\"width:11.63472261846098%\"></span></div></div></li><li class=\"_28Xb_u\"><div><div class=\"_3UaKsS\"><span class=\"EkB-Xt HnnP7O\" style=\"width:5.480198148196177%\"></span></div></div></li><li class=\"_28Xb_u\"><div><div class=\"_3UaKsS\"><span class=\"EkB-Xt _2W5rgh\" style=\"width:11.717716627330965%\"></span></div></div></li></ul><ul class=\"_36LmXx\"><li class=\"_28Xb_u\"><div class=\"_1uJVNT\">38,557</div></li><li class=\"_28Xb_u\"><div class=\"_1uJVNT\">9,344</div></li><li class=\"_28Xb_u\"><div class=\"_1uJVNT\">4,486</div></li><li class=\"_28Xb_u\"><div class=\"_1uJVNT\">2,113</div></li><li class=\"_28Xb_u\"><div class=\"_1uJVNT\">4,518</div></li></ul></div></div></div></div><div class=\"_2LE14f\"><div class=\"row\"><a class=\"col-3-12 hXkZu- _1pxF-h\" href=\"/infinix-smart-7-emerald-green-128-gb/product-reviews/itm7b72b66485a59?pid=MOBGRH6YM3KZXNWF&amp;lid=LSTMOBGRH6YM3KZXNWFSJXTYT&amp;aid=dc0f2b2d-7619-44cc-b5fc-2fe3e4d453a7&amp;mid=FLIPKART&amp;fid=6f77e185-3ad5-4f27-8b38-92d41f146382.MOBGRH6YM3KZXNWF&amp;an=Camera&amp;cat=Mobile&amp;vert=Handset\"><div class=\"_2a78PX\"><div class=\"_2aWUii\"><svg class=\"HTdwVj\" viewbox=\"0 0 100 100\"><path class=\"MN4M6g\" d=\"M50,4 A 46,46,0,1,1,49.9999,4\" fill-opacity=\"0\" stroke-width=\"8\"></path><path class=\"_1KaZLR\" d=\"M50,4 A 46,46,0,1,1,8.377955586563111,69.58584741199336\" fill-opacity=\"0\" stroke-width=\"8\"></path><text class=\"_2Ix0io\" x=\"50\" y=\"50\">3.4</text></svg></div><div class=\"_3npa3F\">Camera</div></div></a><a class=\"col-3-12 hXkZu- _1pxF-h\" href=\"/infinix-smart-7-emerald-green-128-gb/product-reviews/itm7b72b66485a59?pid=MOBGRH6YM3KZXNWF&amp;lid=LSTMOBGRH6YM3KZXNWFSJXTYT&amp;aid=3ac62744-ab96-4f53-82f7-02eb72b6a662&amp;mid=FLIPKART&amp;fid=6f77e185-3ad5-4f27-8b38-92d41f146382.MOBGRH6YM3KZXNWF&amp;an=Battery&amp;cat=Mobile&amp;vert=Handset\"><div class=\"_2a78PX\"><div class=\"_2aWUii\"><svg class=\"HTdwVj\" viewbox=\"0 0 100 100\"><path class=\"MN4M6g\" d=\"M50,4 A 46,46,0,1,1,49.9999,4\" fill-opacity=\"0\" stroke-width=\"8\"></path><path class=\"_1KaZLR\" d=\"M50,4 A 46,46,0,1,1,4.814786466480321,41.38045952905668\" fill-opacity=\"0\" stroke-width=\"8\"></path><text class=\"_2Ix0io\" x=\"50\" y=\"50\">3.9</text></svg></div><div class=\"_3npa3F\">Battery</div></div></a><a class=\"col-3-12 hXkZu- _1pxF-h\" href=\"/infinix-smart-7-emerald-green-128-gb/product-reviews/itm7b72b66485a59?pid=MOBGRH6YM3KZXNWF&amp;lid=LSTMOBGRH6YM3KZXNWFSJXTYT&amp;aid=b32e49f9-79fd-4798-98ad-51dd89a408d0&amp;mid=FLIPKART&amp;fid=6f77e185-3ad5-4f27-8b38-92d41f146382.MOBGRH6YM3KZXNWF&amp;an=Display&amp;cat=Mobile&amp;vert=Handset\"><div class=\"_2a78PX\"><div class=\"_2aWUii\"><svg class=\"HTdwVj\" viewbox=\"0 0 100 100\"><path class=\"MN4M6g\" d=\"M50,4 A 46,46,0,1,1,49.9999,4\" fill-opacity=\"0\" stroke-width=\"8\"></path><path class=\"_1KaZLR\" d=\"M50,4 A 46,46,0,1,1,4.090770492299505,47.11163610165161\" fill-opacity=\"0\" stroke-width=\"8\"></path><text class=\"_2Ix0io\" x=\"50\" y=\"50\">3.8</text></svg></div><div class=\"_3npa3F\">Display</div></div></a><a class=\"col-3-12 hXkZu- _1pxF-h\" href=\"/infinix-smart-7-emerald-green-128-gb/product-reviews/itm7b72b66485a59?pid=MOBGRH6YM3KZXNWF&amp;lid=LSTMOBGRH6YM3KZXNWFSJXTYT&amp;aid=00ab4120-12b2-4a8f-b4e0-b426e17a27ca&amp;mid=FLIPKART&amp;fid=6f77e185-3ad5-4f27-8b38-92d41f146382.MOBGRH6YM3KZXNWF&amp;an=Design&amp;cat=Mobile&amp;vert=Handset\"><div class=\"_2a78PX\"><div class=\"_2aWUii\"><svg class=\"HTdwVj\" viewbox=\"0 0 100 100\"><path class=\"MN4M6g\" d=\"M50,4 A 46,46,0,1,1,49.9999,4\" fill-opacity=\"0\" stroke-width=\"8\"></path><path class=\"_1KaZLR\" d=\"M50,4 A 46,46,0,1,1,4.814786466480321,41.38045952905668\" fill-opacity=\"0\" stroke-width=\"8\"></path><text class=\"_2Ix0io\" x=\"50\" y=\"50\">3.9</text></svg></div><div class=\"_3npa3F\">Design</div></div></a></div></div></div><div class=\"row\"><div class=\"col col-12-12\"><div class=\"_2nMSwX _1yGd2h\"><div class=\"_21YjFX _1ylYJu\" style=\"background-image:url(https://rukminim1.flixcart.com/blobio/178/178/imr/blobio-imr_36db6e36db2c4ee3a4cf3e1111b76d86.jpg?q=90), url(data:image/svg+xml;base64,PHN2ZyB3aWR0aD0iMjIiIGhlaWdodD0iMTgiIHhtbG5zPSJodHRwOi8vd3d3LnczLm9yZy8yMDAwL3N2ZyI+PGcgZmlsbD0iIzlEOUQ5RCIgZmlsbC1ydWxlPSJub256ZXJvIj48cGF0aCBkPSJNMjAgMEgyQzEgMCAwIDEgMCAydjE0YzAgMS4xLjkgMiAyIDJoMThjMSAwIDItMSAyLTJWMmMwLTEtMS0yLTItMnptMCAxNS45MmMtLjAyLjAzLS4wNi4wNi0uMDguMDhIMlYyLjA4TDIuMDggMmgxNy44M2MuMDMuMDIuMDYuMDYuMDguMDh2MTMuODRIMjB6Ii8+PHBhdGggZD0iTTEwIDEyLjUxTDcuNSA5LjUgNCAxNGgxNGwtNC41LTZ6Ii8+PC9nPjwvc3ZnPg==);width:89px;height:89px\"></div><div class=\"_21YjFX _1ylYJu\" style=\"background-image:url(https://rukminim1.flixcart.com/blobio/178/178/imr/blobio-imr_f5820c8269c44cea8428544e834d3722.jpg?q=90), url(data:image/svg+xml;base64,PHN2ZyB3aWR0aD0iMjIiIGhlaWdodD0iMTgiIHhtbG5zPSJodHRwOi8vd3d3LnczLm9yZy8yMDAwL3N2ZyI+PGcgZmlsbD0iIzlEOUQ5RCIgZmlsbC1ydWxlPSJub256ZXJvIj48cGF0aCBkPSJNMjAgMEgyQzEgMCAwIDEgMCAydjE0YzAgMS4xLjkgMiAyIDJoMThjMSAwIDItMSAyLTJWMmMwLTEtMS0yLTItMnptMCAxNS45MmMtLjAyLjAzLS4wNi4wNi0uMDguMDhIMlYyLjA4TDIuMDggMmgxNy44M2MuMDMuMDIuMDYuMDYuMDguMDh2MTMuODRIMjB6Ii8+PHBhdGggZD0iTTEwIDEyLjUxTDcuNSA5LjUgNCAxNGgxNGwtNC41LTZ6Ii8+PC9nPjwvc3ZnPg==);width:89px;height:89px\"></div><div class=\"_21YjFX _1ylYJu\" style=\"background-image:url(https://rukminim1.flixcart.com/blobio/178/178/imr/blobio-imr_e86f0f0c99ad4a67a1eb12439d29f7d6.jpg?q=90), url(data:image/svg+xml;base64,PHN2ZyB3aWR0aD0iMjIiIGhlaWdodD0iMTgiIHhtbG5zPSJodHRwOi8vd3d3LnczLm9yZy8yMDAwL3N2ZyI+PGcgZmlsbD0iIzlEOUQ5RCIgZmlsbC1ydWxlPSJub256ZXJvIj48cGF0aCBkPSJNMjAgMEgyQzEgMCAwIDEgMCAydjE0YzAgMS4xLjkgMiAyIDJoMThjMSAwIDItMSAyLTJWMmMwLTEtMS0yLTItMnptMCAxNS45MmMtLjAyLjAzLS4wNi4wNi0uMDguMDhIMlYyLjA4TDIuMDggMmgxNy44M2MuMDMuMDIuMDYuMDYuMDguMDh2MTMuODRIMjB6Ii8+PHBhdGggZD0iTTEwIDEyLjUxTDcuNSA5LjUgNCAxNGgxNGwtNC41LTZ6Ii8+PC9nPjwvc3ZnPg==);width:89px;height:89px\"></div><div class=\"_21YjFX _1ylYJu\" style=\"background-image:url(https://rukminim1.flixcart.com/blobio/178/178/imr/blobio-imr_e759b6542500449098af601312eb440e.jpg?q=90), url(data:image/svg+xml;base64,PHN2ZyB3aWR0aD0iMjIiIGhlaWdodD0iMTgiIHhtbG5zPSJodHRwOi8vd3d3LnczLm9yZy8yMDAwL3N2ZyI+PGcgZmlsbD0iIzlEOUQ5RCIgZmlsbC1ydWxlPSJub256ZXJvIj48cGF0aCBkPSJNMjAgMEgyQzEgMCAwIDEgMCAydjE0YzAgMS4xLjkgMiAyIDJoMThjMSAwIDItMSAyLTJWMmMwLTEtMS0yLTItMnptMCAxNS45MmMtLjAyLjAzLS4wNi4wNi0uMDguMDhIMlYyLjA4TDIuMDggMmgxNy44M2MuMDMuMDIuMDYuMDYuMDguMDh2MTMuODRIMjB6Ii8+PHBhdGggZD0iTTEwIDEyLjUxTDcuNSA5LjUgNCAxNGgxNGwtNC41LTZ6Ii8+PC9nPjwvc3ZnPg==);width:89px;height:89px\"></div><div class=\"_21YjFX _1ylYJu\" style=\"background-image:url(https://rukminim1.flixcart.com/blobio/178/178/imr/blobio-imr_bc21e31e604c4dac8ce5d5bc85e4f943.jpg?q=90), url(data:image/svg+xml;base64,PHN2ZyB3aWR0aD0iMjIiIGhlaWdodD0iMTgiIHhtbG5zPSJodHRwOi8vd3d3LnczLm9yZy8yMDAwL3N2ZyI+PGcgZmlsbD0iIzlEOUQ5RCIgZmlsbC1ydWxlPSJub256ZXJvIj48cGF0aCBkPSJNMjAgMEgyQzEgMCAwIDEgMCAydjE0YzAgMS4xLjkgMiAyIDJoMThjMSAwIDItMSAyLTJWMmMwLTEtMS0yLTItMnptMCAxNS45MmMtLjAyLjAzLS4wNi4wNi0uMDguMDhIMlYyLjA4TDIuMDggMmgxNy44M2MuMDMuMDIuMDYuMDYuMDguMDh2MTMuODRIMjB6Ii8+PHBhdGggZD0iTTEwIDEyLjUxTDcuNSA5LjUgNCAxNGgxNGwtNC41LTZ6Ii8+PC9nPjwvc3ZnPg==);width:89px;height:89px\"></div><div class=\"_21YjFX _1ylYJu\" style=\"background-image:url(https://rukminim1.flixcart.com/blobio/178/178/imr/blobio-imr_2c9d0a9708c842ddae3e99bdfb8ee954.jpg?q=90), url(data:image/svg+xml;base64,PHN2ZyB3aWR0aD0iMjIiIGhlaWdodD0iMTgiIHhtbG5zPSJodHRwOi8vd3d3LnczLm9yZy8yMDAwL3N2ZyI+PGcgZmlsbD0iIzlEOUQ5RCIgZmlsbC1ydWxlPSJub256ZXJvIj48cGF0aCBkPSJNMjAgMEgyQzEgMCAwIDEgMCAydjE0YzAgMS4xLjkgMiAyIDJoMThjMSAwIDItMSAyLTJWMmMwLTEtMS0yLTItMnptMCAxNS45MmMtLjAyLjAzLS4wNi4wNi0uMDguMDhIMlYyLjA4TDIuMDggMmgxNy44M2MuMDMuMDIuMDYuMDYuMDguMDh2MTMuODRIMjB6Ii8+PHBhdGggZD0iTTEwIDEyLjUxTDcuNSA5LjUgNCAxNGgxNGwtNC41LTZ6Ii8+PC9nPjwvc3ZnPg==);width:89px;height:89px\"></div><div class=\"_21YjFX _1ylYJu\" style=\"background-image:url(https://rukminim1.flixcart.com/blobio/178/178/imr/blobio-imr_b6b8b212be0f420e9e5220c7e8586a65.jpg?q=90), url(data:image/svg+xml;base64,PHN2ZyB3aWR0aD0iMjIiIGhlaWdodD0iMTgiIHhtbG5zPSJodHRwOi8vd3d3LnczLm9yZy8yMDAwL3N2ZyI+PGcgZmlsbD0iIzlEOUQ5RCIgZmlsbC1ydWxlPSJub256ZXJvIj48cGF0aCBkPSJNMjAgMEgyQzEgMCAwIDEgMCAydjE0YzAgMS4xLjkgMiAyIDJoMThjMSAwIDItMSAyLTJWMmMwLTEtMS0yLTItMnptMCAxNS45MmMtLjAyLjAzLS4wNi4wNi0uMDguMDhIMlYyLjA4TDIuMDggMmgxNy44M2MuMDMuMDIuMDYuMDYuMDguMDh2MTMuODRIMjB6Ii8+PHBhdGggZD0iTTEwIDEyLjUxTDcuNSA5LjUgNCAxNGgxNGwtNC41LTZ6Ii8+PC9nPjwvc3ZnPg==);width:89px;height:89px\"></div><div class=\"_21YjFX _1ylYJu RU6t0j\" style=\"background-image:url(https://rukminim1.flixcart.com/blobio/178/178/imr/blobio-imr_fdcade027db047058e6bb65bf6cc0296.jpg?q=90), url(data:image/svg+xml;base64,PHN2ZyB3aWR0aD0iMjIiIGhlaWdodD0iMTgiIHhtbG5zPSJodHRwOi8vd3d3LnczLm9yZy8yMDAwL3N2ZyI+PGcgZmlsbD0iIzlEOUQ5RCIgZmlsbC1ydWxlPSJub256ZXJvIj48cGF0aCBkPSJNMjAgMEgyQzEgMCAwIDEgMCAydjE0YzAgMS4xLjkgMiAyIDJoMThjMSAwIDItMSAyLTJWMmMwLTEtMS0yLTItMnptMCAxNS45MmMtLjAyLjAzLS4wNi4wNi0uMDguMDhIMlYyLjA4TDIuMDggMmgxNy44M2MuMDMuMDIuMDYuMDYuMDguMDh2MTMuODRIMjB6Ii8+PHBhdGggZD0iTTEwIDEyLjUxTDcuNSA5LjUgNCAxNGgxNGwtNC41LTZ6Ii8+PC9nPjwvc3ZnPg==);width:89px;height:89px\"><span class=\"_380ehC\">+ <!-- -->259</span></div></div></div></div><div class=\"_2c2kV-\"><div class=\"_16PBlm\"><div class=\"col\"><div class=\"col _2wzgFH\"><div class=\"row\"><div class=\"_3LWZlK _1BLPMq\">5<img class=\"_1wB99o\" src=\"data:image/svg+xml;base64,PHN2ZyB4bWxucz0iaHR0cDovL3d3dy53My5vcmcvMjAwMC9zdmciIHdpZHRoPSIxMyIgaGVpZ2h0PSIxMiI+PHBhdGggZmlsbD0iI0ZGRiIgZD0iTTYuNSA5LjQzOWwtMy42NzQgMi4yMy45NC00LjI2LTMuMjEtMi44ODMgNC4yNTQtLjQwNEw2LjUuMTEybDEuNjkgNC4wMSA0LjI1NC40MDQtMy4yMSAyLjg4Mi45NCA0LjI2eiIvPjwvc3ZnPg==\"/></div><p class=\"_2-N8zT\">Excellent</p></div><div class=\"row\"><div class=\"t-ZTKy\"><div><div class=\"\">Good range mobile</div><span class=\"_1H-bmy\"><span>READ MORE</span></span></div></div></div><div class=\"_2nMSwX _3oLIki\"><div class=\"_21YjFX _2A07HP\" style=\"background-image:url(https://rukminim1.flixcart.com/blobio/124/124/imr/blobio-imr_36db6e36db2c4ee3a4cf3e1111b76d86.jpg?q=90), url(data:image/svg+xml;base64,PHN2ZyB3aWR0aD0iMjIiIGhlaWdodD0iMTgiIHhtbG5zPSJodHRwOi8vd3d3LnczLm9yZy8yMDAwL3N2ZyI+PGcgZmlsbD0iIzlEOUQ5RCIgZmlsbC1ydWxlPSJub256ZXJvIj48cGF0aCBkPSJNMjAgMEgyQzEgMCAwIDEgMCAydjE0YzAgMS4xLjkgMiAyIDJoMThjMSAwIDItMSAyLTJWMmMwLTEtMS0yLTItMnptMCAxNS45MmMtLjAyLjAzLS4wNi4wNi0uMDguMDhIMlYyLjA4TDIuMDggMmgxNy44M2MuMDMuMDIuMDYuMDYuMDguMDh2MTMuODRIMjB6Ii8+PHBhdGggZD0iTTEwIDEyLjUxTDcuNSA5LjUgNCAxNGgxNGwtNC41LTZ6Ii8+PC9nPjwvc3ZnPg==);width:62px;height:62px\"></div><div class=\"_21YjFX _2A07HP\" style=\"background-image:url(https://rukminim1.flixcart.com/blobio/124/124/imr/blobio-imr_f5820c8269c44cea8428544e834d3722.jpg?q=90), url(data:image/svg+xml;base64,PHN2ZyB3aWR0aD0iMjIiIGhlaWdodD0iMTgiIHhtbG5zPSJodHRwOi8vd3d3LnczLm9yZy8yMDAwL3N2ZyI+PGcgZmlsbD0iIzlEOUQ5RCIgZmlsbC1ydWxlPSJub256ZXJvIj48cGF0aCBkPSJNMjAgMEgyQzEgMCAwIDEgMCAydjE0YzAgMS4xLjkgMiAyIDJoMThjMSAwIDItMSAyLTJWMmMwLTEtMS0yLTItMnptMCAxNS45MmMtLjAyLjAzLS4wNi4wNi0uMDguMDhIMlYyLjA4TDIuMDggMmgxNy44M2MuMDMuMDIuMDYuMDYuMDguMDh2MTMuODRIMjB6Ii8+PHBhdGggZD0iTTEwIDEyLjUxTDcuNSA5LjUgNCAxNGgxNGwtNC41LTZ6Ii8+PC9nPjwvc3ZnPg==);width:62px;height:62px\"></div><div class=\"_21YjFX _2A07HP\" style=\"background-image:url(https://rukminim1.flixcart.com/blobio/124/124/imr/blobio-imr_e86f0f0c99ad4a67a1eb12439d29f7d6.jpg?q=90), url(data:image/svg+xml;base64,PHN2ZyB3aWR0aD0iMjIiIGhlaWdodD0iMTgiIHhtbG5zPSJodHRwOi8vd3d3LnczLm9yZy8yMDAwL3N2ZyI+PGcgZmlsbD0iIzlEOUQ5RCIgZmlsbC1ydWxlPSJub256ZXJvIj48cGF0aCBkPSJNMjAgMEgyQzEgMCAwIDEgMCAydjE0YzAgMS4xLjkgMiAyIDJoMThjMSAwIDItMSAyLTJWMmMwLTEtMS0yLTItMnptMCAxNS45MmMtLjAyLjAzLS4wNi4wNi0uMDguMDhIMlYyLjA4TDIuMDggMmgxNy44M2MuMDMuMDIuMDYuMDYuMDguMDh2MTMuODRIMjB6Ii8+PHBhdGggZD0iTTEwIDEyLjUxTDcuNSA5LjUgNCAxNGgxNGwtNC41LTZ6Ii8+PC9nPjwvc3ZnPg==);width:62px;height:62px\"></div></div><div class=\"row _3n8db9\"><div class=\"row\"><p class=\"_2sc7ZR _2V5EHH\">Ricky Customer</p><svg class=\"_2a1p_T\" height=\"14\" viewbox=\"0 0 12 12\" width=\"14\" xmlns=\"http://www.w3.org/2000/svg\"><g><circle cx=\"6\" cy=\"6\" fill=\"#878787\" r=\"6\"></circle><path d=\"M3 6l2 2 4-4\" fill=\"#878787\" stroke=\"#FFF\" stroke-width=\"1.5\"></path></g></svg><p class=\"_2mcZGG\" id=\"review-35e66c25-f70c-4b3e-8b78-58b3fef9e701\"><span>Certified Buyer</span><span>, New Delhi</span></p><div></div><p class=\"_2sc7ZR\">5 months ago</p></div><div class=\"_1e9_Zu\"><div class=\"row\"><div class=\"_27aTsS\"><div class=\"_1LmwT9\"><svg class=\"skCrcq\" height=\"15\" width=\"20\" xmlns=\"http://www.w3.org/2000/svg\"><path class=\"_1LIt4y\" d=\"M9.58.006c-.41.043-.794.32-1.01.728-.277.557-2.334 4.693-2.74 5.1-.41.407-.944.6-1.544.6v8.572h7.5c.45 0 .835-.28 1.007-.665 0 0 2.207-6.234 2.207-6.834 0-.6-.47-1.072-1.07-1.072h-3.216c-.6 0-1.07-.535-1.07-1.07 0-.537.835-3.387 1.006-3.944.17-.557-.107-1.157-.664-1.35-.15-.043-.257-.086-.407-.064zM0 6.434v8.572h2.143V6.434H0z\" fill=\"#fff\" fill-rule=\"evenodd\"></path></svg><span class=\"_3c3Px5\">1590</span></div><div class=\"_1LmwT9 pkR4jH\"><svg class=\"skCrcq pkR4jH\" height=\"15\" width=\"20\" xmlns=\"http://www.w3.org/2000/svg\"><path class=\"_1LIt4y\" d=\"M9.58.006c-.41.043-.794.32-1.01.728-.277.557-2.334 4.693-2.74 5.1-.41.407-.944.6-1.544.6v8.572h7.5c.45 0 .835-.28 1.007-.665 0 0 2.207-6.234 2.207-6.834 0-.6-.47-1.072-1.07-1.072h-3.216c-.6 0-1.07-.535-1.07-1.07 0-.537.835-3.387 1.006-3.944.17-.557-.107-1.157-.664-1.35-.15-.043-.257-.086-.407-.064zM0 6.434v8.572h2.143V6.434H0z\" fill=\"#fff\" fill-rule=\"evenodd\"></path></svg><span class=\"_3c3Px5\">283</span></div></div><div class=\"_2bmov8\"><svg class=\"_2UvOBb\" height=\"11\" viewbox=\"0 0 16 27\" width=\"6\" xmlns=\"http://www.w3.org/2000/svg\"><path class=\"_2aPE6f\" d=\"M16 23.207L6.11 13.161 16 3.093 12.955 0 0 13.161l12.955 13.161z\" fill=\"#fff\"></path></svg><div class=\"_3E8aIl _38dCuf\"><div class=\"_3XCI6U\"><a href=\"/reviews/MOBGMTW2WYG2A2FM:4?reviewId=35e66c25-f70c-4b3e-8b78-58b3fef9e701\"><span>Permalink</span></a></div><div class=\"_3XCI6U _2b2z-j\"><span>Report Abuse</span></div></div></div></div></div></div></div></div></div><div class=\"_16PBlm\"><div class=\"col\"><div class=\"col _2wzgFH\"><div class=\"row\"><div class=\"_3LWZlK _1BLPMq\">5<img class=\"_1wB99o\" src=\"data:image/svg+xml;base64,PHN2ZyB4bWxucz0iaHR0cDovL3d3dy53My5vcmcvMjAwMC9zdmciIHdpZHRoPSIxMyIgaGVpZ2h0PSIxMiI+PHBhdGggZmlsbD0iI0ZGRiIgZD0iTTYuNSA5LjQzOWwtMy42NzQgMi4yMy45NC00LjI2LTMuMjEtMi44ODMgNC4yNTQtLjQwNEw2LjUuMTEybDEuNjkgNC4wMSA0LjI1NC40MDQtMy4yMSAyLjg4Mi45NCA0LjI2eiIvPjwvc3ZnPg==\"/></div><p class=\"_2-N8zT\">Super!</p></div><div class=\"row\"><div class=\"t-ZTKy\"><div><div class=\"\">Best phone in this range ❤️</div><span class=\"_1H-bmy\"><span>READ MORE</span></span></div></div></div><div class=\"_2nMSwX _3oLIki\"><div class=\"_21YjFX _2A07HP\" style=\"background-image:url(https://rukminim1.flixcart.com/blobio/124/124/imr/blobio-imr_e759b6542500449098af601312eb440e.jpg?q=90), url(data:image/svg+xml;base64,PHN2ZyB3aWR0aD0iMjIiIGhlaWdodD0iMTgiIHhtbG5zPSJodHRwOi8vd3d3LnczLm9yZy8yMDAwL3N2ZyI+PGcgZmlsbD0iIzlEOUQ5RCIgZmlsbC1ydWxlPSJub256ZXJvIj48cGF0aCBkPSJNMjAgMEgyQzEgMCAwIDEgMCAydjE0YzAgMS4xLjkgMiAyIDJoMThjMSAwIDItMSAyLTJWMmMwLTEtMS0yLTItMnptMCAxNS45MmMtLjAyLjAzLS4wNi4wNi0uMDguMDhIMlYyLjA4TDIuMDggMmgxNy44M2MuMDMuMDIuMDYuMDYuMDguMDh2MTMuODRIMjB6Ii8+PHBhdGggZD0iTTEwIDEyLjUxTDcuNSA5LjUgNCAxNGgxNGwtNC41LTZ6Ii8+PC9nPjwvc3ZnPg==);width:62px;height:62px\"></div><div class=\"_21YjFX _2A07HP\" style=\"background-image:url(https://rukminim1.flixcart.com/blobio/124/124/imr/blobio-imr_bc21e31e604c4dac8ce5d5bc85e4f943.jpg?q=90), url(data:image/svg+xml;base64,PHN2ZyB3aWR0aD0iMjIiIGhlaWdodD0iMTgiIHhtbG5zPSJodHRwOi8vd3d3LnczLm9yZy8yMDAwL3N2ZyI+PGcgZmlsbD0iIzlEOUQ5RCIgZmlsbC1ydWxlPSJub256ZXJvIj48cGF0aCBkPSJNMjAgMEgyQzEgMCAwIDEgMCAydjE0YzAgMS4xLjkgMiAyIDJoMThjMSAwIDItMSAyLTJWMmMwLTEtMS0yLTItMnptMCAxNS45MmMtLjAyLjAzLS4wNi4wNi0uMDguMDhIMlYyLjA4TDIuMDggMmgxNy44M2MuMDMuMDIuMDYuMDYuMDguMDh2MTMuODRIMjB6Ii8+PHBhdGggZD0iTTEwIDEyLjUxTDcuNSA5LjUgNCAxNGgxNGwtNC41LTZ6Ii8+PC9nPjwvc3ZnPg==);width:62px;height:62px\"></div></div><div class=\"row _3n8db9\"><div class=\"row\"><p class=\"_2sc7ZR _2V5EHH\">Manas Yadav</p><svg class=\"_2a1p_T\" height=\"14\" viewbox=\"0 0 12 12\" width=\"14\" xmlns=\"http://www.w3.org/2000/svg\"><g><circle cx=\"6\" cy=\"6\" fill=\"#878787\" r=\"6\"></circle><path d=\"M3 6l2 2 4-4\" fill=\"#878787\" stroke=\"#FFF\" stroke-width=\"1.5\"></path></g></svg><p class=\"_2mcZGG\" id=\"review-130b4b3b-df70-4553-ab23-04086242ad37\"><span>Certified Buyer</span><span>, Raebareli</span></p><div></div><p class=\"_2sc7ZR\">4 months ago</p></div><div class=\"_1e9_Zu\"><div class=\"row\"><div class=\"_27aTsS\"><div class=\"_1LmwT9\"><svg class=\"skCrcq\" height=\"15\" width=\"20\" xmlns=\"http://www.w3.org/2000/svg\"><path class=\"_1LIt4y\" d=\"M9.58.006c-.41.043-.794.32-1.01.728-.277.557-2.334 4.693-2.74 5.1-.41.407-.944.6-1.544.6v8.572h7.5c.45 0 .835-.28 1.007-.665 0 0 2.207-6.234 2.207-6.834 0-.6-.47-1.072-1.07-1.072h-3.216c-.6 0-1.07-.535-1.07-1.07 0-.537.835-3.387 1.006-3.944.17-.557-.107-1.157-.664-1.35-.15-.043-.257-.086-.407-.064zM0 6.434v8.572h2.143V6.434H0z\" fill=\"#fff\" fill-rule=\"evenodd\"></path></svg><span class=\"_3c3Px5\">191</span></div><div class=\"_1LmwT9 pkR4jH\"><svg class=\"skCrcq pkR4jH\" height=\"15\" width=\"20\" xmlns=\"http://www.w3.org/2000/svg\"><path class=\"_1LIt4y\" d=\"M9.58.006c-.41.043-.794.32-1.01.728-.277.557-2.334 4.693-2.74 5.1-.41.407-.944.6-1.544.6v8.572h7.5c.45 0 .835-.28 1.007-.665 0 0 2.207-6.234 2.207-6.834 0-.6-.47-1.072-1.07-1.072h-3.216c-.6 0-1.07-.535-1.07-1.07 0-.537.835-3.387 1.006-3.944.17-.557-.107-1.157-.664-1.35-.15-.043-.257-.086-.407-.064zM0 6.434v8.572h2.143V6.434H0z\" fill=\"#fff\" fill-rule=\"evenodd\"></path></svg><span class=\"_3c3Px5\">30</span></div></div><div class=\"_2bmov8\"><svg class=\"_2UvOBb\" height=\"11\" viewbox=\"0 0 16 27\" width=\"6\" xmlns=\"http://www.w3.org/2000/svg\"><path class=\"_2aPE6f\" d=\"M16 23.207L6.11 13.161 16 3.093 12.955 0 0 13.161l12.955 13.161z\" fill=\"#fff\"></path></svg><div class=\"_3E8aIl _38dCuf\"><div class=\"_3XCI6U\"><a href=\"/reviews/MOBGMTW2HFCMQY35:150?reviewId=130b4b3b-df70-4553-ab23-04086242ad37\"><span>Permalink</span></a></div><div class=\"_3XCI6U _2b2z-j\"><span>Report Abuse</span></div></div></div></div></div></div></div></div></div><div class=\"_16PBlm\"><div class=\"col\"><div class=\"col _2wzgFH\"><div class=\"row\"><div class=\"_3LWZlK _1BLPMq\">5<img class=\"_1wB99o\" src=\"data:image/svg+xml;base64,PHN2ZyB4bWxucz0iaHR0cDovL3d3dy53My5vcmcvMjAwMC9zdmciIHdpZHRoPSIxMyIgaGVpZ2h0PSIxMiI+PHBhdGggZmlsbD0iI0ZGRiIgZD0iTTYuNSA5LjQzOWwtMy42NzQgMi4yMy45NC00LjI2LTMuMjEtMi44ODMgNC4yNTQtLjQwNEw2LjUuMTEybDEuNjkgNC4wMSA0LjI1NC40MDQtMy4yMSAyLjg4Mi45NCA0LjI2eiIvPjwvc3ZnPg==\"/></div><p class=\"_2-N8zT\">Best in the market!</p></div><div class=\"row\"><div class=\"t-ZTKy\"><div><div class=\"\">One of the best phone in the smart series performance camera battery is very good</div><span class=\"_1H-bmy\"><span>READ MORE</span></span></div></div></div><div class=\"_2nMSwX _3oLIki\"><div class=\"_21YjFX _2A07HP\" style=\"background-image:url(https://rukminim1.flixcart.com/blobio/124/124/imr/blobio-imr_2c9d0a9708c842ddae3e99bdfb8ee954.jpg?q=90), url(data:image/svg+xml;base64,PHN2ZyB3aWR0aD0iMjIiIGhlaWdodD0iMTgiIHhtbG5zPSJodHRwOi8vd3d3LnczLm9yZy8yMDAwL3N2ZyI+PGcgZmlsbD0iIzlEOUQ5RCIgZmlsbC1ydWxlPSJub256ZXJvIj48cGF0aCBkPSJNMjAgMEgyQzEgMCAwIDEgMCAydjE0YzAgMS4xLjkgMiAyIDJoMThjMSAwIDItMSAyLTJWMmMwLTEtMS0yLTItMnptMCAxNS45MmMtLjAyLjAzLS4wNi4wNi0uMDguMDhIMlYyLjA4TDIuMDggMmgxNy44M2MuMDMuMDIuMDYuMDYuMDguMDh2MTMuODRIMjB6Ii8+PHBhdGggZD0iTTEwIDEyLjUxTDcuNSA5LjUgNCAxNGgxNGwtNC41LTZ6Ii8+PC9nPjwvc3ZnPg==);width:62px;height:62px\"></div></div><div class=\"row _3n8db9\"><div class=\"row\"><p class=\"_2sc7ZR _2V5EHH\">Sai</p><svg class=\"_2a1p_T\" height=\"14\" viewbox=\"0 0 12 12\" width=\"14\" xmlns=\"http://www.w3.org/2000/svg\"><g><circle cx=\"6\" cy=\"6\" fill=\"#878787\" r=\"6\"></circle><path d=\"M3 6l2 2 4-4\" fill=\"#878787\" stroke=\"#FFF\" stroke-width=\"1.5\"></path></g></svg><p class=\"_2mcZGG\" id=\"review-943bcc2f-3cc1-436e-a90d-13852039e0ea\"><span>Certified Buyer</span><span>, Thirumangalam</span></p><div></div><p class=\"_2sc7ZR\">5 months ago</p></div><div class=\"_1e9_Zu\"><div class=\"row\"><div class=\"_27aTsS\"><div class=\"_1LmwT9\"><svg class=\"skCrcq\" height=\"15\" width=\"20\" xmlns=\"http://www.w3.org/2000/svg\"><path class=\"_1LIt4y\" d=\"M9.58.006c-.41.043-.794.32-1.01.728-.277.557-2.334 4.693-2.74 5.1-.41.407-.944.6-1.544.6v8.572h7.5c.45 0 .835-.28 1.007-.665 0 0 2.207-6.234 2.207-6.834 0-.6-.47-1.072-1.07-1.072h-3.216c-.6 0-1.07-.535-1.07-1.07 0-.537.835-3.387 1.006-3.944.17-.557-.107-1.157-.664-1.35-.15-.043-.257-.086-.407-.064zM0 6.434v8.572h2.143V6.434H0z\" fill=\"#fff\" fill-rule=\"evenodd\"></path></svg><span class=\"_3c3Px5\">539</span></div><div class=\"_1LmwT9 pkR4jH\"><svg class=\"skCrcq pkR4jH\" height=\"15\" width=\"20\" xmlns=\"http://www.w3.org/2000/svg\"><path class=\"_1LIt4y\" d=\"M9.58.006c-.41.043-.794.32-1.01.728-.277.557-2.334 4.693-2.74 5.1-.41.407-.944.6-1.544.6v8.572h7.5c.45 0 .835-.28 1.007-.665 0 0 2.207-6.234 2.207-6.834 0-.6-.47-1.072-1.07-1.072h-3.216c-.6 0-1.07-.535-1.07-1.07 0-.537.835-3.387 1.006-3.944.17-.557-.107-1.157-.664-1.35-.15-.043-.257-.086-.407-.064zM0 6.434v8.572h2.143V6.434H0z\" fill=\"#fff\" fill-rule=\"evenodd\"></path></svg><span class=\"_3c3Px5\">103</span></div></div><div class=\"_2bmov8\"><svg class=\"_2UvOBb\" height=\"11\" viewbox=\"0 0 16 27\" width=\"6\" xmlns=\"http://www.w3.org/2000/svg\"><path class=\"_2aPE6f\" d=\"M16 23.207L6.11 13.161 16 3.093 12.955 0 0 13.161l12.955 13.161z\" fill=\"#fff\"></path></svg><div class=\"_3E8aIl _38dCuf\"><div class=\"_3XCI6U\"><a href=\"/reviews/MOBGMTW2WYG2A2FM:16?reviewId=943bcc2f-3cc1-436e-a90d-13852039e0ea\"><span>Permalink</span></a></div><div class=\"_3XCI6U _2b2z-j\"><span>Report Abuse</span></div></div></div></div></div></div></div></div></div><div class=\"_16PBlm _3_IKGE\"><div class=\"col\"><div class=\"col _2wzgFH\"><div class=\"row\"><div class=\"_3LWZlK _1BLPMq\">5<img class=\"_1wB99o\" src=\"data:image/svg+xml;base64,PHN2ZyB4bWxucz0iaHR0cDovL3d3dy53My5vcmcvMjAwMC9zdmciIHdpZHRoPSIxMyIgaGVpZ2h0PSIxMiI+PHBhdGggZmlsbD0iI0ZGRiIgZD0iTTYuNSA5LjQzOWwtMy42NzQgMi4yMy45NC00LjI2LTMuMjEtMi44ODMgNC4yNTQtLjQwNEw2LjUuMTEybDEuNjkgNC4wMSA0LjI1NC40MDQtMy4yMSAyLjg4Mi45NCA0LjI2eiIvPjwvc3ZnPg==\"/></div><p class=\"_2-N8zT\">Fabulous!</p></div><div class=\"row\"><div class=\"t-ZTKy\"><div><div class=\"\">Good smartphone</div><span class=\"_1H-bmy\"><span>READ MORE</span></span></div></div></div><div class=\"_2nMSwX _3oLIki\"><div class=\"_21YjFX _2A07HP\" style=\"background-image:url(https://rukminim1.flixcart.com/blobio/124/124/imr/blobio-imr_b6b8b212be0f420e9e5220c7e8586a65.jpg?q=90), url(data:image/svg+xml;base64,PHN2ZyB3aWR0aD0iMjIiIGhlaWdodD0iMTgiIHhtbG5zPSJodHRwOi8vd3d3LnczLm9yZy8yMDAwL3N2ZyI+PGcgZmlsbD0iIzlEOUQ5RCIgZmlsbC1ydWxlPSJub256ZXJvIj48cGF0aCBkPSJNMjAgMEgyQzEgMCAwIDEgMCAydjE0YzAgMS4xLjkgMiAyIDJoMThjMSAwIDItMSAyLTJWMmMwLTEtMS0yLTItMnptMCAxNS45MmMtLjAyLjAzLS4wNi4wNi0uMDguMDhIMlYyLjA4TDIuMDggMmgxNy44M2MuMDMuMDIuMDYuMDYuMDguMDh2MTMuODRIMjB6Ii8+PHBhdGggZD0iTTEwIDEyLjUxTDcuNSA5LjUgNCAxNGgxNGwtNC41LTZ6Ii8+PC9nPjwvc3ZnPg==);width:62px;height:62px\"></div></div><div class=\"row _3n8db9\"><div class=\"row\"><p class=\"_2sc7ZR _2V5EHH\">Satish Jaiswal </p><svg class=\"_2a1p_T\" height=\"14\" viewbox=\"0 0 12 12\" width=\"14\" xmlns=\"http://www.w3.org/2000/svg\"><g><circle cx=\"6\" cy=\"6\" fill=\"#878787\" r=\"6\"></circle><path d=\"M3 6l2 2 4-4\" fill=\"#878787\" stroke=\"#FFF\" stroke-width=\"1.5\"></path></g></svg><p class=\"_2mcZGG\" id=\"review-02bf0285-cc77-4ec9-b1c6-4017c049b667\"><span>Certified Buyer</span><span>, Vasai Virar</span></p><div></div><p class=\"_2sc7ZR\">4 months ago</p></div><div class=\"_1e9_Zu\"><div class=\"row\"><div class=\"_27aTsS\"><div class=\"_1LmwT9\"><svg class=\"skCrcq\" height=\"15\" width=\"20\" xmlns=\"http://www.w3.org/2000/svg\"><path class=\"_1LIt4y\" d=\"M9.58.006c-.41.043-.794.32-1.01.728-.277.557-2.334 4.693-2.74 5.1-.41.407-.944.6-1.544.6v8.572h7.5c.45 0 .835-.28 1.007-.665 0 0 2.207-6.234 2.207-6.834 0-.6-.47-1.072-1.07-1.072h-3.216c-.6 0-1.07-.535-1.07-1.07 0-.537.835-3.387 1.006-3.944.17-.557-.107-1.157-.664-1.35-.15-.043-.257-.086-.407-.064zM0 6.434v8.572h2.143V6.434H0z\" fill=\"#fff\" fill-rule=\"evenodd\"></path></svg><span class=\"_3c3Px5\">424</span></div><div class=\"_1LmwT9 pkR4jH\"><svg class=\"skCrcq pkR4jH\" height=\"15\" width=\"20\" xmlns=\"http://www.w3.org/2000/svg\"><path class=\"_1LIt4y\" d=\"M9.58.006c-.41.043-.794.32-1.01.728-.277.557-2.334 4.693-2.74 5.1-.41.407-.944.6-1.544.6v8.572h7.5c.45 0 .835-.28 1.007-.665 0 0 2.207-6.234 2.207-6.834 0-.6-.47-1.072-1.07-1.072h-3.216c-.6 0-1.07-.535-1.07-1.07 0-.537.835-3.387 1.006-3.944.17-.557-.107-1.157-.664-1.35-.15-.043-.257-.086-.407-.064zM0 6.434v8.572h2.143V6.434H0z\" fill=\"#fff\" fill-rule=\"evenodd\"></path></svg><span class=\"_3c3Px5\">79</span></div></div><div class=\"_2bmov8\"><svg class=\"_2UvOBb\" height=\"11\" viewbox=\"0 0 16 27\" width=\"6\" xmlns=\"http://www.w3.org/2000/svg\"><path class=\"_2aPE6f\" d=\"M16 23.207L6.11 13.161 16 3.093 12.955 0 0 13.161l12.955 13.161z\" fill=\"#fff\"></path></svg><div class=\"_3E8aIl _38dCuf\"><div class=\"_3XCI6U\"><a href=\"/reviews/MOBGMTW2WYG2A2FM:245?reviewId=02bf0285-cc77-4ec9-b1c6-4017c049b667\"><span>Permalink</span></a></div><div class=\"_3XCI6U _2b2z-j\"><span>Report Abuse</span></div></div></div></div></div></div></div></div></div><div class=\"_16PBlm _3_IKGE\"><div class=\"col\"><div class=\"col _2wzgFH\"><div class=\"row\"><div class=\"_3LWZlK _1BLPMq\">5<img class=\"_1wB99o\" src=\"data:image/svg+xml;base64,PHN2ZyB4bWxucz0iaHR0cDovL3d3dy53My5vcmcvMjAwMC9zdmciIHdpZHRoPSIxMyIgaGVpZ2h0PSIxMiI+PHBhdGggZmlsbD0iI0ZGRiIgZD0iTTYuNSA5LjQzOWwtMy42NzQgMi4yMy45NC00LjI2LTMuMjEtMi44ODMgNC4yNTQtLjQwNEw2LjUuMTEybDEuNjkgNC4wMSA0LjI1NC40MDQtMy4yMSAyLjg4Mi45NCA0LjI2eiIvPjwvc3ZnPg==\"/></div><p class=\"_2-N8zT\">Terrific purchase</p></div><div class=\"row\"><div class=\"t-ZTKy\"><div><div class=\"\">Good</div><span class=\"_1H-bmy\"><span>READ MORE</span></span></div></div></div><div class=\"_2nMSwX _3oLIki\"><div class=\"_21YjFX _2A07HP\" style=\"background-image:url(https://rukminim1.flixcart.com/blobio/124/124/imr/blobio-imr_fdcade027db047058e6bb65bf6cc0296.jpg?q=90), url(data:image/svg+xml;base64,PHN2ZyB3aWR0aD0iMjIiIGhlaWdodD0iMTgiIHhtbG5zPSJodHRwOi8vd3d3LnczLm9yZy8yMDAwL3N2ZyI+PGcgZmlsbD0iIzlEOUQ5RCIgZmlsbC1ydWxlPSJub256ZXJvIj48cGF0aCBkPSJNMjAgMEgyQzEgMCAwIDEgMCAydjE0YzAgMS4xLjkgMiAyIDJoMThjMSAwIDItMSAyLTJWMmMwLTEtMS0yLTItMnptMCAxNS45MmMtLjAyLjAzLS4wNi4wNi0uMDguMDhIMlYyLjA4TDIuMDggMmgxNy44M2MuMDMuMDIuMDYuMDYuMDguMDh2MTMuODRIMjB6Ii8+PHBhdGggZD0iTTEwIDEyLjUxTDcuNSA5LjUgNCAxNGgxNGwtNC41LTZ6Ii8+PC9nPjwvc3ZnPg==);width:62px;height:62px\"></div></div><div class=\"row _3n8db9\"><div class=\"row\"><p class=\"_2sc7ZR _2V5EHH\">Mohd Shafik Ansari</p><svg class=\"_2a1p_T\" height=\"14\" viewbox=\"0 0 12 12\" width=\"14\" xmlns=\"http://www.w3.org/2000/svg\"><g><circle cx=\"6\" cy=\"6\" fill=\"#878787\" r=\"6\"></circle><path d=\"M3 6l2 2 4-4\" fill=\"#878787\" stroke=\"#FFF\" stroke-width=\"1.5\"></path></g></svg><p class=\"_2mcZGG\" id=\"review-d37dd5c5-f677-4d41-8240-42455f670f9b\"><span>Certified Buyer</span><span>, Kundli Industrial Area</span></p><div></div><p class=\"_2sc7ZR\">5 months ago</p></div><div class=\"_1e9_Zu\"><div class=\"row\"><div class=\"_27aTsS\"><div class=\"_1LmwT9\"><svg class=\"skCrcq\" height=\"15\" width=\"20\" xmlns=\"http://www.w3.org/2000/svg\"><path class=\"_1LIt4y\" d=\"M9.58.006c-.41.043-.794.32-1.01.728-.277.557-2.334 4.693-2.74 5.1-.41.407-.944.6-1.544.6v8.572h7.5c.45 0 .835-.28 1.007-.665 0 0 2.207-6.234 2.207-6.834 0-.6-.47-1.072-1.07-1.072h-3.216c-.6 0-1.07-.535-1.07-1.07 0-.537.835-3.387 1.006-3.944.17-.557-.107-1.157-.664-1.35-.15-.043-.257-.086-.407-.064zM0 6.434v8.572h2.143V6.434H0z\" fill=\"#fff\" fill-rule=\"evenodd\"></path></svg><span class=\"_3c3Px5\">304</span></div><div class=\"_1LmwT9 pkR4jH\"><svg class=\"skCrcq pkR4jH\" height=\"15\" width=\"20\" xmlns=\"http://www.w3.org/2000/svg\"><path class=\"_1LIt4y\" d=\"M9.58.006c-.41.043-.794.32-1.01.728-.277.557-2.334 4.693-2.74 5.1-.41.407-.944.6-1.544.6v8.572h7.5c.45 0 .835-.28 1.007-.665 0 0 2.207-6.234 2.207-6.834 0-.6-.47-1.072-1.07-1.072h-3.216c-.6 0-1.07-.535-1.07-1.07 0-.537.835-3.387 1.006-3.944.17-.557-.107-1.157-.664-1.35-.15-.043-.257-.086-.407-.064zM0 6.434v8.572h2.143V6.434H0z\" fill=\"#fff\" fill-rule=\"evenodd\"></path></svg><span class=\"_3c3Px5\">54</span></div></div><div class=\"_2bmov8\"><svg class=\"_2UvOBb\" height=\"11\" viewbox=\"0 0 16 27\" width=\"6\" xmlns=\"http://www.w3.org/2000/svg\"><path class=\"_2aPE6f\" d=\"M16 23.207L6.11 13.161 16 3.093 12.955 0 0 13.161l12.955 13.161z\" fill=\"#fff\"></path></svg><div class=\"_3E8aIl _38dCuf\"><div class=\"_3XCI6U\"><a href=\"/reviews/MOBGMTW2WYG2A2FM:7?reviewId=d37dd5c5-f677-4d41-8240-42455f670f9b\"><span>Permalink</span></a></div><div class=\"_3XCI6U _2b2z-j\"><span>Report Abuse</span></div></div></div></div></div></div></div></div></div><div class=\"_16PBlm _3_IKGE\"><div class=\"col\"><div class=\"col _2wzgFH\"><div class=\"row\"><div class=\"_3LWZlK _1BLPMq\">5<img class=\"_1wB99o\" src=\"data:image/svg+xml;base64,PHN2ZyB4bWxucz0iaHR0cDovL3d3dy53My5vcmcvMjAwMC9zdmciIHdpZHRoPSIxMyIgaGVpZ2h0PSIxMiI+PHBhdGggZmlsbD0iI0ZGRiIgZD0iTTYuNSA5LjQzOWwtMy42NzQgMi4yMy45NC00LjI2LTMuMjEtMi44ODMgNC4yNTQtLjQwNEw2LjUuMTEybDEuNjkgNC4wMSA0LjI1NC40MDQtMy4yMSAyLjg4Mi45NCA0LjI2eiIvPjwvc3ZnPg==\"/></div><p class=\"_2-N8zT\">Terrific</p></div><div class=\"row\"><div class=\"t-ZTKy\"><div><div class=\"\">Wonderful 👍</div><span class=\"_1H-bmy\"><span>READ MORE</span></span></div></div></div><div class=\"_2nMSwX _3oLIki\"><div class=\"_21YjFX _2A07HP\" style=\"background-image:url(https://rukminim1.flixcart.com/blobio/124/124/imr/blobio-imr_7088061ff8174bf1bd29bb40128dec3d.jpg?q=90), url(data:image/svg+xml;base64,PHN2ZyB3aWR0aD0iMjIiIGhlaWdodD0iMTgiIHhtbG5zPSJodHRwOi8vd3d3LnczLm9yZy8yMDAwL3N2ZyI+PGcgZmlsbD0iIzlEOUQ5RCIgZmlsbC1ydWxlPSJub256ZXJvIj48cGF0aCBkPSJNMjAgMEgyQzEgMCAwIDEgMCAydjE0YzAgMS4xLjkgMiAyIDJoMThjMSAwIDItMSAyLTJWMmMwLTEtMS0yLTItMnptMCAxNS45MmMtLjAyLjAzLS4wNi4wNi0uMDguMDhIMlYyLjA4TDIuMDggMmgxNy44M2MuMDMuMDIuMDYuMDYuMDguMDh2MTMuODRIMjB6Ii8+PHBhdGggZD0iTTEwIDEyLjUxTDcuNSA5LjUgNCAxNGgxNGwtNC41LTZ6Ii8+PC9nPjwvc3ZnPg==);width:62px;height:62px\"></div><div class=\"_21YjFX _2A07HP\" style=\"background-image:url(https://rukminim1.flixcart.com/blobio/124/124/imr/blobio-imr_9e4835da18144f77b7a59f746474d0ba.jpg?q=90), url(data:image/svg+xml;base64,PHN2ZyB3aWR0aD0iMjIiIGhlaWdodD0iMTgiIHhtbG5zPSJodHRwOi8vd3d3LnczLm9yZy8yMDAwL3N2ZyI+PGcgZmlsbD0iIzlEOUQ5RCIgZmlsbC1ydWxlPSJub256ZXJvIj48cGF0aCBkPSJNMjAgMEgyQzEgMCAwIDEgMCAydjE0YzAgMS4xLjkgMiAyIDJoMThjMSAwIDItMSAyLTJWMmMwLTEtMS0yLTItMnptMCAxNS45MmMtLjAyLjAzLS4wNi4wNi0uMDguMDhIMlYyLjA4TDIuMDggMmgxNy44M2MuMDMuMDIuMDYuMDYuMDguMDh2MTMuODRIMjB6Ii8+PHBhdGggZD0iTTEwIDEyLjUxTDcuNSA5LjUgNCAxNGgxNGwtNC41LTZ6Ii8+PC9nPjwvc3ZnPg==);width:62px;height:62px\"></div><div class=\"_21YjFX _2A07HP\" style=\"background-image:url(https://rukminim1.flixcart.com/blobio/124/124/imr/blobio-imr_115b4d0122524ac0a5c5904c0dddee12.jpg?q=90), url(data:image/svg+xml;base64,PHN2ZyB3aWR0aD0iMjIiIGhlaWdodD0iMTgiIHhtbG5zPSJodHRwOi8vd3d3LnczLm9yZy8yMDAwL3N2ZyI+PGcgZmlsbD0iIzlEOUQ5RCIgZmlsbC1ydWxlPSJub256ZXJvIj48cGF0aCBkPSJNMjAgMEgyQzEgMCAwIDEgMCAydjE0YzAgMS4xLjkgMiAyIDJoMThjMSAwIDItMSAyLTJWMmMwLTEtMS0yLTItMnptMCAxNS45MmMtLjAyLjAzLS4wNi4wNi0uMDguMDhIMlYyLjA4TDIuMDggMmgxNy44M2MuMDMuMDIuMDYuMDYuMDguMDh2MTMuODRIMjB6Ii8+PHBhdGggZD0iTTEwIDEyLjUxTDcuNSA5LjUgNCAxNGgxNGwtNC41LTZ6Ii8+PC9nPjwvc3ZnPg==);width:62px;height:62px\"></div><div class=\"_21YjFX _2A07HP\" style=\"background-image:url(https://rukminim1.flixcart.com/blobio/124/124/imr/blobio-imr_f6fc0c5727a645d195d49d51d9dfd8f2.jpg?q=90), url(data:image/svg+xml;base64,PHN2ZyB3aWR0aD0iMjIiIGhlaWdodD0iMTgiIHhtbG5zPSJodHRwOi8vd3d3LnczLm9yZy8yMDAwL3N2ZyI+PGcgZmlsbD0iIzlEOUQ5RCIgZmlsbC1ydWxlPSJub256ZXJvIj48cGF0aCBkPSJNMjAgMEgyQzEgMCAwIDEgMCAydjE0YzAgMS4xLjkgMiAyIDJoMThjMSAwIDItMSAyLTJWMmMwLTEtMS0yLTItMnptMCAxNS45MmMtLjAyLjAzLS4wNi4wNi0uMDguMDhIMlYyLjA4TDIuMDggMmgxNy44M2MuMDMuMDIuMDYuMDYuMDguMDh2MTMuODRIMjB6Ii8+PHBhdGggZD0iTTEwIDEyLjUxTDcuNSA5LjUgNCAxNGgxNGwtNC41LTZ6Ii8+PC9nPjwvc3ZnPg==);width:62px;height:62px\"></div><div class=\"_21YjFX _2A07HP\" style=\"background-image:url(https://rukminim1.flixcart.com/blobio/124/124/imr/blobio-imr_6caf7d0c0e3b4efbb4584b03fcc645c7.jpg?q=90), url(data:image/svg+xml;base64,PHN2ZyB3aWR0aD0iMjIiIGhlaWdodD0iMTgiIHhtbG5zPSJodHRwOi8vd3d3LnczLm9yZy8yMDAwL3N2ZyI+PGcgZmlsbD0iIzlEOUQ5RCIgZmlsbC1ydWxlPSJub256ZXJvIj48cGF0aCBkPSJNMjAgMEgyQzEgMCAwIDEgMCAydjE0YzAgMS4xLjkgMiAyIDJoMThjMSAwIDItMSAyLTJWMmMwLTEtMS0yLTItMnptMCAxNS45MmMtLjAyLjAzLS4wNi4wNi0uMDguMDhIMlYyLjA4TDIuMDggMmgxNy44M2MuMDMuMDIuMDYuMDYuMDguMDh2MTMuODRIMjB6Ii8+PHBhdGggZD0iTTEwIDEyLjUxTDcuNSA5LjUgNCAxNGgxNGwtNC41LTZ6Ii8+PC9nPjwvc3ZnPg==);width:62px;height:62px\"></div></div><div class=\"row _3n8db9\"><div class=\"row\"><p class=\"_2sc7ZR _2V5EHH\">Khushiram Yogi</p><svg class=\"_2a1p_T\" height=\"14\" viewbox=\"0 0 12 12\" width=\"14\" xmlns=\"http://www.w3.org/2000/svg\"><g><circle cx=\"6\" cy=\"6\" fill=\"#878787\" r=\"6\"></circle><path d=\"M3 6l2 2 4-4\" fill=\"#878787\" stroke=\"#FFF\" stroke-width=\"1.5\"></path></g></svg><p class=\"_2mcZGG\" id=\"review-e4266666-403d-4f60-8c83-a68dc509f8ff\"><span>Certified Buyer</span><span>, Mehandipur</span></p><div></div><p class=\"_2sc7ZR\">3 months ago</p></div><div class=\"_1e9_Zu\"><div class=\"row\"><div class=\"_27aTsS\"><div class=\"_1LmwT9\"><svg class=\"skCrcq\" height=\"15\" width=\"20\" xmlns=\"http://www.w3.org/2000/svg\"><path class=\"_1LIt4y\" d=\"M9.58.006c-.41.043-.794.32-1.01.728-.277.557-2.334 4.693-2.74 5.1-.41.407-.944.6-1.544.6v8.572h7.5c.45 0 .835-.28 1.007-.665 0 0 2.207-6.234 2.207-6.834 0-.6-.47-1.072-1.07-1.072h-3.216c-.6 0-1.07-.535-1.07-1.07 0-.537.835-3.387 1.006-3.944.17-.557-.107-1.157-.664-1.35-.15-.043-.257-.086-.407-.064zM0 6.434v8.572h2.143V6.434H0z\" fill=\"#fff\" fill-rule=\"evenodd\"></path></svg><span class=\"_3c3Px5\">197</span></div><div class=\"_1LmwT9 pkR4jH\"><svg class=\"skCrcq pkR4jH\" height=\"15\" width=\"20\" xmlns=\"http://www.w3.org/2000/svg\"><path class=\"_1LIt4y\" d=\"M9.58.006c-.41.043-.794.32-1.01.728-.277.557-2.334 4.693-2.74 5.1-.41.407-.944.6-1.544.6v8.572h7.5c.45 0 .835-.28 1.007-.665 0 0 2.207-6.234 2.207-6.834 0-.6-.47-1.072-1.07-1.072h-3.216c-.6 0-1.07-.535-1.07-1.07 0-.537.835-3.387 1.006-3.944.17-.557-.107-1.157-.664-1.35-.15-.043-.257-.086-.407-.064zM0 6.434v8.572h2.143V6.434H0z\" fill=\"#fff\" fill-rule=\"evenodd\"></path></svg><span class=\"_3c3Px5\">34</span></div></div><div class=\"_2bmov8\"><svg class=\"_2UvOBb\" height=\"11\" viewbox=\"0 0 16 27\" width=\"6\" xmlns=\"http://www.w3.org/2000/svg\"><path class=\"_2aPE6f\" d=\"M16 23.207L6.11 13.161 16 3.093 12.955 0 0 13.161l12.955 13.161z\" fill=\"#fff\"></path></svg><div class=\"_3E8aIl _38dCuf\"><div class=\"_3XCI6U\"><a href=\"/reviews/MOBGMTW2WYG2A2FM:784?reviewId=e4266666-403d-4f60-8c83-a68dc509f8ff\"><span>Permalink</span></a></div><div class=\"_3XCI6U _2b2z-j\"><span>Report Abuse</span></div></div></div></div></div></div></div></div></div><div class=\"_16PBlm _3_IKGE\"><div class=\"col\"><div class=\"col _2wzgFH\"><div class=\"row\"><div class=\"_3LWZlK _1BLPMq\">4<img class=\"_1wB99o\" src=\"data:image/svg+xml;base64,PHN2ZyB4bWxucz0iaHR0cDovL3d3dy53My5vcmcvMjAwMC9zdmciIHdpZHRoPSIxMyIgaGVpZ2h0PSIxMiI+PHBhdGggZmlsbD0iI0ZGRiIgZD0iTTYuNSA5LjQzOWwtMy42NzQgMi4yMy45NC00LjI2LTMuMjEtMi44ODMgNC4yNTQtLjQwNEw2LjUuMTEybDEuNjkgNC4wMSA0LjI1NC40MDQtMy4yMSAyLjg4Mi45NCA0LjI2eiIvPjwvc3ZnPg==\"/></div><p class=\"_2-N8zT\">Delightful</p></div><div class=\"row\"><div class=\"t-ZTKy\"><div><div class=\"\">Considering the budget it's good</div><span class=\"_1H-bmy\"><span>READ MORE</span></span></div></div></div><div class=\"_2nMSwX _3oLIki\"><div class=\"_21YjFX _2A07HP\" style=\"background-image:url(https://rukminim1.flixcart.com/blobio/124/124/imr/blobio-imr_355e3edef15148a78b52626e03c52ffc.jpg?q=90), url(data:image/svg+xml;base64,PHN2ZyB3aWR0aD0iMjIiIGhlaWdodD0iMTgiIHhtbG5zPSJodHRwOi8vd3d3LnczLm9yZy8yMDAwL3N2ZyI+PGcgZmlsbD0iIzlEOUQ5RCIgZmlsbC1ydWxlPSJub256ZXJvIj48cGF0aCBkPSJNMjAgMEgyQzEgMCAwIDEgMCAydjE0YzAgMS4xLjkgMiAyIDJoMThjMSAwIDItMSAyLTJWMmMwLTEtMS0yLTItMnptMCAxNS45MmMtLjAyLjAzLS4wNi4wNi0uMDguMDhIMlYyLjA4TDIuMDggMmgxNy44M2MuMDMuMDIuMDYuMDYuMDguMDh2MTMuODRIMjB6Ii8+PHBhdGggZD0iTTEwIDEyLjUxTDcuNSA5LjUgNCAxNGgxNGwtNC41LTZ6Ii8+PC9nPjwvc3ZnPg==);width:62px;height:62px\"></div><div class=\"_21YjFX _2A07HP\" style=\"background-image:url(https://rukminim1.flixcart.com/blobio/124/124/imr/blobio-imr_8be84d04e0824c6fa1e3d718a0dcadec.jpg?q=90), url(data:image/svg+xml;base64,PHN2ZyB3aWR0aD0iMjIiIGhlaWdodD0iMTgiIHhtbG5zPSJodHRwOi8vd3d3LnczLm9yZy8yMDAwL3N2ZyI+PGcgZmlsbD0iIzlEOUQ5RCIgZmlsbC1ydWxlPSJub256ZXJvIj48cGF0aCBkPSJNMjAgMEgyQzEgMCAwIDEgMCAydjE0YzAgMS4xLjkgMiAyIDJoMThjMSAwIDItMSAyLTJWMmMwLTEtMS0yLTItMnptMCAxNS45MmMtLjAyLjAzLS4wNi4wNi0uMDguMDhIMlYyLjA4TDIuMDggMmgxNy44M2MuMDMuMDIuMDYuMDYuMDguMDh2MTMuODRIMjB6Ii8+PHBhdGggZD0iTTEwIDEyLjUxTDcuNSA5LjUgNCAxNGgxNGwtNC41LTZ6Ii8+PC9nPjwvc3ZnPg==);width:62px;height:62px\"></div></div><div class=\"row _3n8db9\"><div class=\"row\"><p class=\"_2sc7ZR _2V5EHH\">Sohel  Asgar</p><svg class=\"_2a1p_T\" height=\"14\" viewbox=\"0 0 12 12\" width=\"14\" xmlns=\"http://www.w3.org/2000/svg\"><g><circle cx=\"6\" cy=\"6\" fill=\"#878787\" r=\"6\"></circle><path d=\"M3 6l2 2 4-4\" fill=\"#878787\" stroke=\"#FFF\" stroke-width=\"1.5\"></path></g></svg><p class=\"_2mcZGG\" id=\"review-371d21ef-3d71-4b94-98a8-ab0094e283de\"><span>Certified Buyer</span><span>, Haora District</span></p><div></div><p class=\"_2sc7ZR\">4 months ago</p></div><div class=\"_1e9_Zu\"><div class=\"row\"><div class=\"_27aTsS\"><div class=\"_1LmwT9\"><svg class=\"skCrcq\" height=\"15\" width=\"20\" xmlns=\"http://www.w3.org/2000/svg\"><path class=\"_1LIt4y\" d=\"M9.58.006c-.41.043-.794.32-1.01.728-.277.557-2.334 4.693-2.74 5.1-.41.407-.944.6-1.544.6v8.572h7.5c.45 0 .835-.28 1.007-.665 0 0 2.207-6.234 2.207-6.834 0-.6-.47-1.072-1.07-1.072h-3.216c-.6 0-1.07-.535-1.07-1.07 0-.537.835-3.387 1.006-3.944.17-.557-.107-1.157-.664-1.35-.15-.043-.257-.086-.407-.064zM0 6.434v8.572h2.143V6.434H0z\" fill=\"#fff\" fill-rule=\"evenodd\"></path></svg><span class=\"_3c3Px5\">336</span></div><div class=\"_1LmwT9 pkR4jH\"><svg class=\"skCrcq pkR4jH\" height=\"15\" width=\"20\" xmlns=\"http://www.w3.org/2000/svg\"><path class=\"_1LIt4y\" d=\"M9.58.006c-.41.043-.794.32-1.01.728-.277.557-2.334 4.693-2.74 5.1-.41.407-.944.6-1.544.6v8.572h7.5c.45 0 .835-.28 1.007-.665 0 0 2.207-6.234 2.207-6.834 0-.6-.47-1.072-1.07-1.072h-3.216c-.6 0-1.07-.535-1.07-1.07 0-.537.835-3.387 1.006-3.944.17-.557-.107-1.157-.664-1.35-.15-.043-.257-.086-.407-.064zM0 6.434v8.572h2.143V6.434H0z\" fill=\"#fff\" fill-rule=\"evenodd\"></path></svg><span class=\"_3c3Px5\">66</span></div></div><div class=\"_2bmov8\"><svg class=\"_2UvOBb\" height=\"11\" viewbox=\"0 0 16 27\" width=\"6\" xmlns=\"http://www.w3.org/2000/svg\"><path class=\"_2aPE6f\" d=\"M16 23.207L6.11 13.161 16 3.093 12.955 0 0 13.161l12.955 13.161z\" fill=\"#fff\"></path></svg><div class=\"_3E8aIl _38dCuf\"><div class=\"_3XCI6U\"><a href=\"/reviews/MOBGMTW2HFCMQY35:110?reviewId=371d21ef-3d71-4b94-98a8-ab0094e283de\"><span>Permalink</span></a></div><div class=\"_3XCI6U _2b2z-j\"><span>Report Abuse</span></div></div></div></div></div></div></div></div></div><div class=\"_16PBlm _3_IKGE\"><div class=\"col\"><div class=\"col _2wzgFH\"><div class=\"row\"><div class=\"_3LWZlK _1BLPMq\">5<img class=\"_1wB99o\" src=\"data:image/svg+xml;base64,PHN2ZyB4bWxucz0iaHR0cDovL3d3dy53My5vcmcvMjAwMC9zdmciIHdpZHRoPSIxMyIgaGVpZ2h0PSIxMiI+PHBhdGggZmlsbD0iI0ZGRiIgZD0iTTYuNSA5LjQzOWwtMy42NzQgMi4yMy45NC00LjI2LTMuMjEtMi44ODMgNC4yNTQtLjQwNEw2LjUuMTEybDEuNjkgNC4wMSA0LjI1NC40MDQtMy4yMSAyLjg4Mi45NCA0LjI2eiIvPjwvc3ZnPg==\"/></div><p class=\"_2-N8zT\">Excellent</p></div><div class=\"row\"><div class=\"t-ZTKy\"><div><div class=\"\">Very very best phone very excellent very smooth value for money best battery backup very fast working very fast charge</div><span class=\"_1H-bmy\"><span>READ MORE</span></span></div></div></div><div class=\"_2nMSwX _3oLIki\"><div class=\"_21YjFX _2A07HP\" style=\"background-image:url(https://rukminim1.flixcart.com/blobio/124/124/imr/blobio-imr_ac9004232fa34297b7e360e1611d5a36.jpg?q=90), url(data:image/svg+xml;base64,PHN2ZyB3aWR0aD0iMjIiIGhlaWdodD0iMTgiIHhtbG5zPSJodHRwOi8vd3d3LnczLm9yZy8yMDAwL3N2ZyI+PGcgZmlsbD0iIzlEOUQ5RCIgZmlsbC1ydWxlPSJub256ZXJvIj48cGF0aCBkPSJNMjAgMEgyQzEgMCAwIDEgMCAydjE0YzAgMS4xLjkgMiAyIDJoMThjMSAwIDItMSAyLTJWMmMwLTEtMS0yLTItMnptMCAxNS45MmMtLjAyLjAzLS4wNi4wNi0uMDguMDhIMlYyLjA4TDIuMDggMmgxNy44M2MuMDMuMDIuMDYuMDYuMDguMDh2MTMuODRIMjB6Ii8+PHBhdGggZD0iTTEwIDEyLjUxTDcuNSA5LjUgNCAxNGgxNGwtNC41LTZ6Ii8+PC9nPjwvc3ZnPg==);width:62px;height:62px\"></div><div class=\"_21YjFX _2A07HP\" style=\"background-image:url(https://rukminim1.flixcart.com/blobio/124/124/imr/blobio-imr_05b42c07e7274100bcfb4c18e59af53a.jpg?q=90), url(data:image/svg+xml;base64,PHN2ZyB3aWR0aD0iMjIiIGhlaWdodD0iMTgiIHhtbG5zPSJodHRwOi8vd3d3LnczLm9yZy8yMDAwL3N2ZyI+PGcgZmlsbD0iIzlEOUQ5RCIgZmlsbC1ydWxlPSJub256ZXJvIj48cGF0aCBkPSJNMjAgMEgyQzEgMCAwIDEgMCAydjE0YzAgMS4xLjkgMiAyIDJoMThjMSAwIDItMSAyLTJWMmMwLTEtMS0yLTItMnptMCAxNS45MmMtLjAyLjAzLS4wNi4wNi0uMDguMDhIMlYyLjA4TDIuMDggMmgxNy44M2MuMDMuMDIuMDYuMDYuMDguMDh2MTMuODRIMjB6Ii8+PHBhdGggZD0iTTEwIDEyLjUxTDcuNSA5LjUgNCAxNGgxNGwtNC41LTZ6Ii8+PC9nPjwvc3ZnPg==);width:62px;height:62px\"></div><div class=\"_21YjFX _2A07HP\" style=\"background-image:url(https://rukminim1.flixcart.com/blobio/124/124/imr/blobio-imr_f01cdbd674ed4ce49e52b288cf9ee724.jpg?q=90), url(data:image/svg+xml;base64,PHN2ZyB3aWR0aD0iMjIiIGhlaWdodD0iMTgiIHhtbG5zPSJodHRwOi8vd3d3LnczLm9yZy8yMDAwL3N2ZyI+PGcgZmlsbD0iIzlEOUQ5RCIgZmlsbC1ydWxlPSJub256ZXJvIj48cGF0aCBkPSJNMjAgMEgyQzEgMCAwIDEgMCAydjE0YzAgMS4xLjkgMiAyIDJoMThjMSAwIDItMSAyLTJWMmMwLTEtMS0yLTItMnptMCAxNS45MmMtLjAyLjAzLS4wNi4wNi0uMDguMDhIMlYyLjA4TDIuMDggMmgxNy44M2MuMDMuMDIuMDYuMDYuMDguMDh2MTMuODRIMjB6Ii8+PHBhdGggZD0iTTEwIDEyLjUxTDcuNSA5LjUgNCAxNGgxNGwtNC41LTZ6Ii8+PC9nPjwvc3ZnPg==);width:62px;height:62px\"></div><div class=\"_21YjFX _2A07HP\" style=\"background-image:url(https://rukminim1.flixcart.com/blobio/124/124/imr/blobio-imr_9486c31ce5a04f518286d8451faad78a.jpg?q=90), url(data:image/svg+xml;base64,PHN2ZyB3aWR0aD0iMjIiIGhlaWdodD0iMTgiIHhtbG5zPSJodHRwOi8vd3d3LnczLm9yZy8yMDAwL3N2ZyI+PGcgZmlsbD0iIzlEOUQ5RCIgZmlsbC1ydWxlPSJub256ZXJvIj48cGF0aCBkPSJNMjAgMEgyQzEgMCAwIDEgMCAydjE0YzAgMS4xLjkgMiAyIDJoMThjMSAwIDItMSAyLTJWMmMwLTEtMS0yLTItMnptMCAxNS45MmMtLjAyLjAzLS4wNi4wNi0uMDguMDhIMlYyLjA4TDIuMDggMmgxNy44M2MuMDMuMDIuMDYuMDYuMDguMDh2MTMuODRIMjB6Ii8+PHBhdGggZD0iTTEwIDEyLjUxTDcuNSA5LjUgNCAxNGgxNGwtNC41LTZ6Ii8+PC9nPjwvc3ZnPg==);width:62px;height:62px\"></div><div class=\"_21YjFX _2A07HP\" style=\"background-image:url(https://rukminim1.flixcart.com/blobio/124/124/imr/blobio-imr_62f27ecbed4e41b78693c21db87a6af4.jpg?q=90), url(data:image/svg+xml;base64,PHN2ZyB3aWR0aD0iMjIiIGhlaWdodD0iMTgiIHhtbG5zPSJodHRwOi8vd3d3LnczLm9yZy8yMDAwL3N2ZyI+PGcgZmlsbD0iIzlEOUQ5RCIgZmlsbC1ydWxlPSJub256ZXJvIj48cGF0aCBkPSJNMjAgMEgyQzEgMCAwIDEgMCAydjE0YzAgMS4xLjkgMiAyIDJoMThjMSAwIDItMSAyLTJWMmMwLTEtMS0yLTItMnptMCAxNS45MmMtLjAyLjAzLS4wNi4wNi0uMDguMDhIMlYyLjA4TDIuMDggMmgxNy44M2MuMDMuMDIuMDYuMDYuMDguMDh2MTMuODRIMjB6Ii8+PHBhdGggZD0iTTEwIDEyLjUxTDcuNSA5LjUgNCAxNGgxNGwtNC41LTZ6Ii8+PC9nPjwvc3ZnPg==);width:62px;height:62px\"></div></div><div class=\"row _3n8db9\"><div class=\"row\"><p class=\"_2sc7ZR _2V5EHH\">Parveen Rana G</p><svg class=\"_2a1p_T\" height=\"14\" viewbox=\"0 0 12 12\" width=\"14\" xmlns=\"http://www.w3.org/2000/svg\"><g><circle cx=\"6\" cy=\"6\" fill=\"#878787\" r=\"6\"></circle><path d=\"M3 6l2 2 4-4\" fill=\"#878787\" stroke=\"#FFF\" stroke-width=\"1.5\"></path></g></svg><p class=\"_2mcZGG\" id=\"review-197546cb-c208-400b-8a56-003cd47dc9b5\"><span>Certified Buyer</span><span>, Doghat</span></p><div></div><p class=\"_2sc7ZR\">4 months ago</p></div><div class=\"_1e9_Zu\"><div class=\"row\"><div class=\"_27aTsS\"><div class=\"_1LmwT9\"><svg class=\"skCrcq\" height=\"15\" width=\"20\" xmlns=\"http://www.w3.org/2000/svg\"><path class=\"_1LIt4y\" d=\"M9.58.006c-.41.043-.794.32-1.01.728-.277.557-2.334 4.693-2.74 5.1-.41.407-.944.6-1.544.6v8.572h7.5c.45 0 .835-.28 1.007-.665 0 0 2.207-6.234 2.207-6.834 0-.6-.47-1.072-1.07-1.072h-3.216c-.6 0-1.07-.535-1.07-1.07 0-.537.835-3.387 1.006-3.944.17-.557-.107-1.157-.664-1.35-.15-.043-.257-.086-.407-.064zM0 6.434v8.572h2.143V6.434H0z\" fill=\"#fff\" fill-rule=\"evenodd\"></path></svg><span class=\"_3c3Px5\">1705</span></div><div class=\"_1LmwT9 pkR4jH\"><svg class=\"skCrcq pkR4jH\" height=\"15\" width=\"20\" xmlns=\"http://www.w3.org/2000/svg\"><path class=\"_1LIt4y\" d=\"M9.58.006c-.41.043-.794.32-1.01.728-.277.557-2.334 4.693-2.74 5.1-.41.407-.944.6-1.544.6v8.572h7.5c.45 0 .835-.28 1.007-.665 0 0 2.207-6.234 2.207-6.834 0-.6-.47-1.072-1.07-1.072h-3.216c-.6 0-1.07-.535-1.07-1.07 0-.537.835-3.387 1.006-3.944.17-.557-.107-1.157-.664-1.35-.15-.043-.257-.086-.407-.064zM0 6.434v8.572h2.143V6.434H0z\" fill=\"#fff\" fill-rule=\"evenodd\"></path></svg><span class=\"_3c3Px5\">403</span></div></div><div class=\"_2bmov8\"><svg class=\"_2UvOBb\" height=\"11\" viewbox=\"0 0 16 27\" width=\"6\" xmlns=\"http://www.w3.org/2000/svg\"><path class=\"_2aPE6f\" d=\"M16 23.207L6.11 13.161 16 3.093 12.955 0 0 13.161l12.955 13.161z\" fill=\"#fff\"></path></svg><div class=\"_3E8aIl _38dCuf\"><div class=\"_3XCI6U\"><a href=\"/reviews/MOBGMTW2WYG2A2FM:387?reviewId=197546cb-c208-400b-8a56-003cd47dc9b5\"><span>Permalink</span></a></div><div class=\"_3XCI6U _2b2z-j\"><span>Report Abuse</span></div></div></div></div></div></div></div></div></div><div class=\"_16PBlm _3_IKGE\"><div class=\"col\"><div class=\"col _2wzgFH\"><div class=\"row\"><div class=\"_3LWZlK _1BLPMq\">4<img class=\"_1wB99o\" src=\"data:image/svg+xml;base64,PHN2ZyB4bWxucz0iaHR0cDovL3d3dy53My5vcmcvMjAwMC9zdmciIHdpZHRoPSIxMyIgaGVpZ2h0PSIxMiI+PHBhdGggZmlsbD0iI0ZGRiIgZD0iTTYuNSA5LjQzOWwtMy42NzQgMi4yMy45NC00LjI2LTMuMjEtMi44ODMgNC4yNTQtLjQwNEw2LjUuMTEybDEuNjkgNC4wMSA0LjI1NC40MDQtMy4yMSAyLjg4Mi45NCA0LjI2eiIvPjwvc3ZnPg==\"/></div><p class=\"_2-N8zT\">Good choice</p></div><div class=\"row\"><div class=\"t-ZTKy\"><div><div class=\"\">Nice product... 👍</div><span class=\"_1H-bmy\"><span>READ MORE</span></span></div></div></div><div class=\"_2nMSwX _3oLIki\"><div class=\"_21YjFX _2A07HP\" style=\"background-image:url(https://rukminim1.flixcart.com/blobio/124/124/imr/blobio-imr_c60606f4f6e04674827b6fc4fb1dd3fb.jpg?q=90), url(data:image/svg+xml;base64,PHN2ZyB3aWR0aD0iMjIiIGhlaWdodD0iMTgiIHhtbG5zPSJodHRwOi8vd3d3LnczLm9yZy8yMDAwL3N2ZyI+PGcgZmlsbD0iIzlEOUQ5RCIgZmlsbC1ydWxlPSJub256ZXJvIj48cGF0aCBkPSJNMjAgMEgyQzEgMCAwIDEgMCAydjE0YzAgMS4xLjkgMiAyIDJoMThjMSAwIDItMSAyLTJWMmMwLTEtMS0yLTItMnptMCAxNS45MmMtLjAyLjAzLS4wNi4wNi0uMDguMDhIMlYyLjA4TDIuMDggMmgxNy44M2MuMDMuMDIuMDYuMDYuMDguMDh2MTMuODRIMjB6Ii8+PHBhdGggZD0iTTEwIDEyLjUxTDcuNSA5LjUgNCAxNGgxNGwtNC41LTZ6Ii8+PC9nPjwvc3ZnPg==);width:62px;height:62px\"></div></div><div class=\"row _3n8db9\"><div class=\"row\"><p class=\"_2sc7ZR _2V5EHH\">Nitish Kumar</p><svg class=\"_2a1p_T\" height=\"14\" viewbox=\"0 0 12 12\" width=\"14\" xmlns=\"http://www.w3.org/2000/svg\"><g><circle cx=\"6\" cy=\"6\" fill=\"#878787\" r=\"6\"></circle><path d=\"M3 6l2 2 4-4\" fill=\"#878787\" stroke=\"#FFF\" stroke-width=\"1.5\"></path></g></svg><p class=\"_2mcZGG\" id=\"review-251e51bb-3307-4ab7-8605-6fd0659cd32c\"><span>Certified Buyer</span><span>, Lakhisarai District</span></p><div></div><p class=\"_2sc7ZR\">5 months ago</p></div><div class=\"_1e9_Zu\"><div class=\"row\"><div class=\"_27aTsS\"><div class=\"_1LmwT9\"><svg class=\"skCrcq\" height=\"15\" width=\"20\" xmlns=\"http://www.w3.org/2000/svg\"><path class=\"_1LIt4y\" d=\"M9.58.006c-.41.043-.794.32-1.01.728-.277.557-2.334 4.693-2.74 5.1-.41.407-.944.6-1.544.6v8.572h7.5c.45 0 .835-.28 1.007-.665 0 0 2.207-6.234 2.207-6.834 0-.6-.47-1.072-1.07-1.072h-3.216c-.6 0-1.07-.535-1.07-1.07 0-.537.835-3.387 1.006-3.944.17-.557-.107-1.157-.664-1.35-.15-.043-.257-.086-.407-.064zM0 6.434v8.572h2.143V6.434H0z\" fill=\"#fff\" fill-rule=\"evenodd\"></path></svg><span class=\"_3c3Px5\">118</span></div><div class=\"_1LmwT9 pkR4jH\"><svg class=\"skCrcq pkR4jH\" height=\"15\" width=\"20\" xmlns=\"http://www.w3.org/2000/svg\"><path class=\"_1LIt4y\" d=\"M9.58.006c-.41.043-.794.32-1.01.728-.277.557-2.334 4.693-2.74 5.1-.41.407-.944.6-1.544.6v8.572h7.5c.45 0 .835-.28 1.007-.665 0 0 2.207-6.234 2.207-6.834 0-.6-.47-1.072-1.07-1.072h-3.216c-.6 0-1.07-.535-1.07-1.07 0-.537.835-3.387 1.006-3.944.17-.557-.107-1.157-.664-1.35-.15-.043-.257-.086-.407-.064zM0 6.434v8.572h2.143V6.434H0z\" fill=\"#fff\" fill-rule=\"evenodd\"></path></svg><span class=\"_3c3Px5\">20</span></div></div><div class=\"_2bmov8\"><svg class=\"_2UvOBb\" height=\"11\" viewbox=\"0 0 16 27\" width=\"6\" xmlns=\"http://www.w3.org/2000/svg\"><path class=\"_2aPE6f\" d=\"M16 23.207L6.11 13.161 16 3.093 12.955 0 0 13.161l12.955 13.161z\" fill=\"#fff\"></path></svg><div class=\"_3E8aIl _38dCuf\"><div class=\"_3XCI6U\"><a href=\"/reviews/MOBGMTW2WYG2A2FM:67?reviewId=251e51bb-3307-4ab7-8605-6fd0659cd32c\"><span>Permalink</span></a></div><div class=\"_3XCI6U _2b2z-j\"><span>Report Abuse</span></div></div></div></div></div></div></div></div></div><div class=\"_16PBlm _3_IKGE\"><div class=\"col\"><div class=\"col _2wzgFH\"><div class=\"row\"><div class=\"_3LWZlK _1BLPMq\">5<img class=\"_1wB99o\" src=\"data:image/svg+xml;base64,PHN2ZyB4bWxucz0iaHR0cDovL3d3dy53My5vcmcvMjAwMC9zdmciIHdpZHRoPSIxMyIgaGVpZ2h0PSIxMiI+PHBhdGggZmlsbD0iI0ZGRiIgZD0iTTYuNSA5LjQzOWwtMy42NzQgMi4yMy45NC00LjI2LTMuMjEtMi44ODMgNC4yNTQtLjQwNEw2LjUuMTEybDEuNjkgNC4wMSA0LjI1NC40MDQtMy4yMSAyLjg4Mi45NCA0LjI2eiIvPjwvc3ZnPg==\"/></div><p class=\"_2-N8zT\">Mind-blowing purchase</p></div><div class=\"row\"><div class=\"t-ZTKy\"><div><div class=\"\">Awesome Product in this sigment. Stylish Design, Good Camra, Fast Response Finger Sensor , Thank you infinix &amp; thanks Flipkart 🤩😍🥰</div><span class=\"_1H-bmy\"><span>READ MORE</span></span></div></div></div><div class=\"_2nMSwX _3oLIki\"><div class=\"_21YjFX _2A07HP\" style=\"background-image:url(https://rukminim1.flixcart.com/blobio/124/124/imr/blobio-imr_8ea0a99934404bb28629c2578c3c8bf6.jpg?q=90), url(data:image/svg+xml;base64,PHN2ZyB3aWR0aD0iMjIiIGhlaWdodD0iMTgiIHhtbG5zPSJodHRwOi8vd3d3LnczLm9yZy8yMDAwL3N2ZyI+PGcgZmlsbD0iIzlEOUQ5RCIgZmlsbC1ydWxlPSJub256ZXJvIj48cGF0aCBkPSJNMjAgMEgyQzEgMCAwIDEgMCAydjE0YzAgMS4xLjkgMiAyIDJoMThjMSAwIDItMSAyLTJWMmMwLTEtMS0yLTItMnptMCAxNS45MmMtLjAyLjAzLS4wNi4wNi0uMDguMDhIMlYyLjA4TDIuMDggMmgxNy44M2MuMDMuMDIuMDYuMDYuMDguMDh2MTMuODRIMjB6Ii8+PHBhdGggZD0iTTEwIDEyLjUxTDcuNSA5LjUgNCAxNGgxNGwtNC41LTZ6Ii8+PC9nPjwvc3ZnPg==);width:62px;height:62px\"></div><div class=\"_21YjFX _2A07HP\" style=\"background-image:url(https://rukminim1.flixcart.com/blobio/124/124/imr/blobio-imr_1d31df093d8a40e799fd76a94ca0369e.jpg?q=90), url(data:image/svg+xml;base64,PHN2ZyB3aWR0aD0iMjIiIGhlaWdodD0iMTgiIHhtbG5zPSJodHRwOi8vd3d3LnczLm9yZy8yMDAwL3N2ZyI+PGcgZmlsbD0iIzlEOUQ5RCIgZmlsbC1ydWxlPSJub256ZXJvIj48cGF0aCBkPSJNMjAgMEgyQzEgMCAwIDEgMCAydjE0YzAgMS4xLjkgMiAyIDJoMThjMSAwIDItMSAyLTJWMmMwLTEtMS0yLTItMnptMCAxNS45MmMtLjAyLjAzLS4wNi4wNi0uMDguMDhIMlYyLjA4TDIuMDggMmgxNy44M2MuMDMuMDIuMDYuMDYuMDguMDh2MTMuODRIMjB6Ii8+PHBhdGggZD0iTTEwIDEyLjUxTDcuNSA5LjUgNCAxNGgxNGwtNC41LTZ6Ii8+PC9nPjwvc3ZnPg==);width:62px;height:62px\"></div><div class=\"_21YjFX _2A07HP\" style=\"background-image:url(https://rukminim1.flixcart.com/blobio/124/124/imr/blobio-imr_e27f4da1136b43309232661be96b4b80.jpg?q=90), url(data:image/svg+xml;base64,PHN2ZyB3aWR0aD0iMjIiIGhlaWdodD0iMTgiIHhtbG5zPSJodHRwOi8vd3d3LnczLm9yZy8yMDAwL3N2ZyI+PGcgZmlsbD0iIzlEOUQ5RCIgZmlsbC1ydWxlPSJub256ZXJvIj48cGF0aCBkPSJNMjAgMEgyQzEgMCAwIDEgMCAydjE0YzAgMS4xLjkgMiAyIDJoMThjMSAwIDItMSAyLTJWMmMwLTEtMS0yLTItMnptMCAxNS45MmMtLjAyLjAzLS4wNi4wNi0uMDguMDhIMlYyLjA4TDIuMDggMmgxNy44M2MuMDMuMDIuMDYuMDYuMDguMDh2MTMuODRIMjB6Ii8+PHBhdGggZD0iTTEwIDEyLjUxTDcuNSA5LjUgNCAxNGgxNGwtNC41LTZ6Ii8+PC9nPjwvc3ZnPg==);width:62px;height:62px\"></div></div><div class=\"row _3n8db9\"><div class=\"row\"><p class=\"_2sc7ZR _2V5EHH\">Masum Alam</p><svg class=\"_2a1p_T\" height=\"14\" viewbox=\"0 0 12 12\" width=\"14\" xmlns=\"http://www.w3.org/2000/svg\"><g><circle cx=\"6\" cy=\"6\" fill=\"#878787\" r=\"6\"></circle><path d=\"M3 6l2 2 4-4\" fill=\"#878787\" stroke=\"#FFF\" stroke-width=\"1.5\"></path></g></svg><p class=\"_2mcZGG\" id=\"review-a786d4a2-684c-485d-af3b-5103347975e3\"><span>Certified Buyer</span><span>, Purba Champaran District</span></p><div></div><p class=\"_2sc7ZR\">5 months ago</p></div><div class=\"_1e9_Zu\"><div class=\"row\"><div class=\"_27aTsS\"><div class=\"_1LmwT9\"><svg class=\"skCrcq\" height=\"15\" width=\"20\" xmlns=\"http://www.w3.org/2000/svg\"><path class=\"_1LIt4y\" d=\"M9.58.006c-.41.043-.794.32-1.01.728-.277.557-2.334 4.693-2.74 5.1-.41.407-.944.6-1.544.6v8.572h7.5c.45 0 .835-.28 1.007-.665 0 0 2.207-6.234 2.207-6.834 0-.6-.47-1.072-1.07-1.072h-3.216c-.6 0-1.07-.535-1.07-1.07 0-.537.835-3.387 1.006-3.944.17-.557-.107-1.157-.664-1.35-.15-.043-.257-.086-.407-.064zM0 6.434v8.572h2.143V6.434H0z\" fill=\"#fff\" fill-rule=\"evenodd\"></path></svg><span class=\"_3c3Px5\">2097</span></div><div class=\"_1LmwT9 pkR4jH\"><svg class=\"skCrcq pkR4jH\" height=\"15\" width=\"20\" xmlns=\"http://www.w3.org/2000/svg\"><path class=\"_1LIt4y\" d=\"M9.58.006c-.41.043-.794.32-1.01.728-.277.557-2.334 4.693-2.74 5.1-.41.407-.944.6-1.544.6v8.572h7.5c.45 0 .835-.28 1.007-.665 0 0 2.207-6.234 2.207-6.834 0-.6-.47-1.072-1.07-1.072h-3.216c-.6 0-1.07-.535-1.07-1.07 0-.537.835-3.387 1.006-3.944.17-.557-.107-1.157-.664-1.35-.15-.043-.257-.086-.407-.064zM0 6.434v8.572h2.143V6.434H0z\" fill=\"#fff\" fill-rule=\"evenodd\"></path></svg><span class=\"_3c3Px5\">532</span></div></div><div class=\"_2bmov8\"><svg class=\"_2UvOBb\" height=\"11\" viewbox=\"0 0 16 27\" width=\"6\" xmlns=\"http://www.w3.org/2000/svg\"><path class=\"_2aPE6f\" d=\"M16 23.207L6.11 13.161 16 3.093 12.955 0 0 13.161l12.955 13.161z\" fill=\"#fff\"></path></svg><div class=\"_3E8aIl _38dCuf\"><div class=\"_3XCI6U\"><a href=\"/reviews/MOBGMTW2WYG2A2FM:89?reviewId=a786d4a2-684c-485d-af3b-5103347975e3\"><span>Permalink</span></a></div><div class=\"_3XCI6U _2b2z-j\"><span>Report Abuse</span></div></div></div></div></div></div></div></div></div></div><div class=\"_2c2kV-\"><span class=\"MCE--B\">+</span></div><a href=\"/infinix-smart-7-emerald-green-128-gb/product-reviews/itm7b72b66485a59?pid=MOBGRH6YM3KZXNWF&amp;lid=LSTMOBGRH6YM3KZXNWFSJXTYT&amp;marketplace=FLIPKART\"><div class=\"_3UAT2v _16PBlm\"><span class=\"\">All 2873 reviews</span></div></a></div></div><div class=\"_1AtVbE col-12-12\"><div class=\"_1v1N_F\"><div><div class=\"row _1uIQVx\"><div class=\"_2n4XY2 _1d7nTU col\">Questions and Answers</div><div class=\"col AJmKFS\"><img height=\"20\" src=\"data:image/svg+xml;base64,PHN2ZyB3aWR0aD0iMTYiIGhlaWdodD0iMTYiIHZpZXdCb3g9IjAgMCAxNiAxNiIgeG1sbnM9Imh0dHA6Ly93d3cudzMub3JnLzIwMDAvc3ZnIj48dGl0bGU+R3JvdXAgNTwvdGl0bGU+PGcgZmlsbD0iIzIxMjEyMSIgZmlsbC1ydWxlPSJldmVub2RkIj48cGF0aCBkPSJNMTEuNjE4IDkuODk3bDQuMjI0IDQuMjEyYy4wOTIuMDkuMS4yMy4wMi4zMTJsLTEuNDY0IDEuNDZjLS4wOC4wOC0uMjIyLjA3Mi0uMzE0LS4wMkw5Ljg2OCAxMS42Nk02LjQ4NiAxMC45Yy0yLjQyIDAtNC4zOC0xLjk1NS00LjM4LTQuMzY3IDAtMi40MTMgMS45Ni00LjM3IDQuMzgtNC4zN3M0LjM4IDEuOTU3IDQuMzggNC4zN2MwIDIuNDEyLTEuOTYgNC4zNjgtNC4zOCA0LjM2OG0wLTEwLjgzNEMyLjkwNC4wNjYgMCAyLjk2IDAgNi41MzMgMCAxMC4xMDUgMi45MDQgMTMgNi40ODYgMTNzNi40ODctMi44OTUgNi40ODctNi40NjdjMC0zLjU3Mi0yLjkwNS02LjQ2Ny02LjQ4Ny02LjQ2NyIvPjwvZz48L3N2Zz4=\" width=\"20\"/></div></div><div class=\"\"><div class=\"_1RWRBu\"><div><div class=\"_1xR0kG _3cziW5\"><span class=\"_3PSmm0\">Q:</span><span>Fast charger hai kya</span></div><div><div class=\"_2yeNfb\"><span class=\"_3PSmm0\">A:</span><span>Yas very slow charge</span></div><div class=\"_1OuUqT\"><div class=\"_1nBIs6\"><div class=\"qLyyvN\"><span class=\"_2GEIK5\">Anonymous</span></div><span class=\"OE2Dzi\"><svg class=\"_3V5JvW\" height=\"14\" viewbox=\"0 0 12 12\" width=\"14\" xmlns=\"http://www.w3.org/2000/svg\"><g><circle cx=\"6\" cy=\"6\" fill=\"#878787\" r=\"6\"></circle><path d=\"M3 6l2 2 4-4\" fill=\"#878787\" stroke=\"#FFF\" stroke-width=\"1.5\"></path></g></svg>Certified Buyer</span></div><div class=\"_1O5m0R\"><div class=\"_1LmwT9 _1EEi-k\"><svg class=\"skCrcq\" height=\"15\" width=\"20\" xmlns=\"http://www.w3.org/2000/svg\"><path class=\"_1LIt4y\" d=\"M9.58.006c-.41.043-.794.32-1.01.728-.277.557-2.334 4.693-2.74 5.1-.41.407-.944.6-1.544.6v8.572h7.5c.45 0 .835-.28 1.007-.665 0 0 2.207-6.234 2.207-6.834 0-.6-.47-1.072-1.07-1.072h-3.216c-.6 0-1.07-.535-1.07-1.07 0-.537.835-3.387 1.006-3.944.17-.557-.107-1.157-.664-1.35-.15-.043-.257-.086-.407-.064zM0 6.434v8.572h2.143V6.434H0z\" fill=\"#fff\" fill-rule=\"evenodd\"></path></svg><span class=\"_3c3Px5\">243</span></div><div class=\"_1LmwT9 pkR4jH _1EEi-k\"><svg class=\"skCrcq pkR4jH\" height=\"15\" width=\"20\" xmlns=\"http://www.w3.org/2000/svg\"><path class=\"_1LIt4y\" d=\"M9.58.006c-.41.043-.794.32-1.01.728-.277.557-2.334 4.693-2.74 5.1-.41.407-.944.6-1.544.6v8.572h7.5c.45 0 .835-.28 1.007-.665 0 0 2.207-6.234 2.207-6.834 0-.6-.47-1.072-1.07-1.072h-3.216c-.6 0-1.07-.535-1.07-1.07 0-.537.835-3.387 1.006-3.944.17-.557-.107-1.157-.664-1.35-.15-.043-.257-.086-.407-.064zM0 6.434v8.572h2.143V6.434H0z\" fill=\"#fff\" fill-rule=\"evenodd\"></path></svg><span class=\"_3c3Px5\">128</span></div></div><div class=\"_2bmov8\"><svg class=\"_2UvOBb\" height=\"11\" viewbox=\"0 0 16 27\" width=\"6\" xmlns=\"http://www.w3.org/2000/svg\"><path class=\"_2aPE6f\" d=\"M16 23.207L6.11 13.161 16 3.093 12.955 0 0 13.161l12.955 13.161z\" fill=\"#fff\"></path></svg><div class=\"_3E8aIl _38dCuf\"><div class=\"_3XCI6U _2b2z-j\"><span>Report Abuse</span></div></div></div></div></div><a class=\"nC1FHF\" href=\"#\">Read other answers</a></div></div><div class=\"_1RWRBu\"><div><div class=\"_1xR0kG _3cziW5\"><span class=\"_3PSmm0\">Q:</span><span>Can I connect my earphone to this phone</span></div><div><div class=\"_2yeNfb\"><span class=\"_3PSmm0\">A:</span><span>Yes</span></div><div class=\"_1OuUqT\"><div class=\"_1nBIs6\"><div class=\"qLyyvN\"><span class=\"_2GEIK5\">Anonymous</span></div><span class=\"OE2Dzi\"><svg class=\"_3V5JvW\" height=\"14\" viewbox=\"0 0 12 12\" width=\"14\" xmlns=\"http://www.w3.org/2000/svg\"><g><circle cx=\"6\" cy=\"6\" fill=\"#878787\" r=\"6\"></circle><path d=\"M3 6l2 2 4-4\" fill=\"#878787\" stroke=\"#FFF\" stroke-width=\"1.5\"></path></g></svg>Certified Buyer</span></div><div class=\"_1O5m0R\"><div class=\"_1LmwT9 _1EEi-k\"><svg class=\"skCrcq\" height=\"15\" width=\"20\" xmlns=\"http://www.w3.org/2000/svg\"><path class=\"_1LIt4y\" d=\"M9.58.006c-.41.043-.794.32-1.01.728-.277.557-2.334 4.693-2.74 5.1-.41.407-.944.6-1.544.6v8.572h7.5c.45 0 .835-.28 1.007-.665 0 0 2.207-6.234 2.207-6.834 0-.6-.47-1.072-1.07-1.072h-3.216c-.6 0-1.07-.535-1.07-1.07 0-.537.835-3.387 1.006-3.944.17-.557-.107-1.157-.664-1.35-.15-.043-.257-.086-.407-.064zM0 6.434v8.572h2.143V6.434H0z\" fill=\"#fff\" fill-rule=\"evenodd\"></path></svg><span class=\"_3c3Px5\">137</span></div><div class=\"_1LmwT9 pkR4jH _1EEi-k\"><svg class=\"skCrcq pkR4jH\" height=\"15\" width=\"20\" xmlns=\"http://www.w3.org/2000/svg\"><path class=\"_1LIt4y\" d=\"M9.58.006c-.41.043-.794.32-1.01.728-.277.557-2.334 4.693-2.74 5.1-.41.407-.944.6-1.544.6v8.572h7.5c.45 0 .835-.28 1.007-.665 0 0 2.207-6.234 2.207-6.834 0-.6-.47-1.072-1.07-1.072h-3.216c-.6 0-1.07-.535-1.07-1.07 0-.537.835-3.387 1.006-3.944.17-.557-.107-1.157-.664-1.35-.15-.043-.257-.086-.407-.064zM0 6.434v8.572h2.143V6.434H0z\" fill=\"#fff\" fill-rule=\"evenodd\"></path></svg><span class=\"_3c3Px5\">59</span></div></div><div class=\"_2bmov8\"><svg class=\"_2UvOBb\" height=\"11\" viewbox=\"0 0 16 27\" width=\"6\" xmlns=\"http://www.w3.org/2000/svg\"><path class=\"_2aPE6f\" d=\"M16 23.207L6.11 13.161 16 3.093 12.955 0 0 13.161l12.955 13.161z\" fill=\"#fff\"></path></svg><div class=\"_3E8aIl _38dCuf\"><div class=\"_3XCI6U _2b2z-j\"><span>Report Abuse</span></div></div></div></div></div></div></div><div class=\"_1RWRBu\"><div><div class=\"_1xR0kG _3cziW5\"><span class=\"_3PSmm0\">Q:</span><span>In this phone there is finger print senser</span></div><div><div class=\"_2yeNfb\"><span class=\"_3PSmm0\">A:</span><span>Yes</span></div><div class=\"_1OuUqT\"><div class=\"_1nBIs6\"><div class=\"qLyyvN\"><span class=\"_2GEIK5\">Anonymous</span></div><span class=\"OE2Dzi\"><svg class=\"_3V5JvW\" height=\"14\" viewbox=\"0 0 12 12\" width=\"14\" xmlns=\"http://www.w3.org/2000/svg\"><g><circle cx=\"6\" cy=\"6\" fill=\"#878787\" r=\"6\"></circle><path d=\"M3 6l2 2 4-4\" fill=\"#878787\" stroke=\"#FFF\" stroke-width=\"1.5\"></path></g></svg>Certified Buyer</span></div><div class=\"_1O5m0R\"><div class=\"_1LmwT9 _1EEi-k\"><svg class=\"skCrcq\" height=\"15\" width=\"20\" xmlns=\"http://www.w3.org/2000/svg\"><path class=\"_1LIt4y\" d=\"M9.58.006c-.41.043-.794.32-1.01.728-.277.557-2.334 4.693-2.74 5.1-.41.407-.944.6-1.544.6v8.572h7.5c.45 0 .835-.28 1.007-.665 0 0 2.207-6.234 2.207-6.834 0-.6-.47-1.072-1.07-1.072h-3.216c-.6 0-1.07-.535-1.07-1.07 0-.537.835-3.387 1.006-3.944.17-.557-.107-1.157-.664-1.35-.15-.043-.257-.086-.407-.064zM0 6.434v8.572h2.143V6.434H0z\" fill=\"#fff\" fill-rule=\"evenodd\"></path></svg><span class=\"_3c3Px5\">38</span></div><div class=\"_1LmwT9 pkR4jH _1EEi-k\"><svg class=\"skCrcq pkR4jH\" height=\"15\" width=\"20\" xmlns=\"http://www.w3.org/2000/svg\"><path class=\"_1LIt4y\" d=\"M9.58.006c-.41.043-.794.32-1.01.728-.277.557-2.334 4.693-2.74 5.1-.41.407-.944.6-1.544.6v8.572h7.5c.45 0 .835-.28 1.007-.665 0 0 2.207-6.234 2.207-6.834 0-.6-.47-1.072-1.07-1.072h-3.216c-.6 0-1.07-.535-1.07-1.07 0-.537.835-3.387 1.006-3.944.17-.557-.107-1.157-.664-1.35-.15-.043-.257-.086-.407-.064zM0 6.434v8.572h2.143V6.434H0z\" fill=\"#fff\" fill-rule=\"evenodd\"></path></svg><span class=\"_3c3Px5\">12</span></div></div><div class=\"_2bmov8\"><svg class=\"_2UvOBb\" height=\"11\" viewbox=\"0 0 16 27\" width=\"6\" xmlns=\"http://www.w3.org/2000/svg\"><path class=\"_2aPE6f\" d=\"M16 23.207L6.11 13.161 16 3.093 12.955 0 0 13.161l12.955 13.161z\" fill=\"#fff\"></path></svg><div class=\"_3E8aIl _38dCuf\"><div class=\"_3XCI6U _2b2z-j\"><span>Report Abuse</span></div></div></div></div></div></div></div><div class=\"_1RWRBu _36IZKv\"><div><div class=\"_1xR0kG _3cziW5\"><span class=\"_3PSmm0\">Q:</span><span>Charging very slow how ?</span></div><div><div class=\"_2yeNfb\"><span class=\"_3PSmm0\">A:</span><span>Very slow</span></div><div class=\"_1OuUqT\"><div class=\"_1nBIs6\"><div class=\"qLyyvN\"><span class=\"_2GEIK5\">Anonymous</span></div><span class=\"OE2Dzi\"><svg class=\"_3V5JvW\" height=\"14\" viewbox=\"0 0 12 12\" width=\"14\" xmlns=\"http://www.w3.org/2000/svg\"><g><circle cx=\"6\" cy=\"6\" fill=\"#878787\" r=\"6\"></circle><path d=\"M3 6l2 2 4-4\" fill=\"#878787\" stroke=\"#FFF\" stroke-width=\"1.5\"></path></g></svg>Certified Buyer</span></div><div class=\"_1O5m0R\"><div class=\"_1LmwT9 _1EEi-k\"><svg class=\"skCrcq\" height=\"15\" width=\"20\" xmlns=\"http://www.w3.org/2000/svg\"><path class=\"_1LIt4y\" d=\"M9.58.006c-.41.043-.794.32-1.01.728-.277.557-2.334 4.693-2.74 5.1-.41.407-.944.6-1.544.6v8.572h7.5c.45 0 .835-.28 1.007-.665 0 0 2.207-6.234 2.207-6.834 0-.6-.47-1.072-1.07-1.072h-3.216c-.6 0-1.07-.535-1.07-1.07 0-.537.835-3.387 1.006-3.944.17-.557-.107-1.157-.664-1.35-.15-.043-.257-.086-.407-.064zM0 6.434v8.572h2.143V6.434H0z\" fill=\"#fff\" fill-rule=\"evenodd\"></path></svg><span class=\"_3c3Px5\">62</span></div><div class=\"_1LmwT9 pkR4jH _1EEi-k\"><svg class=\"skCrcq pkR4jH\" height=\"15\" width=\"20\" xmlns=\"http://www.w3.org/2000/svg\"><path class=\"_1LIt4y\" d=\"M9.58.006c-.41.043-.794.32-1.01.728-.277.557-2.334 4.693-2.74 5.1-.41.407-.944.6-1.544.6v8.572h7.5c.45 0 .835-.28 1.007-.665 0 0 2.207-6.234 2.207-6.834 0-.6-.47-1.072-1.07-1.072h-3.216c-.6 0-1.07-.535-1.07-1.07 0-.537.835-3.387 1.006-3.944.17-.557-.107-1.157-.664-1.35-.15-.043-.257-.086-.407-.064zM0 6.434v8.572h2.143V6.434H0z\" fill=\"#fff\" fill-rule=\"evenodd\"></path></svg><span class=\"_3c3Px5\">39</span></div></div><div class=\"_2bmov8\"><svg class=\"_2UvOBb\" height=\"11\" viewbox=\"0 0 16 27\" width=\"6\" xmlns=\"http://www.w3.org/2000/svg\"><path class=\"_2aPE6f\" d=\"M16 23.207L6.11 13.161 16 3.093 12.955 0 0 13.161l12.955 13.161z\" fill=\"#fff\"></path></svg><div class=\"_3E8aIl _38dCuf\"><div class=\"_3XCI6U _2b2z-j\"><span>Report Abuse</span></div></div></div></div></div><a class=\"nC1FHF\" href=\"#\">Read other answers</a></div></div><div class=\"_1RWRBu _36IZKv\"><div><div class=\"_1xR0kG _3cziW5\"><span class=\"_3PSmm0\">Q:</span><span>This mobile have ah finger print unlock</span></div><div><div class=\"_2yeNfb\"><span class=\"_3PSmm0\">A:</span><span>Yes</span></div><div class=\"_1OuUqT\"><div class=\"_1nBIs6\"><div class=\"qLyyvN\"><span class=\"_2GEIK5\">Anonymous</span></div><span class=\"OE2Dzi\"><svg class=\"_3V5JvW\" height=\"14\" viewbox=\"0 0 12 12\" width=\"14\" xmlns=\"http://www.w3.org/2000/svg\"><g><circle cx=\"6\" cy=\"6\" fill=\"#878787\" r=\"6\"></circle><path d=\"M3 6l2 2 4-4\" fill=\"#878787\" stroke=\"#FFF\" stroke-width=\"1.5\"></path></g></svg>Certified Buyer</span></div><div class=\"_1O5m0R\"><div class=\"_1LmwT9 _1EEi-k\"><svg class=\"skCrcq\" height=\"15\" width=\"20\" xmlns=\"http://www.w3.org/2000/svg\"><path class=\"_1LIt4y\" d=\"M9.58.006c-.41.043-.794.32-1.01.728-.277.557-2.334 4.693-2.74 5.1-.41.407-.944.6-1.544.6v8.572h7.5c.45 0 .835-.28 1.007-.665 0 0 2.207-6.234 2.207-6.834 0-.6-.47-1.072-1.07-1.072h-3.216c-.6 0-1.07-.535-1.07-1.07 0-.537.835-3.387 1.006-3.944.17-.557-.107-1.157-.664-1.35-.15-.043-.257-.086-.407-.064zM0 6.434v8.572h2.143V6.434H0z\" fill=\"#fff\" fill-rule=\"evenodd\"></path></svg><span class=\"_3c3Px5\">28</span></div><div class=\"_1LmwT9 pkR4jH _1EEi-k\"><svg class=\"skCrcq pkR4jH\" height=\"15\" width=\"20\" xmlns=\"http://www.w3.org/2000/svg\"><path class=\"_1LIt4y\" d=\"M9.58.006c-.41.043-.794.32-1.01.728-.277.557-2.334 4.693-2.74 5.1-.41.407-.944.6-1.544.6v8.572h7.5c.45 0 .835-.28 1.007-.665 0 0 2.207-6.234 2.207-6.834 0-.6-.47-1.072-1.07-1.072h-3.216c-.6 0-1.07-.535-1.07-1.07 0-.537.835-3.387 1.006-3.944.17-.557-.107-1.157-.664-1.35-.15-.043-.257-.086-.407-.064zM0 6.434v8.572h2.143V6.434H0z\" fill=\"#fff\" fill-rule=\"evenodd\"></path></svg><span class=\"_3c3Px5\">9</span></div></div><div class=\"_2bmov8\"><svg class=\"_2UvOBb\" height=\"11\" viewbox=\"0 0 16 27\" width=\"6\" xmlns=\"http://www.w3.org/2000/svg\"><path class=\"_2aPE6f\" d=\"M16 23.207L6.11 13.161 16 3.093 12.955 0 0 13.161l12.955 13.161z\" fill=\"#fff\"></path></svg><div class=\"_3E8aIl _38dCuf\"><div class=\"_3XCI6U _2b2z-j\"><span>Report Abuse</span></div></div></div></div></div></div></div><div class=\"_1RWRBu _36IZKv\"><div><div class=\"_1xR0kG _3cziW5\"><span class=\"_3PSmm0\">Q:</span><span>Does it back cover with this</span></div><div><div class=\"_2yeNfb\"><span class=\"_3PSmm0\">A:</span><span>Yes, Transparent back cover.</span></div><div class=\"_1OuUqT\"><div class=\"_1nBIs6\"><div class=\"qLyyvN\"><span class=\"_2GEIK5\">Suryavanshi Sajan</span></div><span class=\"OE2Dzi\"><svg class=\"_3V5JvW\" height=\"14\" viewbox=\"0 0 12 12\" width=\"14\" xmlns=\"http://www.w3.org/2000/svg\"><g><circle cx=\"6\" cy=\"6\" fill=\"#878787\" r=\"6\"></circle><path d=\"M3 6l2 2 4-4\" fill=\"#878787\" stroke=\"#FFF\" stroke-width=\"1.5\"></path></g></svg>Certified Buyer</span></div><div class=\"_1O5m0R\"><div class=\"_1LmwT9 _1EEi-k\"><svg class=\"skCrcq\" height=\"15\" width=\"20\" xmlns=\"http://www.w3.org/2000/svg\"><path class=\"_1LIt4y\" d=\"M9.58.006c-.41.043-.794.32-1.01.728-.277.557-2.334 4.693-2.74 5.1-.41.407-.944.6-1.544.6v8.572h7.5c.45 0 .835-.28 1.007-.665 0 0 2.207-6.234 2.207-6.834 0-.6-.47-1.072-1.07-1.072h-3.216c-.6 0-1.07-.535-1.07-1.07 0-.537.835-3.387 1.006-3.944.17-.557-.107-1.157-.664-1.35-.15-.043-.257-.086-.407-.064zM0 6.434v8.572h2.143V6.434H0z\" fill=\"#fff\" fill-rule=\"evenodd\"></path></svg><span class=\"_3c3Px5\">6</span></div><div class=\"_1LmwT9 pkR4jH _1EEi-k\"><svg class=\"skCrcq pkR4jH\" height=\"15\" width=\"20\" xmlns=\"http://www.w3.org/2000/svg\"><path class=\"_1LIt4y\" d=\"M9.58.006c-.41.043-.794.32-1.01.728-.277.557-2.334 4.693-2.74 5.1-.41.407-.944.6-1.544.6v8.572h7.5c.45 0 .835-.28 1.007-.665 0 0 2.207-6.234 2.207-6.834 0-.6-.47-1.072-1.07-1.072h-3.216c-.6 0-1.07-.535-1.07-1.07 0-.537.835-3.387 1.006-3.944.17-.557-.107-1.157-.664-1.35-.15-.043-.257-.086-.407-.064zM0 6.434v8.572h2.143V6.434H0z\" fill=\"#fff\" fill-rule=\"evenodd\"></path></svg><span class=\"_3c3Px5\">2</span></div></div><div class=\"_2bmov8\"><svg class=\"_2UvOBb\" height=\"11\" viewbox=\"0 0 16 27\" width=\"6\" xmlns=\"http://www.w3.org/2000/svg\"><path class=\"_2aPE6f\" d=\"M16 23.207L6.11 13.161 16 3.093 12.955 0 0 13.161l12.955 13.161z\" fill=\"#fff\"></path></svg><div class=\"_3E8aIl _38dCuf\"><div class=\"_3XCI6U _2b2z-j\"><span>Report Abuse</span></div></div></div></div></div></div></div><div class=\"_1RWRBu _36IZKv\"><div><div class=\"_1xR0kG _3cziW5\"><span class=\"_3PSmm0\">Q:</span><span>Direct video call support</span></div><div><div class=\"_2yeNfb\"><span class=\"_3PSmm0\">A:</span><span>Yes</span></div><div class=\"_1OuUqT\"><div class=\"_1nBIs6\"><div class=\"qLyyvN\"><span class=\"_2GEIK5\">Anonymous</span></div><span class=\"OE2Dzi\"><svg class=\"_3V5JvW\" height=\"14\" viewbox=\"0 0 12 12\" width=\"14\" xmlns=\"http://www.w3.org/2000/svg\"><g><circle cx=\"6\" cy=\"6\" fill=\"#878787\" r=\"6\"></circle><path d=\"M3 6l2 2 4-4\" fill=\"#878787\" stroke=\"#FFF\" stroke-width=\"1.5\"></path></g></svg>Certified Buyer</span></div><div class=\"_1O5m0R\"><div class=\"_1LmwT9 _1EEi-k\"><svg class=\"skCrcq\" height=\"15\" width=\"20\" xmlns=\"http://www.w3.org/2000/svg\"><path class=\"_1LIt4y\" d=\"M9.58.006c-.41.043-.794.32-1.01.728-.277.557-2.334 4.693-2.74 5.1-.41.407-.944.6-1.544.6v8.572h7.5c.45 0 .835-.28 1.007-.665 0 0 2.207-6.234 2.207-6.834 0-.6-.47-1.072-1.07-1.072h-3.216c-.6 0-1.07-.535-1.07-1.07 0-.537.835-3.387 1.006-3.944.17-.557-.107-1.157-.664-1.35-.15-.043-.257-.086-.407-.064zM0 6.434v8.572h2.143V6.434H0z\" fill=\"#fff\" fill-rule=\"evenodd\"></path></svg><span class=\"_3c3Px5\">5</span></div><div class=\"_1LmwT9 pkR4jH _1EEi-k\"><svg class=\"skCrcq pkR4jH\" height=\"15\" width=\"20\" xmlns=\"http://www.w3.org/2000/svg\"><path class=\"_1LIt4y\" d=\"M9.58.006c-.41.043-.794.32-1.01.728-.277.557-2.334 4.693-2.74 5.1-.41.407-.944.6-1.544.6v8.572h7.5c.45 0 .835-.28 1.007-.665 0 0 2.207-6.234 2.207-6.834 0-.6-.47-1.072-1.07-1.072h-3.216c-.6 0-1.07-.535-1.07-1.07 0-.537.835-3.387 1.006-3.944.17-.557-.107-1.157-.664-1.35-.15-.043-.257-.086-.407-.064zM0 6.434v8.572h2.143V6.434H0z\" fill=\"#fff\" fill-rule=\"evenodd\"></path></svg><span class=\"_3c3Px5\">1</span></div></div><div class=\"_2bmov8\"><svg class=\"_2UvOBb\" height=\"11\" viewbox=\"0 0 16 27\" width=\"6\" xmlns=\"http://www.w3.org/2000/svg\"><path class=\"_2aPE6f\" d=\"M16 23.207L6.11 13.161 16 3.093 12.955 0 0 13.161l12.955 13.161z\" fill=\"#fff\"></path></svg><div class=\"_3E8aIl _38dCuf\"><div class=\"_3XCI6U _2b2z-j\"><span>Report Abuse</span></div></div></div></div></div></div></div><div class=\"_1RWRBu _36IZKv\"><div><div class=\"_1xR0kG _3cziW5\"><span class=\"_3PSmm0\">Q:</span><span>Can i use two 4G Sims at one time on this phone.</span></div><div><div class=\"_2yeNfb\"><span class=\"_3PSmm0\">A:</span><span>Yes</span></div><div class=\"_1OuUqT\"><div class=\"_1nBIs6\"><div class=\"qLyyvN\"><span class=\"_2GEIK5\">Anonymous</span></div><span class=\"OE2Dzi\"><svg class=\"_3V5JvW\" height=\"14\" viewbox=\"0 0 12 12\" width=\"14\" xmlns=\"http://www.w3.org/2000/svg\"><g><circle cx=\"6\" cy=\"6\" fill=\"#878787\" r=\"6\"></circle><path d=\"M3 6l2 2 4-4\" fill=\"#878787\" stroke=\"#FFF\" stroke-width=\"1.5\"></path></g></svg>Certified Buyer</span></div><div class=\"_1O5m0R\"><div class=\"_1LmwT9 _1EEi-k\"><svg class=\"skCrcq\" height=\"15\" width=\"20\" xmlns=\"http://www.w3.org/2000/svg\"><path class=\"_1LIt4y\" d=\"M9.58.006c-.41.043-.794.32-1.01.728-.277.557-2.334 4.693-2.74 5.1-.41.407-.944.6-1.544.6v8.572h7.5c.45 0 .835-.28 1.007-.665 0 0 2.207-6.234 2.207-6.834 0-.6-.47-1.072-1.07-1.072h-3.216c-.6 0-1.07-.535-1.07-1.07 0-.537.835-3.387 1.006-3.944.17-.557-.107-1.157-.664-1.35-.15-.043-.257-.086-.407-.064zM0 6.434v8.572h2.143V6.434H0z\" fill=\"#fff\" fill-rule=\"evenodd\"></path></svg><span class=\"_3c3Px5\">6</span></div><div class=\"_1LmwT9 pkR4jH _1EEi-k\"><svg class=\"skCrcq pkR4jH\" height=\"15\" width=\"20\" xmlns=\"http://www.w3.org/2000/svg\"><path class=\"_1LIt4y\" d=\"M9.58.006c-.41.043-.794.32-1.01.728-.277.557-2.334 4.693-2.74 5.1-.41.407-.944.6-1.544.6v8.572h7.5c.45 0 .835-.28 1.007-.665 0 0 2.207-6.234 2.207-6.834 0-.6-.47-1.072-1.07-1.072h-3.216c-.6 0-1.07-.535-1.07-1.07 0-.537.835-3.387 1.006-3.944.17-.557-.107-1.157-.664-1.35-.15-.043-.257-.086-.407-.064zM0 6.434v8.572h2.143V6.434H0z\" fill=\"#fff\" fill-rule=\"evenodd\"></path></svg><span class=\"_3c3Px5\">3</span></div></div><div class=\"_2bmov8\"><svg class=\"_2UvOBb\" height=\"11\" viewbox=\"0 0 16 27\" width=\"6\" xmlns=\"http://www.w3.org/2000/svg\"><path class=\"_2aPE6f\" d=\"M16 23.207L6.11 13.161 16 3.093 12.955 0 0 13.161l12.955 13.161z\" fill=\"#fff\"></path></svg><div class=\"_3E8aIl _38dCuf\"><div class=\"_3XCI6U _2b2z-j\"><span>Report Abuse</span></div></div></div></div></div></div></div><div class=\"_1RWRBu _36IZKv\"><div><div class=\"_1xR0kG _3cziW5\"><span class=\"_3PSmm0\">Q:</span><span>It's can support 5g network ?</span></div><div><div class=\"_2yeNfb\"><span class=\"_3PSmm0\">A:</span><span>NO</span></div><div class=\"_1OuUqT\"><div class=\"_1nBIs6\"><div class=\"qLyyvN\"><span class=\"_2GEIK5\">srijan kumar</span></div><span class=\"OE2Dzi\"><svg class=\"_3V5JvW\" height=\"14\" viewbox=\"0 0 12 12\" width=\"14\" xmlns=\"http://www.w3.org/2000/svg\"><g><circle cx=\"6\" cy=\"6\" fill=\"#878787\" r=\"6\"></circle><path d=\"M3 6l2 2 4-4\" fill=\"#878787\" stroke=\"#FFF\" stroke-width=\"1.5\"></path></g></svg>Certified Buyer</span></div><div class=\"_1O5m0R\"><div class=\"_1LmwT9 _1EEi-k\"><svg class=\"skCrcq\" height=\"15\" width=\"20\" xmlns=\"http://www.w3.org/2000/svg\"><path class=\"_1LIt4y\" d=\"M9.58.006c-.41.043-.794.32-1.01.728-.277.557-2.334 4.693-2.74 5.1-.41.407-.944.6-1.544.6v8.572h7.5c.45 0 .835-.28 1.007-.665 0 0 2.207-6.234 2.207-6.834 0-.6-.47-1.072-1.07-1.072h-3.216c-.6 0-1.07-.535-1.07-1.07 0-.537.835-3.387 1.006-3.944.17-.557-.107-1.157-.664-1.35-.15-.043-.257-.086-.407-.064zM0 6.434v8.572h2.143V6.434H0z\" fill=\"#fff\" fill-rule=\"evenodd\"></path></svg><span class=\"_3c3Px5\">16</span></div><div class=\"_1LmwT9 pkR4jH _1EEi-k\"><svg class=\"skCrcq pkR4jH\" height=\"15\" width=\"20\" xmlns=\"http://www.w3.org/2000/svg\"><path class=\"_1LIt4y\" d=\"M9.58.006c-.41.043-.794.32-1.01.728-.277.557-2.334 4.693-2.74 5.1-.41.407-.944.6-1.544.6v8.572h7.5c.45 0 .835-.28 1.007-.665 0 0 2.207-6.234 2.207-6.834 0-.6-.47-1.072-1.07-1.072h-3.216c-.6 0-1.07-.535-1.07-1.07 0-.537.835-3.387 1.006-3.944.17-.557-.107-1.157-.664-1.35-.15-.043-.257-.086-.407-.064zM0 6.434v8.572h2.143V6.434H0z\" fill=\"#fff\" fill-rule=\"evenodd\"></path></svg><span class=\"_3c3Px5\">12</span></div></div><div class=\"_2bmov8\"><svg class=\"_2UvOBb\" height=\"11\" viewbox=\"0 0 16 27\" width=\"6\" xmlns=\"http://www.w3.org/2000/svg\"><path class=\"_2aPE6f\" d=\"M16 23.207L6.11 13.161 16 3.093 12.955 0 0 13.161l12.955 13.161z\" fill=\"#fff\"></path></svg><div class=\"_3E8aIl _38dCuf\"><div class=\"_3XCI6U _2b2z-j\"><span>Report Abuse</span></div></div></div></div></div></div></div><div class=\"_1RWRBu _36IZKv\"><div><div class=\"_1xR0kG _3cziW5\"><span class=\"_3PSmm0\">Q:</span><span>Can i connect smart watch with this phone?</span></div><div><div class=\"_2yeNfb\"><span class=\"_3PSmm0\">A:</span><span>Yes</span></div><div class=\"_1OuUqT\"><div class=\"_1nBIs6\"><div class=\"qLyyvN\"><span class=\"_2GEIK5\">Vishal Tripathi</span></div><span class=\"OE2Dzi\"><svg class=\"_3V5JvW\" height=\"14\" viewbox=\"0 0 12 12\" width=\"14\" xmlns=\"http://www.w3.org/2000/svg\"><g><circle cx=\"6\" cy=\"6\" fill=\"#878787\" r=\"6\"></circle><path d=\"M3 6l2 2 4-4\" fill=\"#878787\" stroke=\"#FFF\" stroke-width=\"1.5\"></path></g></svg>Certified Buyer</span></div><div class=\"_1O5m0R\"><div class=\"_1LmwT9 _1EEi-k\"><svg class=\"skCrcq\" height=\"15\" width=\"20\" xmlns=\"http://www.w3.org/2000/svg\"><path class=\"_1LIt4y\" d=\"M9.58.006c-.41.043-.794.32-1.01.728-.277.557-2.334 4.693-2.74 5.1-.41.407-.944.6-1.544.6v8.572h7.5c.45 0 .835-.28 1.007-.665 0 0 2.207-6.234 2.207-6.834 0-.6-.47-1.072-1.07-1.072h-3.216c-.6 0-1.07-.535-1.07-1.07 0-.537.835-3.387 1.006-3.944.17-.557-.107-1.157-.664-1.35-.15-.043-.257-.086-.407-.064zM0 6.434v8.572h2.143V6.434H0z\" fill=\"#fff\" fill-rule=\"evenodd\"></path></svg><span class=\"_3c3Px5\">4</span></div><div class=\"_1LmwT9 pkR4jH _1EEi-k\"><svg class=\"skCrcq pkR4jH\" height=\"15\" width=\"20\" xmlns=\"http://www.w3.org/2000/svg\"><path class=\"_1LIt4y\" d=\"M9.58.006c-.41.043-.794.32-1.01.728-.277.557-2.334 4.693-2.74 5.1-.41.407-.944.6-1.544.6v8.572h7.5c.45 0 .835-.28 1.007-.665 0 0 2.207-6.234 2.207-6.834 0-.6-.47-1.072-1.07-1.072h-3.216c-.6 0-1.07-.535-1.07-1.07 0-.537.835-3.387 1.006-3.944.17-.557-.107-1.157-.664-1.35-.15-.043-.257-.086-.407-.064zM0 6.434v8.572h2.143V6.434H0z\" fill=\"#fff\" fill-rule=\"evenodd\"></path></svg><span class=\"_3c3Px5\">2</span></div></div><div class=\"_2bmov8\"><svg class=\"_2UvOBb\" height=\"11\" viewbox=\"0 0 16 27\" width=\"6\" xmlns=\"http://www.w3.org/2000/svg\"><path class=\"_2aPE6f\" d=\"M16 23.207L6.11 13.161 16 3.093 12.955 0 0 13.161l12.955 13.161z\" fill=\"#fff\"></path></svg><div class=\"_3E8aIl _38dCuf\"><div class=\"_3XCI6U _2b2z-j\"><span>Report Abuse</span></div></div></div></div></div></div></div></div><div class=\"_1bh0RH\"><a class=\"_2KpZ6l dVBe_p\" href=\"/infinix-smart-7-emerald-green-128-gb/product-questions/itm7b72b66485a59?pid=MOBGRH6YM3KZXNWF\">All questions</a><span class=\"q_elos\">+</span></div></div></div></div><div class=\"_1AtVbE col-12-12\"><div class=\"_124baV\"><div class=\"_1RVm3P\">Safe and Secure Payments.<!-- -->Easy returns.<!-- -->100% Authentic products.</div></div></div></div></div></div><div class=\"_1AtVbE col-12-12\"><div><div class=\"_3E8aIl CgGDXG\"><div class=\"Bij_nt\">You might be interested in</div><div class=\"_2t5MbR\"><div class=\"_3ZYowz _2CfYpZ\"><div class=\"mYI3GX\"><div class=\"_2hKRMr _3NvaRF _2CfYpZ\" style=\"width:1610px\"><div class=\"_37K3-p\" style=\"-webkit-transform:translateX(0px);-moz-transform:translateX(0px);-o-transform:translateX(0px);-ms-transform:translateX(0px);transform:translateX(0px)\"><div class=\"_3YgSsQ\" style=\"width:400px\"><div class=\"_3sHcdg\"><div class=\"_3EWo-Y row\"><div class=\"_2zKHNp\"><div class=\"_3ywSr_\" style=\"padding-top:120.00%\"><div class=\"_312yBx SFzpgZ\" style=\"padding-top:120.00%\"><img alt=\"\" class=\"_2r_T1I\" src=\"https://rukminim2.flixcart.com/image/400/400/xif0q/power-bank/8/b/i/-original-imagrnfx7ejk92dg.jpeg?q=90\"/></div></div></div><div class=\"_3rhMpp\"><div class=\"_38V46g\">Power Banks</div><div class=\"_2D27nh\">Min. 50% Off</div><a class=\"_2KpZ6l tE1cUL\" href=\"https://www.flipkart.com/all/~cs-5447acab9094df30966ed1ae80389723/pr?sid=tyy,4mr,fu6&amp;marketplace=FLIPKART&amp;fm=organic&amp;ppt=None&amp;ppn=None&amp;ssid=tqeke9u9ow0000001692182742321\"><span class=\"_2Ku_zz\">Shop Now</span></a></div></div></div></div><div class=\"_3YgSsQ\" style=\"width:400px\"><div class=\"_3sHcdg\"><div class=\"_3EWo-Y row\"><div class=\"_2zKHNp\"><div class=\"_3ywSr_\" style=\"padding-top:120.00%\"><div class=\"_312yBx SFzpgZ\" style=\"padding-top:120.00%\"><img alt=\"\" class=\"_2r_T1I\" src=\"https://rukminim2.flixcart.com/image/400/400/xif0q/headphone/1/8/l/-original-imagqhswqgpwb2yu.jpeg?q=90\"/></div></div></div><div class=\"_3rhMpp\"><div class=\"_38V46g\">True Wireless</div><div class=\"_2D27nh\">Min. 50% Off</div><a class=\"_2KpZ6l tE1cUL\" href=\"https://www.flipkart.com/all/~cs-6ef68bc8d283b86730515a8f2c87ff23/pr?sid=0pm,fcn,821,a7x,2si&amp;marketplace=FLIPKART&amp;fm=organic&amp;ppt=None&amp;ppn=None&amp;ssid=tqeke9u9ow0000001692182742321\"><span class=\"_2Ku_zz\">Shop Now</span></a></div></div></div></div><div class=\"_3YgSsQ\" style=\"width:400px\"><div class=\"_3sHcdg\"><div class=\"_3EWo-Y row\"><div class=\"_2zKHNp\"><div class=\"_3ywSr_\" style=\"padding-top:120.00%\"><div class=\"_312yBx SFzpgZ\" style=\"padding-top:120.00%\"><img alt=\"\" class=\"_2r_T1I\" src=\"https://rukminim2.flixcart.com/image/400/400/kltryq80/selfie-stick/p/9/x/selfie-stick-r1-holdup-original-imagyv32ezbk4jds.jpeg?q=90\"/></div></div></div><div class=\"_3rhMpp\"><div class=\"_38V46g\">Selfie Sticks</div><div class=\"_2D27nh\">Min. 50% Off</div><a class=\"_2KpZ6l tE1cUL\" href=\"https://www.flipkart.com/all/~cs-1ee7d1d51ab9f3df829aa06cf32ab373/pr?sid=tyy,4mr,nkm&amp;marketplace=FLIPKART&amp;fm=organic&amp;ppt=None&amp;ppn=None&amp;ssid=tqeke9u9ow0000001692182742321\"><span class=\"_2Ku_zz\">Shop Now</span></a></div></div></div></div><div class=\"_3YgSsQ\" style=\"width:400px\"><div class=\"_3sHcdg\"><div class=\"_3EWo-Y row\"><div class=\"_2zKHNp\"><div class=\"_3ywSr_\" style=\"padding-top:120.00%\"><div class=\"_312yBx SFzpgZ\" style=\"padding-top:120.00%\"><img alt=\"\" class=\"_2r_T1I\" src=\"https://rukminim2.flixcart.com/image/400/400/jh6l2fk0/headphone/v/t/7/sony-mdr-zx310apbce-original-imaf59ebhygmdhgv.jpeg?q=90\"/></div></div></div><div class=\"_3rhMpp\"><div class=\"_38V46g\">Wired Headphones</div><div class=\"_2D27nh\">Min. 50% Off</div><a class=\"_2KpZ6l tE1cUL\" href=\"https://www.flipkart.com/all/~cs-a7f4b3da2f749ea75db3076138fb26e9/pr?sid=0pm,fcn,gc3,rph&amp;marketplace=FLIPKART&amp;fm=organic&amp;ppt=None&amp;ppn=None&amp;ssid=tqeke9u9ow0000001692182742321\"><span class=\"_2Ku_zz\">Shop Now</span></a></div></div></div></div></div></div><div class=\"_35l9rN rek5UH _1tKnHb\"><div class=\"_2kgArB _3y7w9p\"><svg class=\"\" height=\"24\" viewbox=\"0 0 16 27\" width=\"14.6\" xmlns=\"http://www.w3.org/2000/svg\"><path class=\"_23HYg_\" d=\"M16 23.207L6.11 13.161 16 3.093 12.955 0 0 13.161l12.955 13.161z\" fill=\"#fff\"></path></svg></div></div><div class=\"_35l9rN _31Mq1b\"><div class=\"_2kgArB _2CP_Bu\"><svg class=\"_1xtBwk\" height=\"24\" viewbox=\"0 0 16 27\" width=\"14.6\" xmlns=\"http://www.w3.org/2000/svg\"><path class=\"_23HYg_\" d=\"M16 23.207L6.11 13.161 16 3.093 12.955 0 0 13.161l12.955 13.161z\" fill=\"#fff\"></path></svg></div></div></div></div></div></div></div></div><div class=\"_39SDPR\"></div></div><footer class=\"_3voSl0\"><div class=\"_3rc_xQ\"><div class=\"row\"><div class=\"col gu12 _8Qljeg\"></div></div><div class=\"row\"><div class=\"col gu12 _3MmGvF\"><div class=\"LfkXVL\"><span>Top Stories</span>:<a class=\"_2XoPFN\" href=\"/brands\">Brand Directory</a></div><div class=\"_1GTrm1\"><span class=\"_2oyLgr\">MOST SEARCHED IN Mobiles &amp; Accessories<!-- -->:</span><a class=\"_3CuAg8\" href=\"/apple-iphone-5s-silver-16-gb/p/itmeuyd8ngnpzjg8?otracker=undefined_footer_footer\">APPLE S5</a><a class=\"_3CuAg8\" href=\"/home-entertainment/televisions/sony~brand/pr?sid=ckf,czl&amp;otracker=undefined_footer_footer\">SONY TV PRICE LIST</a><a class=\"_3CuAg8\" href=\"/lenovo-a369i/p/itme92d4qzyx5zvh?otracker=undefined_footer_footer\">LENOVO A369I PRICE</a><a class=\"_3CuAg8\" href=\"/lg-l90-dual-white-8-gb/p/itmdus3skegmbvah?otracker=undefined_footer_footer\">LG L90 DUAL</a><a class=\"_3CuAg8\" href=\"/mobile-accessories/memory-cards-readers/memory-cards/pr?sid=tyy,4mr,zzf,7y7&amp;otracker=undefined_footer_footer\">16GB MEMORY CARD</a><a class=\"_3CuAg8\" href=\"/mobiles/intex~brand/pr?sid=tyy,4io&amp;otracker=undefined_footer_footer\">INTEX MOB</a><a class=\"_3CuAg8\" href=\"/mobiles/lenovo~brand/pr?sid=tyy,4io&amp;otracker=undefined_footer_footer\">LENOVO MOBILES PRICE</a><a class=\"_3CuAg8\" href=\"/mobiles/micromax~brand/pr?sid=tyy,4io&amp;otracker=undefined_footer_footer\">MICROMAX MOBILE NEW</a><a class=\"_3CuAg8\" href=\"/mobiles/mi~brand/pr?sid=tyy,4io&amp;otracker=undefined_footer_footer\">XIAOMI REDMI PRICE IN INDIA</a><a class=\"_3CuAg8\" href=\"/mobiles/motorola~brand/pr?sid=tyy,4io&amp;otracker=undefined_footer_footer\">MOTO PHONES</a><a class=\"_3CuAg8\" href=\"/mobiles/nokia~brand/pr?sid=tyy,4io&amp;otracker=undefined_footer_footer\">NOKIA PHONES UNDER 10000</a><a class=\"_3CuAg8\" href=\"/nokia-107-dual-sim/p/itmeuyd4bqz8xvn9?otracker=undefined_footer_footer\">NOKIA 107 PRICE</a><a class=\"_3CuAg8\" href=\"/samsung-galaxy-s-duos-2-black-4-gb/p/itme5z9jnfngs6dz?otracker=undefined_footer_footer\">SAMSUNG S7582 PRICE IN INDIA</a><a class=\"_3CuAg8\" href=\"/sony-xperia-m2-dual/p/itme7zkyzhh2kvb5?otracker=undefined_footer_footer\">SONY M2 PRICE</a><a class=\"_3CuAg8\" href=\"/spice-smart-flo-mi-508-blue-4-gb/p/itme3htm8x8fy8sf?otracker=undefined_footer_footer\">SPICE MI 508</a><a class=\"_3CuAg8\" href=\"https://www.flipkart.com/alcatel-onetouch-flash-6042d-crystal-white-8-gb/p/itmeuydanzqrz5zc?otracker=undefined_footer_footer\">ALCATEL ONETOUCH FLASH</a><a class=\"_3CuAg8\" href=\"https://www.flipkart.com/asus-zenfone-3-black-64-gb/p/itmevt7v4yr85dfn?otracker=undefined_footer_footer\">ZENFONE 3</a><a class=\"_3CuAg8\" href=\"https://www.flipkart.com/intex-cloud-string-v2-0-silver-16-gb/p/itmeuyd8emczypds?otracker=undefined_footer_footer\">INTEX CLOUD STRING V2.0 PRICE</a><a class=\"_3CuAg8\" href=\"https://www.flipkart.com/lenovo-a6000-plus-black-16-gb/p/itmeuyd87nv6ffgs?otracker=undefined_footer_footer\">LENOVA 6000</a><a class=\"_3CuAg8\" href=\"https://www.flipkart.com/micromax-unite-2-a106-grey-8-gb/p/itmevt7vn3qughzf?otracker=undefined_footer_footer\">MICROMAX A 106</a><a class=\"_3CuAg8\" href=\"https://www.flipkart.com/mobiles/apple~brand/pr?sid=tyy,4io&amp;otracker=undefined_footer_footer\">APPLE IPHONES</a><a class=\"_3CuAg8\" href=\"https://www.flipkart.com/mobiles/sony~brand/pr?sid=tyy,4io&amp;otracker=undefined_footer_footer\">SONY XPERIA PRICE IN INDIA</a><a class=\"_3CuAg8\" href=\"https://www.flipkart.com/moto-g-2nd-generation-black-16-gb/p/itmeuyd97szyyafh?otracker=undefined_footer_footer\">MOTO 2ND GEN</a><a class=\"_3CuAg8\" href=\"https://www.flipkart.com/samsung-galaxy-a7-2017-black-sky-32-gb/p/itmes42jhczkgsga?otracker=undefined_footer_footer\">GALAXY A7 PRICE IN INDIA</a><a class=\"_3CuAg8\" href=\"https://www.flipkart.com/samsung-galaxy-e7-white-16-gb/p/itme5pcye8chq2za?otracker=undefined_footer_footer\">SAMSUNG MOBILE E7</a><a class=\"_3CuAg8\" href=\"https://www.flipkart.com/samsung-galaxy-grand-prime-4g-grey-8-gb/p/itmeafyygjpyz2qz?otracker=undefined_footer_footer\">SAMSUNG PRIME 4G</a><a class=\"_3CuAg8\" href=\"https://www.flipkart.com/samsung-galaxy-j1-4g-gold-8-gb/p/itmeq4s4phfj49re?otracker=undefined_footer_footer\">GALAXY J1</a><a class=\"_3CuAg8\" href=\"https://www.flipkart.com/swipe-elite-3-4g-volte/p/itmeuyd8bwq6sfpu?otracker=undefined_footer_footer\">SWIPE ELITE 3 PRICE</a></div></div></div><div><div class=\"_2WErco row\"><div class=\"_2Brcj4\"><div class=\"_3-dnWo\">ABOUT</div><a class=\"_1arVWX\" href=\"/helpcentre?otracker=undefined_footer_navlinks\">Contact Us</a><a class=\"_1arVWX\" href=\"https://corporate.flipkart.net/corporate-home\">About Us</a><a class=\"_1arVWX\" href=\"https://www.flipkartcareers.com/?otracker=undefined_footer_navlinks\">Careers</a><a class=\"_1arVWX\" href=\"http://stories.flipkart.com/?otracker=undefined_footer_navlinks\">Flipkart Stories</a><a class=\"_1arVWX\" href=\"/s/press?otracker=undefined_footer_navlinks\">Press</a><a class=\"_1arVWX\" href=\"https://www.flipkartwholesale.com/?otracker=undefined_footer_navlinks\" rel=\"noopener noreferrer\" target=\"_blank\">Flipkart Wholesale</a><a class=\"_1arVWX\" href=\"/corporate-information\">Corporate Information</a></div><div class=\"_2Brcj4\"><div class=\"_3-dnWo\">HELP</div><a class=\"_1arVWX\" href=\"/pages/payments\">Payments</a><a class=\"_1arVWX\" href=\"/pages/shipping\">Shipping</a><a class=\"_1arVWX\" href=\"/helpcentre?catalog=55c9c6edb000002e002c1701&amp;view=CATALOG\">Cancellation &amp; Returns</a><a class=\"_1arVWX\" href=\"/helpcentre?catalog=55c9c8e2b0000023002c1702&amp;view=CATALOG\">FAQ</a><a class=\"_1arVWX\" href=\"https://seller.flipkart.com/fiv?otracker=undefined_footer_navlinks\">Report Infringement</a></div><div class=\"_2Brcj4\"><div class=\"_3-dnWo\">CONSUMER POLICY</div><a class=\"_1arVWX\" href=\"/pages/returnpolicy?otracker=undefined_footer_navlinks\">Cancellation &amp; Returns</a><a class=\"_1arVWX\" href=\"/pages/terms?otracker=undefined_footer_navlinks\">Terms Of Use</a><a class=\"_1arVWX\" href=\"/pages/paymentsecurity?otracker=undefined_footer_navlinks\">Security</a><a class=\"_1arVWX\" href=\"/pages/privacypolicy?otracker=undefined_footer_navlinks\">Privacy</a><a class=\"_1arVWX\" href=\"/sitemap?otracker=undefined_footer_navlinks\">Sitemap</a><a class=\"_1arVWX\" href=\"/pages/grievance-redressal-mechanism?otracker=undefined_footer_navlinks\">Grievance Redressal</a><a class=\"_1arVWX\" href=\"/pages/ewaste-compliance-tnc?otracker=undefined_footer_navlinks\">EPR Compliance</a></div><div class=\"_2Brcj4\"><div class=\"_3-dnWo\">SOCIAL</div><a class=\"_1arVWX\" href=\"https://www.facebook.com/flipkart\">Facebook</a><a class=\"_1arVWX\" href=\"https://www.twitter.com/flipkart\">Twitter</a><a class=\"_1arVWX\" href=\"https://www.youtube.com/flipkart\">YouTube</a></div><div class=\"_2Brcj4 address\"><div class=\"_3JHi0r\"><div class=\"_3-dnWo\"><span>Mail Us:</span></div><div class=\"_1U1qnR\"><div class=\"_1LJS6T\"><div class=\"_2NKhZn _1U1qnR\"><p>Flipkart Internet Private Limited, </p>\n",
       "<p> Buildings Alyssa, Begonia &amp; </p>\n",
       "<p> Clove Embassy Tech Village, </p>\n",
       "<p> Outer Ring Road, Devarabeesanahalli Village, </p>\n",
       "<p> Bengaluru, 560103, </p>\n",
       "<p> Karnataka, India</p>\n",
       "</div></div></div></div></div><div class=\"_2Brcj4 address\"><div class=\"_3IT4e6\"><div class=\"_3-dnWo\"><span>Registered Office Address:</span></div><div class=\"_1U1qnR\"><div class=\"_1LJS6T\"><div class=\"_2NKhZn _1U1qnR\"><p>Flipkart Internet Private Limited, </p>\n",
       "<p> Buildings Alyssa, Begonia &amp; </p>\n",
       "<p> Clove Embassy Tech Village, </p>\n",
       "<p> Outer Ring Road, Devarabeesanahalli Village, </p>\n",
       "<p> Bengaluru, 560103, </p>\n",
       "<p> Karnataka, India </p>\n",
       "<p> CIN : U51109KA2012PTC066107 </p>\n",
       "<p> Telephone: <a href=\"tel:044-45614700\">044-45614700</a></p>\n",
       "</div></div></div></div></div></div><div><div class=\"_2uz0vJ\"><div><img src=\"data:image/svg+xml;base64,PHN2ZyB4bWxucz0iaHR0cDovL3d3dy53My5vcmcvMjAwMC9zdmciIHdpZHRoPSIxNiIgaGVpZ2h0PSIxNSIgdmlld0JveD0iMCAwIDE2IDE1Ij4KICAgIDxkZWZzPgogICAgICAgIDxsaW5lYXJHcmFkaWVudCBpZD0iYSIgeDE9IjAlIiB4Mj0iODYuODc2JSIgeTE9IjAlIiB5Mj0iODAuMjAyJSI+CiAgICAgICAgICAgIDxzdG9wIG9mZnNldD0iMCUiIHN0b3AtY29sb3I9IiNGRkQ4MDAiLz4KICAgICAgICAgICAgPHN0b3Agb2Zmc2V0PSIxMDAlIiBzdG9wLWNvbG9yPSIjRkZBRjAwIi8+CiAgICAgICAgPC9saW5lYXJHcmFkaWVudD4KICAgIDwvZGVmcz4KICAgIDxnIGZpbGw9Im5vbmUiIGZpbGwtcnVsZT0iZXZlbm9kZCI+CiAgICAgICAgPHBhdGggZD0iTS0yLTJoMjB2MjBILTJ6Ii8+CiAgICAgICAgPHBhdGggZmlsbD0idXJsKCNhKSIgZmlsbC1ydWxlPSJub256ZXJvIiBkPSJNMTUuOTMgNS42MTRoLTIuOTQ4VjQuMTRjMC0uODE4LS42NTUtMS40NzMtMS40NzMtMS40NzNIOC41NmMtLjgxNyAwLTEuNDczLjY1NS0xLjQ3MyAxLjQ3M3YxLjQ3NEg0LjE0Yy0uODE4IDAtMS40NjYuNjU2LTEuNDY2IDEuNDc0bC0uMDA3IDguMTA1YzAgLjgxOC42NTUgMS40NzQgMS40NzMgMS40NzRoMTEuNzljLjgxOCAwIDEuNDc0LS42NTYgMS40NzQtMS40NzRWNy4wODhjMC0uODE4LS42NTYtMS40NzQtMS40NzQtMS40NzR6bS00LjQyMSAwSDguNTZWNC4xNGgyLjk0OHYxLjQ3NHoiIHRyYW5zZm9ybT0idHJhbnNsYXRlKC0yIC0yKSIvPgogICAgPC9nPgo8L3N2Zz4K\"/><a href=\"https://seller.flipkart.com/?utm_source=fkwebsite&amp;utm_medium=websitedirect\"><span class=\"hDTmm5\">Become a Seller</span></a></div><div><img src=\"data:image/svg+xml;base64,PHN2ZyB4bWxucz0iaHR0cDovL3d3dy53My5vcmcvMjAwMC9zdmciIHdpZHRoPSIxNSIgaGVpZ2h0PSIxNSIgdmlld0JveD0iMCAwIDE1IDE1Ij4KICAgIDxkZWZzPgogICAgICAgIDxsaW5lYXJHcmFkaWVudCBpZD0iYSIgeDE9IjAlIiB4Mj0iODYuODc2JSIgeTE9IjAlIiB5Mj0iODAuMjAyJSI+CiAgICAgICAgICAgIDxzdG9wIG9mZnNldD0iMCUiIHN0b3AtY29sb3I9IiNGRkQ4MDAiLz4KICAgICAgICAgICAgPHN0b3Agb2Zmc2V0PSIxMDAlIiBzdG9wLWNvbG9yPSIjRkZBRjAwIi8+CiAgICAgICAgPC9saW5lYXJHcmFkaWVudD4KICAgIDwvZGVmcz4KICAgIDxnIGZpbGw9Im5vbmUiIGZpbGwtcnVsZT0iZXZlbm9kZCI+CiAgICAgICAgPHBhdGggZD0iTS0zLTNoMjB2MjBILTN6Ii8+CiAgICAgICAgPHBhdGggZmlsbD0idXJsKCNhKSIgZmlsbC1ydWxlPSJub256ZXJvIiBkPSJNMTAuNDkyIDNDNi4zNTMgMyAzIDYuMzYgMyAxMC41YzAgNC4xNCAzLjM1MyA3LjUgNy40OTIgNy41QzE0LjY0IDE4IDE4IDE0LjY0IDE4IDEwLjUgMTggNi4zNiAxNC42NCAzIDEwLjQ5MiAzem0zLjE4IDEyTDEwLjUgMTMuMDg4IDcuMzI3IDE1bC44NC0zLjYwN0w1LjM3IDguOTdsMy42OS0uMzE1TDEwLjUgNS4yNWwxLjQ0IDMuMzk4IDMuNjkuMzE1LTIuNzk4IDIuNDIyLjg0IDMuNjE1eiIgdHJhbnNmb3JtPSJ0cmFuc2xhdGUoLTMgLTMpIi8+CiAgICA8L2c+Cjwvc3ZnPgo=\"/><a href=\"https://brands.flipkart.com\"><span class=\"hDTmm5\">Advertise</span></a></div><div><img src=\"data:image/svg+xml;base64,PHN2ZyB4bWxucz0iaHR0cDovL3d3dy53My5vcmcvMjAwMC9zdmciIHdpZHRoPSIxOCIgaGVpZ2h0PSIxNyIgdmlld0JveD0iMCAwIDE4IDE3Ij4KICAgIDxkZWZzPgogICAgICAgIDxsaW5lYXJHcmFkaWVudCBpZD0iYSIgeDE9IjAlIiB4Mj0iODYuODc2JSIgeTE9IjAlIiB5Mj0iODAuMjAyJSI+CiAgICAgICAgICAgIDxzdG9wIG9mZnNldD0iMCUiIHN0b3AtY29sb3I9IiNGRkQ4MDAiLz4KICAgICAgICAgICAgPHN0b3Agb2Zmc2V0PSIxMDAlIiBzdG9wLWNvbG9yPSIjRkZBRjAwIi8+CiAgICAgICAgPC9saW5lYXJHcmFkaWVudD4KICAgIDwvZGVmcz4KICAgIDxnIGZpbGw9Im5vbmUiIGZpbGwtcnVsZT0iZXZlbm9kZCI+CiAgICAgICAgPHBhdGggZD0iTS0xLTFoMjB2MjBILTF6Ii8+CiAgICAgICAgPHBhdGggZmlsbD0idXJsKCNhKSIgZmlsbC1ydWxlPSJub256ZXJvIiBkPSJNMTYuNjY3IDVIMTQuODVjLjA5Mi0uMjU4LjE1LS41NDIuMTUtLjgzM2EyLjQ5NyAyLjQ5NyAwIDAgMC00LjU4My0xLjM3NUwxMCAzLjM1bC0uNDE3LS41NjdBMi41MSAyLjUxIDAgMCAwIDcuNSAxLjY2N2EyLjQ5NyAyLjQ5NyAwIDAgMC0yLjUgMi41YzAgLjI5MS4wNTguNTc1LjE1LjgzM0gzLjMzM2MtLjkyNSAwLTEuNjU4Ljc0Mi0xLjY1OCAxLjY2N2wtLjAwOCA5LjE2NkExLjY2IDEuNjYgMCAwIDAgMy4zMzMgMTcuNWgxMy4zMzRhMS42NiAxLjY2IDAgMCAwIDEuNjY2LTEuNjY3VjYuNjY3QTEuNjYgMS42NiAwIDAgMCAxNi42NjcgNXptMCA2LjY2N0gzLjMzM3YtNWg0LjIzNEw1LjgzMyA5LjAyNWwxLjM1Ljk3NSAxLjk4NC0yLjdMMTAgNi4xNjdsLjgzMyAxLjEzMyAxLjk4NCAyLjcgMS4zNS0uOTc1LTEuNzM0LTIuMzU4aDQuMjM0djV6IiB0cmFuc2Zvcm09InRyYW5zbGF0ZSgtMSAtMSkiLz4KICAgIDwvZz4KPC9zdmc+Cg==\"/><a href=\"/the-gift-card-store?otracker=undefined_footer_footer_navlinks\"><span class=\"hDTmm5\">Gift Cards</span></a></div><div><img src=\"data:image/svg+xml;base64,PHN2ZyB4bWxucz0iaHR0cDovL3d3dy53My5vcmcvMjAwMC9zdmciIHdpZHRoPSIxNSIgaGVpZ2h0PSIxNSIgdmlld0JveD0iMCAwIDE1IDE1Ij4KICAgIDxkZWZzPgogICAgICAgIDxsaW5lYXJHcmFkaWVudCBpZD0iYSIgeDE9IjAlIiB4Mj0iODYuODc2JSIgeTE9IjAlIiB5Mj0iODAuMjAyJSI+CiAgICAgICAgICAgIDxzdG9wIG9mZnNldD0iMCUiIHN0b3AtY29sb3I9IiNGRkQ4MDAiLz4KICAgICAgICAgICAgPHN0b3Agb2Zmc2V0PSIxMDAlIiBzdG9wLWNvbG9yPSIjRkZBRjAwIi8+CiAgICAgICAgPC9saW5lYXJHcmFkaWVudD4KICAgIDwvZGVmcz4KICAgIDxnIGZpbGw9Im5vbmUiIGZpbGwtcnVsZT0iZXZlbm9kZCI+CiAgICAgICAgPHBhdGggZD0iTS0yLTNoMjB2MjBILTJ6Ii8+CiAgICAgICAgPHBhdGggZmlsbD0idXJsKCNhKSIgZmlsbC1ydWxlPSJub256ZXJvIiBkPSJNOS41IDNDNS4zNiAzIDIgNi4zNiAyIDEwLjUgMiAxNC42NCA1LjM2IDE4IDkuNSAxOGM0LjE0IDAgNy41LTMuMzYgNy41LTcuNUMxNyA2LjM2IDEzLjY0IDMgOS41IDN6bS43NSAxMi43NWgtMS41di0xLjVoMS41djEuNXptMS41NTMtNS44MTNsLS42NzYuNjljLS41NC41NDgtLjg3Ny45OTgtLjg3NyAyLjEyM2gtMS41di0uMzc1YzAtLjgyNS4zMzgtMS41NzUuODc3LTIuMTIzbC45My0uOTQ1Yy4yNzgtLjI3LjQ0My0uNjQ1LjQ0My0xLjA1NyAwLS44MjUtLjY3NS0xLjUtMS41LTEuNVM4IDcuNDI1IDggOC4yNUg2LjVhMyAzIDAgMSAxIDYgMGMwIC42Ni0uMjcgMS4yNi0uNjk3IDEuNjg4eiIgdHJhbnNmb3JtPSJ0cmFuc2xhdGUoLTIgLTMpIi8+CiAgICA8L2c+Cjwvc3ZnPgo=\"/><a href=\"/helpcentre?otracker=undefined_footer_footer_navlinks\"><span class=\"hDTmm5\">Help Center</span></a></div><span class=\"z3ht-w\">© 2007-<!-- -->2023<!-- --> <span>Flipkart.com</span></span><img src=\"//static-assets-web.flixcart.com/fk-p-linchpin-web/fk-cp-zion/img/payment-method_69e7ec.svg\"/></div></div></div></div></footer><div class=\"_1EcK2J _38JCdA\"><div class=\"bra6U8\"><svg class=\"_2TdLiZ\" height=\"27\" viewbox=\"0 0 16 27\" width=\"16\" xmlns=\"http://www.w3.org/2000/svg\"><path class=\"_3ZKfA2\" d=\"M16 23.207L6.11 13.161 16 3.093 12.955 0 0 13.161l12.955 13.161z\" fill=\"#fff\"></path></svg><span>Back to top</span></div></div></div></div> <script id=\"jsonLD\" nonce=\"15049676549609274317\" type=\"application/ld+json\">[{\"@context\":\"http://schema.org\",\"@type\":\"3DModel\",\"encoding\":[{\"@type\":\"MediaObject\",\"contentUrl\":\"https://static-assets-web.flixcart.com/arm/glb/MOBGRH6YM3KZXNWF.glb\",\"encodingFormat\":\"model/gltf-binary\"},{\"@type\":\"MediaObject\",\"contentUrl\":\"https://static-assets-web.flixcart.com/arm/usdz/MOBGRH6YM3KZXNWF.usdz\",\"encodingFormat\":\"model/vnd.usdz+zip\"}],\"image\":\"http://rukmini1.flixcart.com/image/128/128/xif0q/mobile/6/a/d/-original-imagrqg4uruhwuza.jpeg?q=70\",\"name\":\"Infinix SMART 7 (Emerald Green, 128 GB)\"},{\"@context\":\"http://schema.org\",\"@type\":\"Product\",\"aggregateRating\":{\"@type\":\"AggregateRating\",\"ratingValue\":4.3,\"reviewCount\":2873},\"brand\":{\"@type\":\"Brand\",\"name\":\"Infinix\"},\"image\":\"http://rukmini1.flixcart.com/image/128/128/xif0q/mobile/6/a/d/-original-imagrqg4uruhwuza.jpeg?q=70\",\"name\":\"Infinix SMART 7 (Emerald Green, 128 GB)\",\"offers\":{\"@type\":\"Offer\",\"price\":7799,\"priceCurrency\":\"INR\"}},{\"@context\":\"http://schema.org\",\"@type\":\"BreadcrumbList\",\"itemListElement\":[{\"@type\":\"ListItem\",\"item\":{\"@id\":\"https://www.flipkart.com/?otracker=product_breadCrumbs_Home\",\"name\":\"Home\"},\"position\":1},{\"@type\":\"ListItem\",\"item\":{\"@id\":\"https://www.flipkart.com/mobiles-accessories/pr?sid=tyy&marketplace=FLIPKART&otracker=product_breadCrumbs_Mobiles+%26+Accessories\",\"name\":\"Mobiles & Accessories\"},\"position\":2},{\"@type\":\"ListItem\",\"item\":{\"@id\":\"https://www.flipkart.com/mobiles/pr?sid=tyy,4io&marketplace=FLIPKART&otracker=product_breadCrumbs_Mobiles\",\"name\":\"Mobiles\"},\"position\":3},{\"@type\":\"ListItem\",\"item\":{\"@id\":\"https://www.flipkart.com/mobiles/infinix~brand/pr?sid=tyy,4io&marketplace=FLIPKART&otracker=product_breadCrumbs_Infinix+Mobiles\",\"name\":\"Infinix Mobiles\"},\"position\":4},{\"@type\":\"ListItem\",\"item\":{\"@id\":\"https://www.flipkart.com/infinix-smart-7-emerald-green-128-gb/p/itm7b72b66485a59?otracker=product_breadCrumbs_Infinix+SMART+7+%28Emerald+Green%2C+128+GB%29+%284+GB+RAM%29\",\"name\":\"Infinix SMART 7 (Emerald Green, 128 GB) (4 GB RAM)\"},\"position\":5}]}]</script> <script id=\"jsonLD\" nonce=\"15049676549609274317\" type=\"application/ld+json\">[{\"@context\":\"http://schema.org\",\"@type\":\"3DModel\",\"encoding\":[{\"@type\":\"MediaObject\",\"contentUrl\":\"https://static-assets-web.flixcart.com/arm/glb/MOBGRH6YM3KZXNWF.glb\",\"encodingFormat\":\"model/gltf-binary\"},{\"@type\":\"MediaObject\",\"contentUrl\":\"https://static-assets-web.flixcart.com/arm/usdz/MOBGRH6YM3KZXNWF.usdz\",\"encodingFormat\":\"model/vnd.usdz+zip\"}],\"image\":\"http://rukmini1.flixcart.com/image/128/128/xif0q/mobile/6/a/d/-original-imagrqg4uruhwuza.jpeg?q=70\",\"name\":\"Infinix SMART 7 (Emerald Green, 128 GB)\"},{\"@context\":\"http://schema.org\",\"@type\":\"Product\",\"aggregateRating\":{\"@type\":\"AggregateRating\",\"ratingValue\":4.3,\"reviewCount\":2873},\"brand\":{\"@type\":\"Brand\",\"name\":\"Infinix\"},\"image\":\"http://rukmini1.flixcart.com/image/128/128/xif0q/mobile/6/a/d/-original-imagrqg4uruhwuza.jpeg?q=70\",\"name\":\"Infinix SMART 7 (Emerald Green, 128 GB)\",\"offers\":{\"@type\":\"Offer\",\"price\":7799,\"priceCurrency\":\"INR\"}},{\"@context\":\"http://schema.org\",\"@type\":\"BreadcrumbList\",\"itemListElement\":[{\"@type\":\"ListItem\",\"item\":{\"@id\":\"https://www.flipkart.com/?otracker=product_breadCrumbs_Home\",\"name\":\"Home\"},\"position\":1},{\"@type\":\"ListItem\",\"item\":{\"@id\":\"https://www.flipkart.com/mobiles-accessories/pr?sid=tyy&marketplace=FLIPKART&otracker=product_breadCrumbs_Mobiles+%26+Accessories\",\"name\":\"Mobiles & Accessories\"},\"position\":2},{\"@type\":\"ListItem\",\"item\":{\"@id\":\"https://www.flipkart.com/mobiles/pr?sid=tyy,4io&marketplace=FLIPKART&otracker=product_breadCrumbs_Mobiles\",\"name\":\"Mobiles\"},\"position\":3},{\"@type\":\"ListItem\",\"item\":{\"@id\":\"https://www.flipkart.com/mobiles/infinix~brand/pr?sid=tyy,4io&marketplace=FLIPKART&otracker=product_breadCrumbs_Infinix+Mobiles\",\"name\":\"Infinix Mobiles\"},\"position\":4},{\"@type\":\"ListItem\",\"item\":{\"@id\":\"https://www.flipkart.com/infinix-smart-7-emerald-green-128-gb/p/itm7b72b66485a59?otracker=product_breadCrumbs_Infinix+SMART+7+%28Emerald+Green%2C+128+GB%29+%284+GB+RAM%29\",\"name\":\"Infinix SMART 7 (Emerald Green, 128 GB) (4 GB RAM)\"},\"position\":5}]}]</script><script nonce=\"15049676549609274317\" type=\"application/ld+json\">{\n",
       "    \"@context\": \"http://schema.org\",\n",
       "    \"@type\": \"WebSite\",\n",
       "    \"url\": \"http://www.flipkart.com/\",\n",
       "    \"potentialAction\": [{\n",
       "        \"@type\": \"SearchAction\",\n",
       "        \"target\": \"http://www.flipkart.com/search?q={search_term_string}\",\n",
       "        \"query-input\": \"required name=search_term_string\"\n",
       "        },{\n",
       "        \"@type\": \"SearchAction\",\n",
       "        \"target\": \"android-app://com.flipkart.android/flipkart/de_sq_seg_-search.flipkart.com-_{search_term_string}\",\n",
       "        \"query-input\": \"required name=search_term_string\"\n",
       "    }]\n",
       "}</script><script id=\"is_script\" nonce=\"15049676549609274317\">window.__INITIAL_STATE__ = {};</script> <link data-chunk=\"NavMenu\" href=\"//static-assets-web.flixcart.com/fk-p-linchpin-web/fk-cp-zion/css/NavMenu.chunk.10ffe7.css\" rel=\"stylesheet\"/>\n",
       "<link data-chunk=\"MerchandisingOMUWrapper\" href=\"//static-assets-web.flixcart.com/fk-p-linchpin-web/fk-cp-zion/css/MerchandisingOMUWrapper.chunk.fb565e.css\" rel=\"stylesheet\"/> <script id=\"__LOADABLE_REQUIRED_CHUNKS__\" type=\"application/json\">[127,0,119]</script><script id=\"__LOADABLE_REQUIRED_CHUNKS___ext\" type=\"application/json\">{\"namedChunks\":[\"NavMenu\",\"MerchandisingOMUWrapper\"]}</script>\n",
       "<script async=\"\" data-chunk=\"NavMenu\" src=\"//static-assets-web.flixcart.com/fk-p-linchpin-web/fk-cp-zion/js/NavMenu.chunk.2bbdc22e.js\"></script>\n",
       "<script async=\"\" data-chunk=\"MerchandisingOMUWrapper\" src=\"//static-assets-web.flixcart.com/fk-p-linchpin-web/fk-cp-zion/js/vendor.chunk.dfc75116.js\"></script>\n",
       "<script async=\"\" data-chunk=\"MerchandisingOMUWrapper\" src=\"//static-assets-web.flixcart.com/fk-p-linchpin-web/fk-cp-zion/js/MerchandisingOMUWrapper.chunk.7d2c4f4e.js\"></script><script nonce=\"15049676549609274317\">window.omniture={tpv:[],tl:[]};window.omniture.trackPageView=function(){window.omniture.tpv.push(arguments)};window.omniture.trackLink=function(){window.omniture.tl.push(arguments)}\n",
       "\n",
       "    if(window.location.host === 'www.flipkart.com' || /\\.store\\.flipkart\\.com/i.test(window.location.host)){\n",
       "        window.s_account = \"flipkart-prd\"; //omniture account id\n",
       "    }else{\n",
       "        window.s_account = \"flipkart-prd-test\";\n",
       "    }\n",
       "    window.s_isDesktop = true;</script><script nonce=\"15049676549609274317\">function isMobile(){\n",
       "\t\tif (!!(navigator.userAgentData && navigator.userAgentData.mobile) || navigator.userAgent.indexOf(\"Mobile\") !== -1){\n",
       "\t\t\treturn true;\n",
       "\t\t}\n",
       "\t\telse {\n",
       "\t\t\treturn false;\n",
       "\t\t}\n",
       "\t}\n",
       "\n",
       "\tif ('serviceWorker' in navigator && !isMobile()) {\n",
       "\t\tnavigator.serviceWorker.register('/sw.js').then(function(registration) {\n",
       "\t\t\tconsole.log('ServiceWorker registration successful with scope: ', registration.scope);\n",
       "\t\t\tnavigator.onLine && navigator.serviceWorker.controller && navigator.serviceWorker.controller.postMessage('BANDWIDTH_COMPUTE');\n",
       "\t\t\tnavigator.serviceWorker.addEventListener('message', function (event) {\n",
       "\t\t\t\ttry {\n",
       "\t\t\t\t\tconst bandwidthData = JSON.parse(event.data);\n",
       "\t\t\t\t\tif (bandwidthData && bandwidthData.data) {\n",
       "\t\t\t\t\t\twindow.bandwidth = bandwidthData.data.downlink + '_' + bandwidthData.data.computeMethod + '_' + bandwidthData.data.effectiveType + '_' + bandwidthData.data.type;\n",
       "\t\t\t\t\t}\n",
       "\t\t\t\t}catch(err) {\n",
       "\t\t\t\t\tconsole.error('JSON.parse failed:', err);\n",
       "\t\t\t\t}\n",
       "\t\t\t});\n",
       "\t\t})\n",
       "\t\t.catch(function(err) {\n",
       "\t\t\tconsole.error('ServiceWorker registration failed: ', err);\n",
       "\t\t});\n",
       "\t} else if('serviceWorker' in navigator && isMobile()){\n",
       "        navigator.serviceWorker.getRegistration().then(function(registration) {\n",
       "            var serviceWorkerUnregistered=false;\n",
       "            if(registration) {\n",
       "                registration.unregister();\n",
       "                serviceWorkerUnregistered=true;\n",
       "            }\n",
       "            serviceWorkerUnregistered && window.location.reload();\n",
       "        });\n",
       "    }</script> <script async=\"\" defer=\"defer\" id=\"omni_script\" nonce=\"15049676549609274317\" src=\"///www/linchpin/batman-returns/omni/omni16.js\"></script> <script nonce=\"15049676549609274317\">window._pxAppId = 'PXgNtTli3A';</script><script async=\"\" nonce=\"15049676549609274317\" src=\"///px/gNtTli3A/init.js\"></script></body></html>"
      ]
     },
     "execution_count": 38,
     "metadata": {},
     "output_type": "execute_result"
    }
   ],
   "source": [
    "soup3 = []\n",
    "for i in range(len(review_data)):\n",
    "    soup3.append(bs(review_data[i].text,\"html.parser\"))\n",
    "soup3[19]"
   ]
  },
  {
   "cell_type": "code",
   "execution_count": 39,
   "id": "41ccaea6",
   "metadata": {},
   "outputs": [
    {
     "data": {
      "text/plain": [
       "[<div class=\"t-ZTKy\"><div><div class=\"\">Good range mobile</div><span class=\"_1H-bmy\"><span>READ MORE</span></span></div></div>,\n",
       " <div class=\"t-ZTKy\"><div><div class=\"\">Best phone in this range ❤️</div><span class=\"_1H-bmy\"><span>READ MORE</span></span></div></div>,\n",
       " <div class=\"t-ZTKy\"><div><div class=\"\">One of the best phone in the smart series performance camera battery is very good</div><span class=\"_1H-bmy\"><span>READ MORE</span></span></div></div>,\n",
       " <div class=\"t-ZTKy\"><div><div class=\"\">Good smartphone</div><span class=\"_1H-bmy\"><span>READ MORE</span></span></div></div>,\n",
       " <div class=\"t-ZTKy\"><div><div class=\"\">Good</div><span class=\"_1H-bmy\"><span>READ MORE</span></span></div></div>,\n",
       " <div class=\"t-ZTKy\"><div><div class=\"\">Wonderful 👍</div><span class=\"_1H-bmy\"><span>READ MORE</span></span></div></div>,\n",
       " <div class=\"t-ZTKy\"><div><div class=\"\">Considering the budget it's good</div><span class=\"_1H-bmy\"><span>READ MORE</span></span></div></div>,\n",
       " <div class=\"t-ZTKy\"><div><div class=\"\">Very very best phone very excellent very smooth value for money best battery backup very fast working very fast charge</div><span class=\"_1H-bmy\"><span>READ MORE</span></span></div></div>,\n",
       " <div class=\"t-ZTKy\"><div><div class=\"\">Nice product... 👍</div><span class=\"_1H-bmy\"><span>READ MORE</span></span></div></div>,\n",
       " <div class=\"t-ZTKy\"><div><div class=\"\">Awesome Product in this sigment. Stylish Design, Good Camra, Fast Response Finger Sensor , Thank you infinix &amp; thanks Flipkart 🤩😍🥰</div><span class=\"_1H-bmy\"><span>READ MORE</span></span></div></div>]"
      ]
     },
     "execution_count": 39,
     "metadata": {},
     "output_type": "execute_result"
    }
   ],
   "source": [
    "final_review = []\n",
    "for i in range(20):\n",
    "    reviews = []\n",
    "    reviews.append(soup3[i].find_all(\"div\",attrs={'class':'t-ZTKy'}))\n",
    "    final_review.append(reviews[0])\n",
    "final_review[19]"
   ]
  },
  {
   "cell_type": "code",
   "execution_count": 40,
   "id": "4e8c7110",
   "metadata": {},
   "outputs": [
    {
     "data": {
      "text/plain": [
       "['Good range mobileREAD MORE',\n",
       " 'Best phone in this range ❤️READ MORE',\n",
       " 'One of the best phone in the smart series performance camera battery is very goodREAD MORE',\n",
       " 'Good smartphoneREAD MORE',\n",
       " 'GoodREAD MORE',\n",
       " 'Wonderful 👍READ MORE',\n",
       " \"Considering the budget it's goodREAD MORE\",\n",
       " 'Very very best phone very excellent very smooth value for money best battery backup very fast working very fast chargeREAD MORE',\n",
       " 'Nice product... 👍READ MORE',\n",
       " 'Awesome Product in this sigment. Stylish Design, Good Camra, Fast Response Finger Sensor , Thank you infinix & thanks Flipkart 🤩😍🥰READ MORE']"
      ]
     },
     "execution_count": 40,
     "metadata": {},
     "output_type": "execute_result"
    }
   ],
   "source": [
    "products_review = []\n",
    "for i in range(20):\n",
    "    list_review = []\n",
    "    for j in range(10):\n",
    "        list_review.append(final_review[i][j].text)\n",
    "    products_review.append(list_review)\n",
    "products_review[19]"
   ]
  },
  {
   "cell_type": "code",
   "execution_count": null,
   "id": "46ccfd3f",
   "metadata": {},
   "outputs": [],
   "source": []
  },
  {
   "cell_type": "code",
   "execution_count": 41,
   "id": "5d002c42",
   "metadata": {},
   "outputs": [
    {
     "data": {
      "text/plain": [
       "[['Camera nicely see 😁🤗🤠READ MORE',\n",
       "  \"Don't buy this product, we can't use jio simREAD MORE\",\n",
       "  'Nice product nice Phone 📱READ MORE',\n",
       "  'Justify with the price Good mobile for basic usage display and back is averageREAD MORE',\n",
       "  'For this price, the phone is good, not for gaming. But you use simple gameREAD MORE',\n",
       "  \"Good but Back buttons are left , you can't change in right sideREAD MORE\",\n",
       "  'Picture quality is very good 👍READ MORE',\n",
       "  'Processor is slowREAD MORE',\n",
       "  'Super awesome 💯 just love ❤️ it thank you so much to the FlipkartREAD MORE',\n",
       "  'Perfect conditionREAD MORE'],\n",
       " ['Camera nicely see 😁🤗🤠READ MORE',\n",
       "  \"Don't buy this product, we can't use jio simREAD MORE\",\n",
       "  'Nice product nice Phone 📱READ MORE',\n",
       "  'Justify with the price Good mobile for basic usage display and back is averageREAD MORE',\n",
       "  'For this price, the phone is good, not for gaming. But you use simple gameREAD MORE',\n",
       "  \"Good but Back buttons are left , you can't change in right sideREAD MORE\",\n",
       "  'Picture quality is very good 👍READ MORE',\n",
       "  'Processor is slowREAD MORE',\n",
       "  'Super awesome 💯 just love ❤️ it thank you so much to the FlipkartREAD MORE',\n",
       "  'Perfect conditionREAD MORE'],\n",
       " ['Camera nicely see 😁🤗🤠READ MORE',\n",
       "  \"Don't buy this product, we can't use jio simREAD MORE\",\n",
       "  'Nice product nice Phone 📱READ MORE',\n",
       "  'Justify with the price Good mobile for basic usage display and back is averageREAD MORE',\n",
       "  'For this price, the phone is good, not for gaming. But you use simple gameREAD MORE',\n",
       "  \"Good but Back buttons are left , you can't change in right sideREAD MORE\",\n",
       "  'Picture quality is very good 👍READ MORE',\n",
       "  'Processor is slowREAD MORE',\n",
       "  'Super awesome 💯 just love ❤️ it thank you so much to the FlipkartREAD MORE',\n",
       "  'Perfect conditionREAD MORE'],\n",
       " ['Camera nicely see 😁🤗🤠READ MORE',\n",
       "  \"Don't buy this product, we can't use jio simREAD MORE\",\n",
       "  'Nice product nice Phone 📱READ MORE',\n",
       "  'Justify with the price Good mobile for basic usage display and back is averageREAD MORE',\n",
       "  'For this price, the phone is good, not for gaming. But you use simple gameREAD MORE',\n",
       "  \"Good but Back buttons are left , you can't change in right sideREAD MORE\",\n",
       "  'Picture quality is very good 👍READ MORE',\n",
       "  'Processor is slowREAD MORE',\n",
       "  'Super awesome 💯 just love ❤️ it thank you so much to the FlipkartREAD MORE',\n",
       "  'Perfect conditionREAD MORE'],\n",
       " ['Very good product ❤️👍READ MORE',\n",
       "  'Good product with good price...although front camera is ok while back camera is good..battery life is super.READ MORE',\n",
       "  'Good product 👍READ MORE',\n",
       "  'for only who have limited budget... running smoothly for your daily life routine work ...🎈READ MORE',\n",
       "  'Its good in this price rage...... stock andriod experience...❤️READ MORE',\n",
       "  'SuperREAD MORE',\n",
       "  'Nice phoneREAD MORE',\n",
       "  'Very niceREAD MORE',\n",
       "  \"Initial impressions:- First up all at this price range it's really good value for money products 👌  I purchased it for my mom so she doesn't know much about android phone so not big expectations from her end regarding performance and etc... Thats why it' may be a decent choice .Pros* 1- Camera is decent 2- 5000 MAH Battery also good3- Display is decent 4- Sound quality is also good5- Look and design realy impressive. 6- processor is decent 7- stock android go edition with MIUI ...READ MORE\",\n",
       "  'Nice mobile 👌READ MORE'],\n",
       " ['Very good product ❤️👍READ MORE',\n",
       "  'Good product with good price...although front camera is ok while back camera is good..battery life is super.READ MORE',\n",
       "  'Good product 👍READ MORE',\n",
       "  'for only who have limited budget... running smoothly for your daily life routine work ...🎈READ MORE',\n",
       "  'Its good in this price rage...... stock andriod experience...❤️READ MORE',\n",
       "  'SuperREAD MORE',\n",
       "  'Nice phoneREAD MORE',\n",
       "  'Very niceREAD MORE',\n",
       "  \"Initial impressions:- First up all at this price range it's really good value for money products 👌  I purchased it for my mom so she doesn't know much about android phone so not big expectations from her end regarding performance and etc... Thats why it' may be a decent choice .Pros* 1- Camera is decent 2- 5000 MAH Battery also good3- Display is decent 4- Sound quality is also good5- Look and design realy impressive. 6- processor is decent 7- stock android go edition with MIUI ...READ MORE\",\n",
       "  'Nice mobile 👌READ MORE'],\n",
       " ['Good camera 📸 quality...and design also fantastic 😍READ MORE',\n",
       "  'Best mobile at  this  price rangeCamera quality good but at night not goodBattery almost goodThanks flipkart for fast delivery......READ MORE',\n",
       "  'Nice 👍READ MORE',\n",
       "  'This is my first review....Nice colour and design camera just ok.READ MORE',\n",
       "  'SuperREAD MORE',\n",
       "  'Very good 😊READ MORE',\n",
       "  'Fastest delivery by Flipkart, thanks Flipkart.Review Overall rating 7 out of the 10Best 5G mobile phone in this range.Good design of mobile phone.Performance wise best .Those people live playing games this phone okay .Camera is given 50MP but actually working like 12MP.Battery is taking 2.15 to full charge.No heating issue found yet .READ MORE',\n",
       "  'Really a great phone in this price range.. Vivo brand using first time.. really great experience.. ❤READ MORE',\n",
       "  \"It's a value for money product..thank you Flipkart and vivo.💗💗💗READ MORE\",\n",
       "  'Felling crazy 😧READ MORE'],\n",
       " ['Good camera 📸 quality...and design also fantastic 😍READ MORE',\n",
       "  'Best mobile at  this  price rangeCamera quality good but at night not goodBattery almost goodThanks flipkart for fast delivery......READ MORE',\n",
       "  'Nice 👍READ MORE',\n",
       "  'This is my first review....Nice colour and design camera just ok.READ MORE',\n",
       "  'SuperREAD MORE',\n",
       "  'Very good 😊READ MORE',\n",
       "  'Fastest delivery by Flipkart, thanks Flipkart.Review Overall rating 7 out of the 10Best 5G mobile phone in this range.Good design of mobile phone.Performance wise best .Those people live playing games this phone okay .Camera is given 50MP but actually working like 12MP.Battery is taking 2.15 to full charge.No heating issue found yet .READ MORE',\n",
       "  'Really a great phone in this price range.. Vivo brand using first time.. really great experience.. ❤READ MORE',\n",
       "  \"It's a value for money product..thank you Flipkart and vivo.💗💗💗READ MORE\",\n",
       "  'Felling crazy 😧READ MORE'],\n",
       " ['Good performanceREAD MORE',\n",
       "  'Only charging is slow other wise all features are good camera 📸 4.5READ MORE',\n",
       "  'NiceREAD MORE',\n",
       "  'I like this mobile 😊READ MORE',\n",
       "  'Beautiful phone📱 camera is goodREAD MORE',\n",
       "  'T2x awesome pictures best smartphoneREAD MORE',\n",
       "  'Impressive 👍. Go for it....READ MORE',\n",
       "  'This is best smartphone I like camera and  battery back upREAD MORE',\n",
       "  'Average but goodREAD MORE',\n",
       "  \"The mobile is very good looking.. It's performance okay.. camera also good in this price range..READ MORE\"],\n",
       " ['Good performanceREAD MORE',\n",
       "  'Only charging is slow other wise all features are good camera 📸 4.5READ MORE',\n",
       "  'NiceREAD MORE',\n",
       "  'I like this mobile 😊READ MORE',\n",
       "  'Beautiful phone📱 camera is goodREAD MORE',\n",
       "  'T2x awesome pictures best smartphoneREAD MORE',\n",
       "  'Impressive 👍. Go for it....READ MORE',\n",
       "  'This is best smartphone I like camera and  battery back upREAD MORE',\n",
       "  'Average but goodREAD MORE',\n",
       "  \"The mobile is very good looking.. It's performance okay.. camera also good in this price range..READ MORE\"],\n",
       " ['Good performanceREAD MORE',\n",
       "  'Only charging is slow other wise all features are good camera 📸 4.5READ MORE',\n",
       "  'NiceREAD MORE',\n",
       "  'I like this mobile 😊READ MORE',\n",
       "  'Beautiful phone📱 camera is goodREAD MORE',\n",
       "  'T2x awesome pictures best smartphoneREAD MORE',\n",
       "  'Impressive 👍. Go for it....READ MORE',\n",
       "  'This is best smartphone I like camera and  battery back upREAD MORE',\n",
       "  'Average but goodREAD MORE',\n",
       "  \"The mobile is very good looking.. It's performance okay.. camera also good in this price range..READ MORE\"],\n",
       " ['Good performanceREAD MORE',\n",
       "  'Only charging is slow other wise all features are good camera 📸 4.5READ MORE',\n",
       "  'NiceREAD MORE',\n",
       "  'I like this mobile 😊READ MORE',\n",
       "  'Beautiful phone📱 camera is goodREAD MORE',\n",
       "  'T2x awesome pictures best smartphoneREAD MORE',\n",
       "  'Impressive 👍. Go for it....READ MORE',\n",
       "  'This is best smartphone I like camera and  battery back upREAD MORE',\n",
       "  'Average but goodREAD MORE',\n",
       "  \"The mobile is very good looking.. It's performance okay.. camera also good in this price range..READ MORE\"],\n",
       " ['Good performanceREAD MORE',\n",
       "  'Only charging is slow other wise all features are good camera 📸 4.5READ MORE',\n",
       "  'NiceREAD MORE',\n",
       "  'I like this mobile 😊READ MORE',\n",
       "  'Beautiful phone📱 camera is goodREAD MORE',\n",
       "  'T2x awesome pictures best smartphoneREAD MORE',\n",
       "  'Impressive 👍. Go for it....READ MORE',\n",
       "  'This is best smartphone I like camera and  battery back upREAD MORE',\n",
       "  'Average but goodREAD MORE',\n",
       "  \"The mobile is very good looking.. It's performance okay.. camera also good in this price range..READ MORE\"],\n",
       " ['Good performanceREAD MORE',\n",
       "  'Only charging is slow other wise all features are good camera 📸 4.5READ MORE',\n",
       "  'NiceREAD MORE',\n",
       "  'I like this mobile 😊READ MORE',\n",
       "  'Beautiful phone📱 camera is goodREAD MORE',\n",
       "  'T2x awesome pictures best smartphoneREAD MORE',\n",
       "  'Impressive 👍. Go for it....READ MORE',\n",
       "  'This is best smartphone I like camera and  battery back upREAD MORE',\n",
       "  'Average but goodREAD MORE',\n",
       "  \"The mobile is very good looking.. It's performance okay.. camera also good in this price range..READ MORE\"],\n",
       " ['Good camera 📸 quality...and design also fantastic 😍READ MORE',\n",
       "  'Best mobile at  this  price rangeCamera quality good but at night not goodBattery almost goodThanks flipkart for fast delivery......READ MORE',\n",
       "  'Nice 👍READ MORE',\n",
       "  'This is my first review....Nice colour and design camera just ok.READ MORE',\n",
       "  'SuperREAD MORE',\n",
       "  'Very good 😊READ MORE',\n",
       "  'Fastest delivery by Flipkart, thanks Flipkart.Review Overall rating 7 out of the 10Best 5G mobile phone in this range.Good design of mobile phone.Performance wise best .Those people live playing games this phone okay .Camera is given 50MP but actually working like 12MP.Battery is taking 2.15 to full charge.No heating issue found yet .READ MORE',\n",
       "  'Really a great phone in this price range.. Vivo brand using first time.. really great experience.. ❤READ MORE',\n",
       "  \"It's a value for money product..thank you Flipkart and vivo.💗💗💗READ MORE\",\n",
       "  'Felling crazy 😧READ MORE'],\n",
       " ['Good camera 📸 quality...and design also fantastic 😍READ MORE',\n",
       "  'Best mobile at  this  price rangeCamera quality good but at night not goodBattery almost goodThanks flipkart for fast delivery......READ MORE',\n",
       "  'Nice 👍READ MORE',\n",
       "  'This is my first review....Nice colour and design camera just ok.READ MORE',\n",
       "  'SuperREAD MORE',\n",
       "  'Very good 😊READ MORE',\n",
       "  'Fastest delivery by Flipkart, thanks Flipkart.Review Overall rating 7 out of the 10Best 5G mobile phone in this range.Good design of mobile phone.Performance wise best .Those people live playing games this phone okay .Camera is given 50MP but actually working like 12MP.Battery is taking 2.15 to full charge.No heating issue found yet .READ MORE',\n",
       "  'Really a great phone in this price range.. Vivo brand using first time.. really great experience.. ❤READ MORE',\n",
       "  \"It's a value for money product..thank you Flipkart and vivo.💗💗💗READ MORE\",\n",
       "  'Felling crazy 😧READ MORE'],\n",
       " ['Good range mobileREAD MORE',\n",
       "  'Best phone in this range ❤️READ MORE',\n",
       "  'One of the best phone in the smart series performance camera battery is very goodREAD MORE',\n",
       "  'Good smartphoneREAD MORE',\n",
       "  'GoodREAD MORE',\n",
       "  'Wonderful 👍READ MORE',\n",
       "  \"Considering the budget it's goodREAD MORE\",\n",
       "  'Very very best phone very excellent very smooth value for money best battery backup very fast working very fast chargeREAD MORE',\n",
       "  'Nice product... 👍READ MORE',\n",
       "  'Awesome Product in this sigment. Stylish Design, Good Camra, Fast Response Finger Sensor , Thank you infinix & thanks Flipkart 🤩😍🥰READ MORE'],\n",
       " ['Good range mobileREAD MORE',\n",
       "  'Best phone in this range ❤️READ MORE',\n",
       "  'One of the best phone in the smart series performance camera battery is very goodREAD MORE',\n",
       "  'Good smartphoneREAD MORE',\n",
       "  'GoodREAD MORE',\n",
       "  'Wonderful 👍READ MORE',\n",
       "  \"Considering the budget it's goodREAD MORE\",\n",
       "  'Very very best phone very excellent very smooth value for money best battery backup very fast working very fast chargeREAD MORE',\n",
       "  'Nice product... 👍READ MORE',\n",
       "  'Awesome Product in this sigment. Stylish Design, Good Camra, Fast Response Finger Sensor , Thank you infinix & thanks Flipkart 🤩😍🥰READ MORE'],\n",
       " ['Good range mobileREAD MORE',\n",
       "  'Best phone in this range ❤️READ MORE',\n",
       "  'One of the best phone in the smart series performance camera battery is very goodREAD MORE',\n",
       "  'Good smartphoneREAD MORE',\n",
       "  'GoodREAD MORE',\n",
       "  'Wonderful 👍READ MORE',\n",
       "  \"Considering the budget it's goodREAD MORE\",\n",
       "  'Very very best phone very excellent very smooth value for money best battery backup very fast working very fast chargeREAD MORE',\n",
       "  'Nice product... 👍READ MORE',\n",
       "  'Awesome Product in this sigment. Stylish Design, Good Camra, Fast Response Finger Sensor , Thank you infinix & thanks Flipkart 🤩😍🥰READ MORE'],\n",
       " ['Good range mobileREAD MORE',\n",
       "  'Best phone in this range ❤️READ MORE',\n",
       "  'One of the best phone in the smart series performance camera battery is very goodREAD MORE',\n",
       "  'Good smartphoneREAD MORE',\n",
       "  'GoodREAD MORE',\n",
       "  'Wonderful 👍READ MORE',\n",
       "  \"Considering the budget it's goodREAD MORE\",\n",
       "  'Very very best phone very excellent very smooth value for money best battery backup very fast working very fast chargeREAD MORE',\n",
       "  'Nice product... 👍READ MORE',\n",
       "  'Awesome Product in this sigment. Stylish Design, Good Camra, Fast Response Finger Sensor , Thank you infinix & thanks Flipkart 🤩😍🥰READ MORE']]"
      ]
     },
     "execution_count": 41,
     "metadata": {},
     "output_type": "execute_result"
    }
   ],
   "source": [
    "Reviews = []\n",
    "for i in range(len(products_review)):\n",
    "    Reviews.append(products_review[i])\n",
    "\n",
    "Reviews"
   ]
  },
  {
   "cell_type": "code",
   "execution_count": 42,
   "id": "49a9e87d",
   "metadata": {
    "scrolled": true
   },
   "outputs": [],
   "source": [
    "#for i in range(2,5):\n",
    "#    x = final_review_url+'&page={}'.format(i)\n",
    "#    #y = str(x)\n",
    "#    #z = y.strip()\n",
    "#    print(x)"
   ]
  },
  {
   "cell_type": "code",
   "execution_count": null,
   "id": "e9066044",
   "metadata": {},
   "outputs": [],
   "source": [
    "\n"
   ]
  },
  {
   "cell_type": "markdown",
   "id": "c15c8e4b",
   "metadata": {},
   "source": [
    "### 7- By using selenium. Create a web scrapper for scrapping any product name, product price and review from the first 50 page of flipkart and store all the data into a database like MySQL. Product name will be taken from user's side."
   ]
  },
  {
   "cell_type": "code",
   "execution_count": 43,
   "id": "db357015",
   "metadata": {},
   "outputs": [],
   "source": [
    "#pip install Selenium"
   ]
  },
  {
   "cell_type": "code",
   "execution_count": 44,
   "id": "b8807ab0",
   "metadata": {},
   "outputs": [],
   "source": [
    "#pip install webdriver-manager"
   ]
  },
  {
   "cell_type": "code",
   "execution_count": 45,
   "id": "e056b1f8",
   "metadata": {},
   "outputs": [],
   "source": [
    "import selenium\n",
    "from selenium import webdriver\n",
    "from selenium.webdriver.common.keys import Keys\n",
    "from selenium.webdriver.common.by import By"
   ]
  },
  {
   "cell_type": "code",
   "execution_count": 46,
   "id": "47566c58",
   "metadata": {},
   "outputs": [],
   "source": [
    "driver = webdriver.Chrome()"
   ]
  },
  {
   "cell_type": "code",
   "execution_count": 47,
   "id": "d0f9ebd8",
   "metadata": {},
   "outputs": [],
   "source": [
    "driver.get(\"https://www.flipkart.com/search?q=mobiles&sid=tyy%2C4io&as=on&as-show=on&otracker=AS_QueryStore_OrganicAutoSuggest_2_6_na_na_ps&otracker1=AS_QueryStore_OrganicAutoSuggest_2_6_na_na_ps&as-pos=2&as-type=RECENT&suggestionId=mobiles%7CMobiles&requestId=38e9e7bf-07d7-4285-a5e5-5618d61cbfcd&as-backfill=on\")"
   ]
  },
  {
   "cell_type": "code",
   "execution_count": 48,
   "id": "4856f26a",
   "metadata": {},
   "outputs": [
    {
     "data": {
      "text/plain": [
       "'POCO C51 (Royal Blue, 64 GB)'"
      ]
     },
     "execution_count": 48,
     "metadata": {},
     "output_type": "execute_result"
    }
   ],
   "source": [
    "driver.find_element(By.CSS_SELECTOR,\"._4rR01T\").text"
   ]
  },
  {
   "cell_type": "code",
   "execution_count": 49,
   "id": "3146ccbe",
   "metadata": {},
   "outputs": [
    {
     "data": {
      "text/plain": [
       "['POCO C51 (Royal Blue, 64 GB)',\n",
       " 'POCO C51 (Power Black, 64 GB)',\n",
       " 'Infinix SMART 7 (Azure Blue, 64 GB)',\n",
       " 'Infinix SMART 7 (Emerald Green, 64 GB)',\n",
       " 'Infinix SMART 7 (Emerald Green, 128 GB)',\n",
       " 'POCO C50 (Royal Blue, 32 GB)',\n",
       " 'vivo T2x 5G (Glimmer Black, 128 GB)',\n",
       " 'vivo T2x 5G (Marine Blue, 128 GB)',\n",
       " 'vivo T2x 5G (Glimmer Black, 128 GB)',\n",
       " 'vivo T2x 5G (Aurora Gold, 128 GB)',\n",
       " 'Infinix SMART 7 (Azure Blue, 128 GB)',\n",
       " 'Infinix SMART 7 (Night Black, 64 GB)',\n",
       " 'POCO C55 (Cool Blue, 128 GB)',\n",
       " 'vivo T2x 5G (Aurora Gold, 128 GB)',\n",
       " 'Infinix SMART 7 (Night Black, 128 GB)',\n",
       " 'POCO C55 (Power Black, 128 GB)',\n",
       " 'MOTOROLA G32 (Mineral Gray, 128 GB)',\n",
       " 'POCO C55 (Cool Blue, 64 GB)',\n",
       " 'MOTOROLA e32 (Arctic Blue, 64 GB)',\n",
       " 'POCO C55 (Forest Green, 64 GB)']"
      ]
     },
     "execution_count": 49,
     "metadata": {},
     "output_type": "execute_result"
    }
   ],
   "source": [
    "# using css selector method\n",
    "mobile =[]\n",
    "for i in range(20):\n",
    "    mobile.append(driver.find_elements(By.CSS_SELECTOR,\"._4rR01T\")[i].text)\n",
    "mobile"
   ]
  },
  {
   "cell_type": "code",
   "execution_count": 50,
   "id": "b2af606f",
   "metadata": {},
   "outputs": [
    {
     "data": {
      "text/plain": [
       "['₹6,499',\n",
       " '₹6,499',\n",
       " '₹6,999',\n",
       " '₹6,999',\n",
       " '₹7,799',\n",
       " '₹5,499',\n",
       " '₹13,999',\n",
       " '₹13,999',\n",
       " '₹12,999',\n",
       " '₹12,999',\n",
       " '₹7,799',\n",
       " '₹6,999',\n",
       " '₹8,999',\n",
       " '₹13,999',\n",
       " '₹7,799',\n",
       " '₹8,999',\n",
       " '₹11,999',\n",
       " '₹7,499',\n",
       " '₹7,999',\n",
       " '₹7,499']"
      ]
     },
     "execution_count": 50,
     "metadata": {},
     "output_type": "execute_result"
    }
   ],
   "source": [
    "price = [] \n",
    "for i in range(20):\n",
    "    price.append(driver.find_elements(By.CSS_SELECTOR,\"._1_WHN1\")[i].text)\n",
    "price"
   ]
  },
  {
   "cell_type": "code",
   "execution_count": 51,
   "id": "71f4d96d",
   "metadata": {
    "scrolled": true
   },
   "outputs": [
    {
     "name": "stdout",
     "output_type": "stream",
     "text": [
      "POCO C51 (Royal Blue, 64 GB)\n",
      "POCO C51 (Power Black, 64 GB)\n",
      "Infinix SMART 7 (Azure Blue, 64 GB)\n",
      "Infinix SMART 7 (Emerald Green, 64 GB)\n",
      "Infinix SMART 7 (Emerald Green, 128 GB)\n",
      "POCO C50 (Royal Blue, 32 GB)\n",
      "vivo T2x 5G (Glimmer Black, 128 GB)\n",
      "vivo T2x 5G (Marine Blue, 128 GB)\n",
      "vivo T2x 5G (Glimmer Black, 128 GB)\n",
      "vivo T2x 5G (Aurora Gold, 128 GB)\n",
      "Infinix SMART 7 (Azure Blue, 128 GB)\n",
      "Infinix SMART 7 (Night Black, 64 GB)\n",
      "POCO C55 (Cool Blue, 128 GB)\n",
      "vivo T2x 5G (Aurora Gold, 128 GB)\n",
      "Infinix SMART 7 (Night Black, 128 GB)\n",
      "POCO C55 (Power Black, 128 GB)\n",
      "MOTOROLA G32 (Mineral Gray, 128 GB)\n",
      "POCO C55 (Cool Blue, 64 GB)\n",
      "MOTOROLA e32 (Arctic Blue, 64 GB)\n",
      "POCO C55 (Forest Green, 64 GB)\n"
     ]
    }
   ],
   "source": [
    "# using XPATH method method\n",
    "for i in range(20):\n",
    "    print(driver.find_elements(By.XPATH,'//*[@class=\"_4rR01T\"]')[i].text)"
   ]
  },
  {
   "cell_type": "code",
   "execution_count": 52,
   "id": "163916ce",
   "metadata": {
    "scrolled": true
   },
   "outputs": [
    {
     "name": "stdout",
     "output_type": "stream",
     "text": [
      "₹6,499\n",
      "₹6,499\n",
      "₹6,999\n",
      "₹6,999\n",
      "₹7,799\n",
      "₹5,499\n",
      "₹13,999\n",
      "₹13,999\n",
      "₹12,999\n",
      "₹12,999\n",
      "₹7,799\n",
      "₹6,999\n",
      "₹8,999\n",
      "₹13,999\n",
      "₹7,799\n",
      "₹8,999\n",
      "₹11,999\n",
      "₹7,499\n",
      "₹7,999\n",
      "₹7,499\n"
     ]
    }
   ],
   "source": [
    "# using XPATH method method\n",
    "for i in range(20):\n",
    "    print(driver.find_elements(By.XPATH,'//*[@class=\"_30jeq3 _1_WHN1\"]')[i].text)"
   ]
  },
  {
   "cell_type": "code",
   "execution_count": 53,
   "id": "88f8f66f",
   "metadata": {
    "scrolled": true
   },
   "outputs": [],
   "source": [
    "#for i in range(20):\n",
    "#    print(driver.find_elements(By.CSS_SELECTOR,\".t-ZTKy\")[i].text)"
   ]
  },
  {
   "cell_type": "code",
   "execution_count": 54,
   "id": "443bff53",
   "metadata": {},
   "outputs": [],
   "source": [
    "from pandas.io import sql\n",
    "import sqlalchemy"
   ]
  },
  {
   "cell_type": "code",
   "execution_count": 55,
   "id": "15c1c65f",
   "metadata": {},
   "outputs": [],
   "source": [
    "df=pd.DataFrame({\"Mobile_name\":mobile,\"Price\":Product_price,\"Reviews\":Reviews})"
   ]
  },
  {
   "cell_type": "code",
   "execution_count": 56,
   "id": "5564943d",
   "metadata": {},
   "outputs": [],
   "source": [
    "from sqlalchemy import create_engine\n",
    "engine = create_engine('sqlite:///college.db', echo = True)"
   ]
  },
  {
   "cell_type": "code",
   "execution_count": 57,
   "id": "0b2528a9",
   "metadata": {},
   "outputs": [
    {
     "data": {
      "text/plain": [
       "Engine(sqlite:///college.db)"
      ]
     },
     "execution_count": 57,
     "metadata": {},
     "output_type": "execute_result"
    }
   ],
   "source": [
    "engine"
   ]
  },
  {
   "cell_type": "code",
   "execution_count": 59,
   "id": "74ab492e",
   "metadata": {},
   "outputs": [],
   "source": [
    "#df.to_sql(name = \"mobile_data\",con=engine)"
   ]
  },
  {
   "cell_type": "code",
   "execution_count": null,
   "id": "941e7f6f",
   "metadata": {},
   "outputs": [],
   "source": [
    "#conda install -c anaconda sqlalchemy"
   ]
  },
  {
   "cell_type": "code",
   "execution_count": null,
   "id": "a0ecb734",
   "metadata": {},
   "outputs": [],
   "source": []
  }
 ],
 "metadata": {
  "kernelspec": {
   "display_name": "Python 3 (ipykernel)",
   "language": "python",
   "name": "python3"
  },
  "language_info": {
   "codemirror_mode": {
    "name": "ipython",
    "version": 3
   },
   "file_extension": ".py",
   "mimetype": "text/x-python",
   "name": "python",
   "nbconvert_exporter": "python",
   "pygments_lexer": "ipython3",
   "version": "3.9.7"
  }
 },
 "nbformat": 4,
 "nbformat_minor": 5
}
