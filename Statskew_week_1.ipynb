{
 "cells": [
  {
   "cell_type": "code",
   "execution_count": 1,
   "id": "88ed03e0",
   "metadata": {},
   "outputs": [],
   "source": [
    "base_url = \"https://www.flipkart.com\" "
   ]
  },
  {
   "cell_type": "markdown",
   "id": "01d9f416",
   "metadata": {},
   "source": [
    "### 1- Create Your own filter and reduce function same as real filter and reduce function?"
   ]
  },
  {
   "cell_type": "code",
   "execution_count": 2,
   "id": "0b231ee3",
   "metadata": {},
   "outputs": [
    {
     "name": "stdout",
     "output_type": "stream",
     "text": [
      "[234, 254, 788, 432, 656]\n"
     ]
    }
   ],
   "source": [
    "def is_even(num):\n",
    "    if num%2==0:\n",
    "        return True\n",
    "    \n",
    "def my_filter(is_even,lst):\n",
    "    result =[]\n",
    "    for num in lst:\n",
    "        #print(num,\"----\")\n",
    "        if (is_even(num)) :\n",
    "            result.append(num)\n",
    "    return result   \n",
    "lst = [234,231,254,565,788,675,432,656]        \n",
    "my_result = my_filter(is_even,lst)\n",
    "print(my_result)\n",
    "\n"
   ]
  },
  {
   "cell_type": "code",
   "execution_count": 3,
   "id": "4eb60ee2",
   "metadata": {},
   "outputs": [
    {
     "data": {
      "text/plain": [
       "filter"
      ]
     },
     "execution_count": 3,
     "metadata": {},
     "output_type": "execute_result"
    }
   ],
   "source": [
    "filtered = filter(is_even,lst)\n",
    "type(filtered)"
   ]
  },
  {
   "cell_type": "code",
   "execution_count": 4,
   "id": "fecc5308",
   "metadata": {},
   "outputs": [
    {
     "name": "stdout",
     "output_type": "stream",
     "text": [
      "Help on class filter in module builtins:\n",
      "\n",
      "class filter(object)\n",
      " |  filter(function or None, iterable) --> filter object\n",
      " |  \n",
      " |  Return an iterator yielding those items of iterable for which function(item)\n",
      " |  is true. If function is None, return the items that are true.\n",
      " |  \n",
      " |  Methods defined here:\n",
      " |  \n",
      " |  __getattribute__(self, name, /)\n",
      " |      Return getattr(self, name).\n",
      " |  \n",
      " |  __iter__(self, /)\n",
      " |      Implement iter(self).\n",
      " |  \n",
      " |  __next__(self, /)\n",
      " |      Implement next(self).\n",
      " |  \n",
      " |  __reduce__(...)\n",
      " |      Return state information for pickling.\n",
      " |  \n",
      " |  ----------------------------------------------------------------------\n",
      " |  Static methods defined here:\n",
      " |  \n",
      " |  __new__(*args, **kwargs) from builtins.type\n",
      " |      Create and return a new object.  See help(type) for accurate signature.\n",
      "\n"
     ]
    }
   ],
   "source": [
    "help(filter)"
   ]
  },
  {
   "cell_type": "code",
   "execution_count": 5,
   "id": "e2244c9c",
   "metadata": {},
   "outputs": [
    {
     "name": "stdout",
     "output_type": "stream",
     "text": [
      "e\n",
      "e\n"
     ]
    }
   ],
   "source": [
    "def fun(variable):\n",
    "    letters = ['a', 'e', 'i', 'o', 'u']\n",
    "    if (variable in letters):\n",
    "        #print(variable)\n",
    "        return True\n",
    "    else:\n",
    "        #print(variable)\n",
    "        return False\n",
    "\n",
    "def my_filter(fun,sequence):\n",
    "    for var in sequence:\n",
    "        if(fun(var)):\n",
    "            print(var)\n",
    " # sequence\n",
    "sequence = ['g', 'e', 'e', 'j', 'k', 's', 'p', 'r']\n",
    "my_filter(fun,sequence)"
   ]
  },
  {
   "cell_type": "code",
   "execution_count": 6,
   "id": "b97a8014",
   "metadata": {},
   "outputs": [
    {
     "name": "stdout",
     "output_type": "stream",
     "text": [
      "24\n"
     ]
    }
   ],
   "source": [
    "# Reduce function\n",
    "def add(a,b):\n",
    "    return a+b\n",
    "\n",
    "def reducefunc(add,lst):\n",
    "    a = lst[0]\n",
    "    for i in range(1,len(lst)):\n",
    "        b = lst[i]\n",
    "        a = add(a,b)\n",
    "    return a\n",
    "\n",
    "#reducefunc(add,lst)\n",
    "lst = [10,2,3,4,5]\n",
    "my_result = reducefunc(add,lst)\n",
    "print(my_result)"
   ]
  },
  {
   "cell_type": "code",
   "execution_count": 7,
   "id": "2ce207b4",
   "metadata": {},
   "outputs": [],
   "source": [
    "\n",
    "def add(i):\n",
    "    return num\n",
    "\n",
    "def my_reduce(add,lst):\n",
    "    num=0\n",
    "    for i in range(len(lst)):\n",
    "        num+=lst[i]\n",
    "        \n",
    "lst=[234,231,254,565,788,675,432,656]        \n",
    "my_reduce(add,lst)"
   ]
  },
  {
   "cell_type": "markdown",
   "id": "b327d8d5",
   "metadata": {},
   "source": [
    "### 2- Move Files from one folder to another folder. By using Python. And create empty files using python."
   ]
  },
  {
   "cell_type": "code",
   "execution_count": 8,
   "id": "620c4de5",
   "metadata": {},
   "outputs": [
    {
     "name": "stdout",
     "output_type": "stream",
     "text": [
      "List of directories and files before creation:\n",
      "['.ipynb_checkpoints', 'college.db', 'myfile.txt', 'Statskew_week_1.ipynb', 'student.csv', 'student.json']\n",
      "\n"
     ]
    }
   ],
   "source": [
    "#create empty files using python.\n",
    "import os\n",
    "path = \"D:/Project Work/folder_1\"\n",
    "file = 'myfile.txt'\n",
    "dir_list = os.listdir(path) \n",
    "print(\"List of directories and files before creation:\")\n",
    "print(dir_list)\n",
    "print()"
   ]
  },
  {
   "cell_type": "code",
   "execution_count": 9,
   "id": "9e763d04",
   "metadata": {},
   "outputs": [],
   "source": [
    "with open(os.path.join(path, file), 'w') as fp:\n",
    "    pass"
   ]
  },
  {
   "cell_type": "code",
   "execution_count": 10,
   "id": "b82b2858",
   "metadata": {},
   "outputs": [
    {
     "name": "stdout",
     "output_type": "stream",
     "text": [
      "List of directories and files after creation:\n",
      "['.ipynb_checkpoints', 'college.db', 'myfile.txt', 'Statskew_week_1.ipynb', 'student.csv', 'student.json']\n",
      "\n"
     ]
    }
   ],
   "source": [
    "dir_list = os.listdir(path) \n",
    "print(\"List of directories and files after creation:\")\n",
    "print(dir_list)\n",
    "print()"
   ]
  },
  {
   "cell_type": "code",
   "execution_count": 11,
   "id": "0c7556a1",
   "metadata": {
    "scrolled": true
   },
   "outputs": [],
   "source": [
    "# Move Files from one folder to another folder.\n",
    "#os.rename(\"myfile.txt\", \"D:\\\\Project Work\\\\folder_2\\\\my_move_file3.txt\")"
   ]
  },
  {
   "cell_type": "markdown",
   "id": "c3cb77fc",
   "metadata": {},
   "source": [
    "### 3- Delete files if the files are present in the folder otherwise pass."
   ]
  },
  {
   "cell_type": "code",
   "execution_count": 12,
   "id": "ec46a442",
   "metadata": {},
   "outputs": [],
   "source": [
    "#import os\n",
    "#if os.path.exists(\"samle.txt\"):\n",
    "#    os.remove(\"sample.txt\")\n",
    "#else:\n",
    "#    print(\"The file does not exist\")"
   ]
  },
  {
   "cell_type": "markdown",
   "id": "7c8c53ed",
   "metadata": {},
   "source": [
    "### 4- Open the Json file and extract the name of the students.\n",
    "Download link :\n",
    "https://drive.google.com/file/d/1_l60BmsOlHcvNnsT_5ECRvoH75npz3\n",
    "Oq/view"
   ]
  },
  {
   "cell_type": "code",
   "execution_count": 13,
   "id": "0f176377",
   "metadata": {},
   "outputs": [],
   "source": [
    "myJson = [\n",
    "  {\n",
    "    \"name\": \"John Smith\",\n",
    "    \"phone_number\": \"123-456-7890\",\n",
    "    \"address\": \"123 Main St, Anytown USA\",\n",
    "    \"school_name\": \"Anytown High School\"\n",
    "  },\n",
    "  {\n",
    "    \"name\": \"Jane Doe\",\n",
    "    \"phone_number\": \"555-555-5555\",\n",
    "    \"address\": \"456 Elm St, Anytown USA\",\n",
    "    \"school_name\": \"Anytown High School\"\n",
    "  },\n",
    "  {\n",
    "    \"name\": \"Bob Johnson\",\n",
    "    \"phone_number\": \"555-123-4567\",\n",
    "    \"address\": \"789 Oak St, Anytown USA\",\n",
    "    \"school_name\": \"Anytown Middle School\"\n",
    "  },\n",
    "  {\n",
    "    \"name\": \"Emily Davis\",\n",
    "    \"phone_number\": \"555-789-1234\",\n",
    "    \"address\": \"321 Maple St, Anytown USA\",\n",
    "    \"school_name\": \"Anytown Elementary School\"\n",
    "  },\n",
    "  {\n",
    "    \"name\": \"David Lee\",\n",
    "    \"phone_number\": \"555-444-4444\",\n",
    "    \"address\": \"555 Pine St, Anytown USA\",\n",
    "    \"school_name\": \"Anytown High School\"\n",
    "  },\n",
    "  {\n",
    "    \"name\": \"Samantha Hernandez\",\n",
    "    \"phone_number\": \"555-666-7777\",\n",
    "    \"address\": \"777 Oak St, Anytown USA\",\n",
    "    \"school_name\": \"Anytown Elementary School\"\n",
    "  },\n",
    "  {\n",
    "    \"name\": \"Chris Nguyen\",\n",
    "    \"phone_number\": \"555-222-3333\",\n",
    "    \"address\": \"888 Maple St, Anytown USA\",\n",
    "    \"school_name\": \"Anytown Middle School\"\n",
    "  },\n",
    "  {\n",
    "    \"name\": \"Ashley Patel\",\n",
    "    \"phone_number\": \"555-777-8888\",\n",
    "    \"address\": \"999 Pine St, Anytown USA\",\n",
    "    \"school_name\": \"Anytown High School\"\n",
    "  },\n",
    "  {\n",
    "    \"name\": \"Kevin Wilson\",\n",
    "    \"phone_number\": \"555-111-2222\",\n",
    "    \"address\": \"111 Elm St, Anytown USA\",\n",
    "    \"school_name\": \"Anytown Middle School\"\n",
    "  },\n",
    "  {\n",
    "    \"name\": \"Jessica Kim\",\n",
    "    \"phone_number\": \"555-888-9999\",\n",
    "    \"address\": \"222 Maple St, Anytown USA\",\n",
    "    \"school_name\": \"Anytown High School\"\n",
    "  },\n",
    "  {\n",
    "    \"name\": \"Mark Lee\",\n",
    "    \"phone_number\": \"555-444-5555\",\n",
    "    \"address\": \"333 Oak St, Anytown USA\",\n",
    "    \"school_name\": \"Anytown Elementary School\"\n",
    "  },\n",
    "  {\n",
    "    \"name\": \"Melissa Brown\",\n",
    "    \"phone_number\": \"555-222-1111\",\n",
    "    \"address\": \"444 Pine St, Anytown USA\",\n",
    "    \"school_name\": \"Anytown Middle School\"\n",
    "  },\n",
    "  {\n",
    "    \"name\": \"Ryan Nguyen\",\n",
    "    \"phone_number\": \"555-333-4444\",\n",
    "    \"address\": \"555 Elm St, Anytown USA\",\n",
    "    \"school_name\": \"Anytown High School\"\n",
    "  },\n",
    "  {\n",
    "    \"name\": \"Alexandra Hernandez\",\n",
    "    \"phone_number\": \"555-666-5555\",\n",
    "    \"address\": \"666 Oak St, Anytown USA\",\n",
    "    \"school_name\": \"Anytown Elementary School\"}\n",
    "]"
   ]
  },
  {
   "cell_type": "code",
   "execution_count": 14,
   "id": "67631079",
   "metadata": {},
   "outputs": [],
   "source": [
    "import json\n",
    "# Serializing json\n",
    "json_object = json.dumps(myJson, indent=4)\n",
    " \n",
    "# Writing to sample.json\n",
    "with open(\"student.json\", \"w\") as outfile:\n",
    "    outfile.write(json_object)"
   ]
  },
  {
   "cell_type": "code",
   "execution_count": 15,
   "id": "4aa248bb",
   "metadata": {},
   "outputs": [
    {
     "data": {
      "text/plain": [
       "0              John Smith\n",
       "1                Jane Doe\n",
       "2             Bob Johnson\n",
       "3             Emily Davis\n",
       "4               David Lee\n",
       "5      Samantha Hernandez\n",
       "6            Chris Nguyen\n",
       "7            Ashley Patel\n",
       "8            Kevin Wilson\n",
       "9             Jessica Kim\n",
       "10               Mark Lee\n",
       "11          Melissa Brown\n",
       "12            Ryan Nguyen\n",
       "13    Alexandra Hernandez\n",
       "Name: name, dtype: object"
      ]
     },
     "execution_count": 15,
     "metadata": {},
     "output_type": "execute_result"
    }
   ],
   "source": [
    "import pandas as pd\n",
    "df = pd.read_json(\"student.json\")\n",
    "df.name"
   ]
  },
  {
   "cell_type": "code",
   "execution_count": 16,
   "id": "80c5f666",
   "metadata": {},
   "outputs": [],
   "source": [
    "# converted to csv\n",
    "\n",
    "import csv\n",
    "with open('student.json') as json_file:\n",
    "    data = json.load(json_file)"
   ]
  },
  {
   "cell_type": "code",
   "execution_count": 17,
   "id": "f655d770",
   "metadata": {},
   "outputs": [],
   "source": [
    "#Extract the fields you want to include in the CSV file\n",
    "fields = ['name', 'phone_number', 'address','school_name']\n",
    "with open('student.csv', 'w') as csv_file:\n",
    "    writer = csv.writer(csv_file)\n",
    "    writer.writerow(fields)\n",
    "    # Write each data row to the CSV file\n",
    "    for row in data:\n",
    "        writer.writerow([row[field] for field in fields])"
   ]
  },
  {
   "cell_type": "code",
   "execution_count": 18,
   "id": "9b95d21b",
   "metadata": {},
   "outputs": [
    {
     "data": {
      "text/plain": [
       "0              John Smith\n",
       "1                Jane Doe\n",
       "2             Bob Johnson\n",
       "3             Emily Davis\n",
       "4               David Lee\n",
       "5      Samantha Hernandez\n",
       "6            Chris Nguyen\n",
       "7            Ashley Patel\n",
       "8            Kevin Wilson\n",
       "9             Jessica Kim\n",
       "10               Mark Lee\n",
       "11          Melissa Brown\n",
       "12            Ryan Nguyen\n",
       "13    Alexandra Hernandez\n",
       "Name: name, dtype: object"
      ]
     },
     "execution_count": 18,
     "metadata": {},
     "output_type": "execute_result"
    }
   ],
   "source": [
    "import pandas as pd\n",
    "df = pd.read_csv(\"student.csv\")\n",
    "df[\"name\"]"
   ]
  },
  {
   "cell_type": "markdown",
   "id": "2ca7c2a5",
   "metadata": {},
   "source": [
    "### 5 -Create a class which contains all the above functions and import this class for use. (OOPS Concept)"
   ]
  },
  {
   "cell_type": "code",
   "execution_count": 19,
   "id": "6e958869",
   "metadata": {},
   "outputs": [
    {
     "name": "stdout",
     "output_type": "stream",
     "text": [
      "[2, 4, 6]\n",
      "200\n"
     ]
    }
   ],
   "source": [
    "\n",
    "class myclass:\n",
    "    \n",
    " \n",
    "    \n",
    "    def is_even(num):\n",
    "        if num%2==0:\n",
    "            return True\n",
    "    def my_filter(is_even,lst):   \n",
    "        result =[]\n",
    "        for num in lst:\n",
    "            if (is_even(num)) :\n",
    "                result.append(num)\n",
    "        return result   \n",
    "    lst = [1,2,3,4,5,6]    \n",
    "    my_result = my_filter(is_even,lst)\n",
    "    \n",
    "    \n",
    "    \n",
    "    # Reduce function\n",
    "    \n",
    "    def add(a,b):\n",
    "        return a+b\n",
    "    \n",
    "    def reducefunc(add,lst):\n",
    "        a = lst[0]\n",
    "        for i in range(1,len(lst)):\n",
    "            b = lst[i]\n",
    "            a = add(a,b)\n",
    "        #print(a)\n",
    "        return a\n",
    "    lst = [50,50,50,50]\n",
    "    my_result2 = reducefunc(add,lst)\n",
    "#print(my_result)\n",
    "    \n",
    "    \n",
    "        \n",
    "        \n",
    "\n",
    "    \n",
    "p1= myclass\n",
    "print(p1.my_result)\n",
    "print(p1.my_result2)"
   ]
  },
  {
   "cell_type": "code",
   "execution_count": null,
   "id": "20fb3792",
   "metadata": {},
   "outputs": [],
   "source": []
  },
  {
   "cell_type": "markdown",
   "id": "d650d84b",
   "metadata": {},
   "source": [
    "### 6- Scrape mobile name, mobile price and reviews from first 20 page of flipkart."
   ]
  },
  {
   "cell_type": "code",
   "execution_count": 20,
   "id": "f30692c3",
   "metadata": {},
   "outputs": [],
   "source": [
    "base_url = \"https://www.flipkart.com\" "
   ]
  },
  {
   "cell_type": "code",
   "execution_count": 21,
   "id": "0b7311be",
   "metadata": {},
   "outputs": [],
   "source": [
    "import requests\n",
    "from bs4 import BeautifulSoup as bs"
   ]
  },
  {
   "cell_type": "code",
   "execution_count": 22,
   "id": "cccbba8f",
   "metadata": {},
   "outputs": [],
   "source": [
    "url = \"https://www.flipkart.com/search?q=mobile&sid=tyy%2C4io&as=on&as-show=on&otracker=AS_QueryStore_OrganicAutoSuggest_1_2_na_na_na&otracker1=AS_QueryStore_OrganicAutoSuggest_1_2_na_na_na&as-pos=1&as-type=RECENT&suggestionId=mobile%7CMobiles&requestId=c6be39e8-02b1-4c2a-a974-36c63ef17525&as-backfill=on\"\n",
    "url_data = requests.get(url)"
   ]
  },
  {
   "cell_type": "code",
   "execution_count": 23,
   "id": "02ba9b20",
   "metadata": {},
   "outputs": [],
   "source": [
    "soup = bs(url_data.text,\"html.parser\")"
   ]
  },
  {
   "cell_type": "code",
   "execution_count": 24,
   "id": "496aef7f",
   "metadata": {},
   "outputs": [],
   "source": [
    "product = soup.find_all(\"div\", attrs={\"class\":\"_4rR01T\"})"
   ]
  },
  {
   "cell_type": "code",
   "execution_count": 25,
   "id": "dedf555d",
   "metadata": {
    "scrolled": true
   },
   "outputs": [],
   "source": [
    "#counter = 0\n",
    "#for link in soup.find_all('a',attrs={'class':\"_1fQZEK\"}):\n",
    "#    print(link.get('href'))\n",
    "#    counter+=1\n",
    "#    if counter==20:\n",
    "#        break\n",
    "    #products_url = soup.find(\"a\",attrs={'class':\"_1fQZEK\"}).get('href')\n",
    "#product_url\n"
   ]
  },
  {
   "cell_type": "code",
   "execution_count": 26,
   "id": "d28ee95d",
   "metadata": {
    "scrolled": true
   },
   "outputs": [
    {
     "data": {
      "text/plain": [
       "'POCO C50 (Royal Blue, 32 GB)'"
      ]
     },
     "execution_count": 26,
     "metadata": {},
     "output_type": "execute_result"
    }
   ],
   "source": [
    "product[2].text"
   ]
  },
  {
   "cell_type": "code",
   "execution_count": 27,
   "id": "9b612e6f",
   "metadata": {
    "scrolled": true
   },
   "outputs": [
    {
     "data": {
      "text/plain": [
       "'₹6,499'"
      ]
     },
     "execution_count": 27,
     "metadata": {},
     "output_type": "execute_result"
    }
   ],
   "source": [
    "price = soup.find_all(\"div\",attrs={\"class\":\"_30jeq3 _1_WHN1\"})\n",
    "price[0].text"
   ]
  },
  {
   "cell_type": "code",
   "execution_count": 28,
   "id": "ee5ef587",
   "metadata": {},
   "outputs": [
    {
     "data": {
      "text/plain": [
       "['POCO C51 (Royal Blue, 64 GB)',\n",
       " 'POCO C51 (Power Black, 64 GB)',\n",
       " 'POCO C50 (Royal Blue, 32 GB)',\n",
       " 'vivo T2x 5G (Aurora Gold, 128 GB)',\n",
       " 'vivo T2x 5G (Glimmer Black, 128 GB)',\n",
       " 'vivo T2x 5G (Aurora Gold, 128 GB)',\n",
       " 'vivo T2x 5G (Marine Blue, 128 GB)',\n",
       " 'vivo T2x 5G (Glimmer Black, 128 GB)',\n",
       " 'Infinix SMART 7 (Azure Blue, 64 GB)',\n",
       " 'Infinix SMART 7 (Emerald Green, 128 GB)',\n",
       " 'Infinix SMART 7 (Emerald Green, 64 GB)',\n",
       " 'POCO C55 (Cool Blue, 128 GB)',\n",
       " 'Infinix SMART 7 (Azure Blue, 128 GB)',\n",
       " 'POCO C55 (Power Black, 128 GB)',\n",
       " 'Infinix SMART 7 (Night Black, 64 GB)',\n",
       " 'MOTOROLA G32 (Mineral Gray, 128 GB)',\n",
       " 'MOTOROLA G62 5G (Frosted Blue, 128 GB)',\n",
       " 'POCO C55 (Forest Green, 128 GB)',\n",
       " 'MOTOROLA e32 (Arctic Blue, 64 GB)',\n",
       " 'MOTOROLA e13 (Aurora Green, 64 GB)']"
      ]
     },
     "execution_count": 28,
     "metadata": {},
     "output_type": "execute_result"
    }
   ],
   "source": [
    "mobile_name = []\n",
    "for i in range(20):\n",
    "    mobile_name.append(product[i].text)\n",
    "mobile_name"
   ]
  },
  {
   "cell_type": "code",
   "execution_count": 29,
   "id": "17df848c",
   "metadata": {},
   "outputs": [],
   "source": [
    "#for i in range(20):\n",
    "#    print(product[i].text)"
   ]
  },
  {
   "cell_type": "code",
   "execution_count": 30,
   "id": "3b399d7e",
   "metadata": {
    "scrolled": true
   },
   "outputs": [],
   "source": [
    "#for i in range(20):\n",
    "#    print(price[i].text)"
   ]
  },
  {
   "cell_type": "code",
   "execution_count": 31,
   "id": "c47c1bb4",
   "metadata": {},
   "outputs": [
    {
     "data": {
      "text/plain": [
       "['₹6,499',\n",
       " '₹6,499',\n",
       " '₹5,499',\n",
       " '₹12,999',\n",
       " '₹13,999',\n",
       " '₹13,999',\n",
       " '₹13,999',\n",
       " '₹12,999',\n",
       " '₹6,999',\n",
       " '₹7,799',\n",
       " '₹6,999',\n",
       " '₹8,999',\n",
       " '₹7,799',\n",
       " '₹8,999',\n",
       " '₹6,999',\n",
       " '₹11,999',\n",
       " '₹14,999',\n",
       " '₹8,999',\n",
       " '₹7,999',\n",
       " '₹7,299']"
      ]
     },
     "execution_count": 31,
     "metadata": {},
     "output_type": "execute_result"
    }
   ],
   "source": [
    "Product_price = []\n",
    "for i in range(20):\n",
    "    Product_price.append(price[i].text)\n",
    "Product_price"
   ]
  },
  {
   "cell_type": "code",
   "execution_count": 32,
   "id": "6e4cee72",
   "metadata": {
    "scrolled": true
   },
   "outputs": [],
   "source": [
    "#product_url = \"https://www.flipkart.com/vivo-t2x-5g-glimmer-black-128-gb/p/itmcb8f0f6a85d5d?pid=MOBGZBFUF389GDMP&lid=LSTMOBGZBFUF389GDMPKCQWJ4&marketplace=FLIPKART&q=mobiles&store=tyy%2F4io&srno=s_1_6&otracker=AS_QueryStore_OrganicAutoSuggest_2_6_na_na_ps&otracker1=AS_QueryStore_OrganicAutoSuggest_2_6_na_na_ps&iid=8a5a5d32-49ff-46c7-acce-842653cc7668.MOBGZBFUF389GDMP.SEARCH&ssid=fzz638vb680000001692103209960&qH=eb4af0bf07c16429\"\n",
    "#product_data = requests.get(product_url)\n"
   ]
  },
  {
   "cell_type": "code",
   "execution_count": 33,
   "id": "29ae6105",
   "metadata": {},
   "outputs": [],
   "source": [
    "#soup2 = bs(product_data.text,\"html.parser\")"
   ]
  },
  {
   "cell_type": "code",
   "execution_count": 34,
   "id": "c0489a2d",
   "metadata": {},
   "outputs": [],
   "source": [
    "#product_review_url = soup2.find(\"div\",attrs={'class':'_3UAT2v _16PBlm'}).parent.get('href')\n",
    "#product_review_url\n"
   ]
  },
  {
   "cell_type": "code",
   "execution_count": 35,
   "id": "b4911c8c",
   "metadata": {
    "scrolled": true
   },
   "outputs": [
    {
     "name": "stdout",
     "output_type": "stream",
     "text": [
      "https://www.flipkart.com/vivo-t2x-5g-glimmer-black-128-gb/p/itmcb8f0f6a85d5d?pid=MOBGZBFUF389GDMP&lid=LSTMOBGZBFUF389GDMPKCQWJ4&marketplace=FLIPKART&q=mobile&store=tyy%2F4io&srno=s_1_5&otracker=AS_QueryStore_OrganicAutoSuggest_1_2_na_na_na&otracker1=AS_QueryStore_OrganicAutoSuggest_1_2_na_na_na&fm=organic&iid=1041abf8-bc0c-4c99-8459-d793108c18a9.MOBGZBFUF389GDMP.SEARCH&ppt=None&ppn=None&ssid=hxu2ndsdts0000001692183741481&qH=532c28d5412dd75b\n"
     ]
    }
   ],
   "source": [
    "lst1 = []\n",
    "for link in soup.find_all('a',attrs={'class':\"_1fQZEK\"}):\n",
    "    lst = []\n",
    "    lst.append(link.get('href'))\n",
    "    lst1.append(lst)\n",
    "    \n",
    "    lst1.append(lst)\n",
    "\n",
    "    \n",
    "final_review_url = []\n",
    "for i in range(20):\n",
    "    product_review_url = lst1[i][0]\n",
    "    final_review_url.append(base_url+product_review_url)\n",
    "print(final_review_url[8])"
   ]
  },
  {
   "cell_type": "code",
   "execution_count": 36,
   "id": "062299e0",
   "metadata": {},
   "outputs": [],
   "source": [
    "#final_review_url = base_url+product_review_url\n",
    "#final_review_url"
   ]
  },
  {
   "cell_type": "code",
   "execution_count": 37,
   "id": "471b658d",
   "metadata": {},
   "outputs": [],
   "source": [
    "review_data = []\n",
    "for i in range(20):\n",
    "    review_data.append(requests.get(final_review_url[i]))\n"
   ]
  },
  {
   "cell_type": "code",
   "execution_count": 38,
   "id": "1eb29a75",
   "metadata": {},
   "outputs": [],
   "source": [
    "soup3 = []\n",
    "for i in range(len(review_data)):\n",
    "    soup3.append(bs(review_data[i].text,\"html.parser\"))\n"
   ]
  },
  {
   "cell_type": "code",
   "execution_count": 39,
   "id": "71ca3928",
   "metadata": {},
   "outputs": [
    {
     "data": {
      "text/plain": [
       "[<div class=\"t-ZTKy\"><div><div class=\"\">Good range mobile</div><span class=\"_1H-bmy\"><span>READ MORE</span></span></div></div>,\n",
       " <div class=\"t-ZTKy\"><div><div class=\"\">Best phone in this range ❤️</div><span class=\"_1H-bmy\"><span>READ MORE</span></span></div></div>,\n",
       " <div class=\"t-ZTKy\"><div><div class=\"\">One of the best phone in the smart series performance camera battery is very good</div><span class=\"_1H-bmy\"><span>READ MORE</span></span></div></div>,\n",
       " <div class=\"t-ZTKy\"><div><div class=\"\">Good smartphone</div><span class=\"_1H-bmy\"><span>READ MORE</span></span></div></div>,\n",
       " <div class=\"t-ZTKy\"><div><div class=\"\">Good</div><span class=\"_1H-bmy\"><span>READ MORE</span></span></div></div>,\n",
       " <div class=\"t-ZTKy\"><div><div class=\"\">Wonderful 👍</div><span class=\"_1H-bmy\"><span>READ MORE</span></span></div></div>,\n",
       " <div class=\"t-ZTKy\"><div><div class=\"\">Considering the budget it's good</div><span class=\"_1H-bmy\"><span>READ MORE</span></span></div></div>,\n",
       " <div class=\"t-ZTKy\"><div><div class=\"\">Very very best phone very excellent very smooth value for money best battery backup very fast working very fast charge</div><span class=\"_1H-bmy\"><span>READ MORE</span></span></div></div>,\n",
       " <div class=\"t-ZTKy\"><div><div class=\"\">Nice product... 👍</div><span class=\"_1H-bmy\"><span>READ MORE</span></span></div></div>,\n",
       " <div class=\"t-ZTKy\"><div><div class=\"\">Awesome Product in this sigment. Stylish Design, Good Camra, Fast Response Finger Sensor , Thank you infinix &amp; thanks Flipkart 🤩😍🥰</div><span class=\"_1H-bmy\"><span>READ MORE</span></span></div></div>]"
      ]
     },
     "execution_count": 39,
     "metadata": {},
     "output_type": "execute_result"
    }
   ],
   "source": [
    "final_review = []\n",
    "for i in range(20):\n",
    "    reviews = []\n",
    "    reviews.append(soup3[i].find_all(\"div\",attrs={'class':'t-ZTKy'}))\n",
    "    final_review.append(reviews[0])\n",
    "final_review[19]"
   ]
  },
  {
   "cell_type": "code",
   "execution_count": 40,
   "id": "89abfe7b",
   "metadata": {},
   "outputs": [
    {
     "data": {
      "text/plain": [
       "['Good range mobileREAD MORE',\n",
       " 'Best phone in this range ❤️READ MORE',\n",
       " 'One of the best phone in the smart series performance camera battery is very goodREAD MORE',\n",
       " 'Good smartphoneREAD MORE',\n",
       " 'GoodREAD MORE',\n",
       " 'Wonderful 👍READ MORE',\n",
       " \"Considering the budget it's goodREAD MORE\",\n",
       " 'Very very best phone very excellent very smooth value for money best battery backup very fast working very fast chargeREAD MORE',\n",
       " 'Nice product... 👍READ MORE',\n",
       " 'Awesome Product in this sigment. Stylish Design, Good Camra, Fast Response Finger Sensor , Thank you infinix & thanks Flipkart 🤩😍🥰READ MORE']"
      ]
     },
     "execution_count": 40,
     "metadata": {},
     "output_type": "execute_result"
    }
   ],
   "source": [
    "products_review = []\n",
    "for i in range(20):\n",
    "    list_review = []\n",
    "    for j in range(10):\n",
    "        list_review.append(final_review[i][j].text)\n",
    "    products_review.append(list_review)\n",
    "products_review[19]"
   ]
  },
  {
   "cell_type": "code",
   "execution_count": null,
   "id": "9f8bde0b",
   "metadata": {},
   "outputs": [],
   "source": []
  },
  {
   "cell_type": "code",
   "execution_count": 41,
   "id": "bba6fb6a",
   "metadata": {},
   "outputs": [],
   "source": [
    "Reviews = []\n",
    "for i in range(len(products_review)):\n",
    "    Reviews.append(products_review[i])\n",
    "\n"
   ]
  },
  {
   "cell_type": "code",
   "execution_count": 42,
   "id": "99b79cac",
   "metadata": {
    "scrolled": true
   },
   "outputs": [],
   "source": [
    "#for i in range(2,5):\n",
    "#    x = final_review_url+'&page={}'.format(i)\n",
    "#    #y = str(x)\n",
    "#    #z = y.strip()\n",
    "#    print(x)"
   ]
  },
  {
   "cell_type": "code",
   "execution_count": null,
   "id": "46c7b884",
   "metadata": {},
   "outputs": [],
   "source": [
    "\n"
   ]
  },
  {
   "cell_type": "markdown",
   "id": "c15c8e4b",
   "metadata": {},
   "source": [
    "### 7- By using selenium. Create a web scrapper for scrapping any product name, product price and review from the first 50 page of flipkart and store all the data into a database like MySQL. Product name will be taken from user's side."
   ]
  },
  {
   "cell_type": "code",
   "execution_count": 43,
   "id": "db357015",
   "metadata": {},
   "outputs": [],
   "source": [
    "#pip install Selenium"
   ]
  },
  {
   "cell_type": "code",
   "execution_count": 44,
   "id": "b8807ab0",
   "metadata": {},
   "outputs": [],
   "source": [
    "#pip install webdriver-manager"
   ]
  },
  {
   "cell_type": "code",
   "execution_count": 45,
   "id": "e056b1f8",
   "metadata": {},
   "outputs": [],
   "source": [
    "import selenium\n",
    "from selenium import webdriver\n",
    "from selenium.webdriver.common.keys import Keys\n",
    "from selenium.webdriver.common.by import By"
   ]
  },
  {
   "cell_type": "code",
   "execution_count": 46,
   "id": "47566c58",
   "metadata": {},
   "outputs": [],
   "source": [
    "driver = webdriver.Chrome()"
   ]
  },
  {
   "cell_type": "code",
   "execution_count": 47,
   "id": "d0f9ebd8",
   "metadata": {},
   "outputs": [],
   "source": [
    "driver.get(\"https://www.flipkart.com/search?q=mobiles&sid=tyy%2C4io&as=on&as-show=on&otracker=AS_QueryStore_OrganicAutoSuggest_2_6_na_na_ps&otracker1=AS_QueryStore_OrganicAutoSuggest_2_6_na_na_ps&as-pos=2&as-type=RECENT&suggestionId=mobiles%7CMobiles&requestId=38e9e7bf-07d7-4285-a5e5-5618d61cbfcd&as-backfill=on\")"
   ]
  },
  {
   "cell_type": "code",
   "execution_count": 48,
   "id": "4856f26a",
   "metadata": {},
   "outputs": [
    {
     "data": {
      "text/plain": [
       "'POCO C51 (Royal Blue, 64 GB)'"
      ]
     },
     "execution_count": 48,
     "metadata": {},
     "output_type": "execute_result"
    }
   ],
   "source": [
    "driver.find_element(By.CSS_SELECTOR,\"._4rR01T\").text"
   ]
  },
  {
   "cell_type": "code",
   "execution_count": 49,
   "id": "3146ccbe",
   "metadata": {},
   "outputs": [
    {
     "data": {
      "text/plain": [
       "['POCO C51 (Royal Blue, 64 GB)',\n",
       " 'POCO C51 (Power Black, 64 GB)',\n",
       " 'POCO C50 (Royal Blue, 32 GB)',\n",
       " 'vivo T2x 5G (Aurora Gold, 128 GB)',\n",
       " 'vivo T2x 5G (Marine Blue, 128 GB)',\n",
       " 'vivo T2x 5G (Aurora Gold, 128 GB)',\n",
       " 'vivo T2x 5G (Glimmer Black, 128 GB)',\n",
       " 'vivo T2x 5G (Glimmer Black, 128 GB)',\n",
       " 'Infinix SMART 7 (Azure Blue, 64 GB)',\n",
       " 'Infinix SMART 7 (Emerald Green, 128 GB)',\n",
       " 'Infinix SMART 7 (Emerald Green, 64 GB)',\n",
       " 'POCO C55 (Cool Blue, 128 GB)',\n",
       " 'Infinix SMART 7 (Azure Blue, 128 GB)',\n",
       " 'POCO C55 (Power Black, 128 GB)',\n",
       " 'Infinix SMART 7 (Night Black, 64 GB)',\n",
       " 'MOTOROLA G32 (Mineral Gray, 128 GB)',\n",
       " 'OnePlus Nord CE 2 Lite 5G (Blue Tide, 128 GB)',\n",
       " 'MOTOROLA G62 5G (Frosted Blue, 128 GB)',\n",
       " 'POCO C55 (Forest Green, 128 GB)',\n",
       " 'MOTOROLA e32 (Arctic Blue, 64 GB)']"
      ]
     },
     "execution_count": 49,
     "metadata": {},
     "output_type": "execute_result"
    }
   ],
   "source": [
    "# using css selector method\n",
    "mobile =[]\n",
    "for i in range(20):\n",
    "    mobile.append(driver.find_elements(By.CSS_SELECTOR,\"._4rR01T\")[i].text)\n",
    "mobile"
   ]
  },
  {
   "cell_type": "code",
   "execution_count": 50,
   "id": "d807471d",
   "metadata": {},
   "outputs": [
    {
     "data": {
      "text/plain": [
       "['₹6,499',\n",
       " '₹6,499',\n",
       " '₹5,499',\n",
       " '₹13,999',\n",
       " '₹13,999',\n",
       " '₹12,999',\n",
       " '₹12,999',\n",
       " '₹13,999',\n",
       " '₹6,999',\n",
       " '₹7,799',\n",
       " '₹6,999',\n",
       " '₹8,999',\n",
       " '₹7,799',\n",
       " '₹8,999',\n",
       " '₹6,999',\n",
       " '₹11,999',\n",
       " '₹17,890',\n",
       " '₹14,999',\n",
       " '₹8,999',\n",
       " '₹7,999']"
      ]
     },
     "execution_count": 50,
     "metadata": {},
     "output_type": "execute_result"
    }
   ],
   "source": [
    "price = [] \n",
    "for i in range(20):\n",
    "    price.append(driver.find_elements(By.CSS_SELECTOR,\"._1_WHN1\")[i].text)\n",
    "price"
   ]
  },
  {
   "cell_type": "code",
   "execution_count": 51,
   "id": "71f4d96d",
   "metadata": {
    "scrolled": true
   },
   "outputs": [
    {
     "name": "stdout",
     "output_type": "stream",
     "text": [
      "POCO C51 (Royal Blue, 64 GB)\n",
      "POCO C51 (Power Black, 64 GB)\n",
      "POCO C50 (Royal Blue, 32 GB)\n",
      "vivo T2x 5G (Aurora Gold, 128 GB)\n",
      "vivo T2x 5G (Marine Blue, 128 GB)\n",
      "vivo T2x 5G (Aurora Gold, 128 GB)\n",
      "vivo T2x 5G (Glimmer Black, 128 GB)\n",
      "vivo T2x 5G (Glimmer Black, 128 GB)\n",
      "Infinix SMART 7 (Azure Blue, 64 GB)\n",
      "Infinix SMART 7 (Emerald Green, 128 GB)\n",
      "Infinix SMART 7 (Emerald Green, 64 GB)\n",
      "POCO C55 (Cool Blue, 128 GB)\n",
      "Infinix SMART 7 (Azure Blue, 128 GB)\n",
      "POCO C55 (Power Black, 128 GB)\n",
      "Infinix SMART 7 (Night Black, 64 GB)\n",
      "MOTOROLA G32 (Mineral Gray, 128 GB)\n",
      "OnePlus Nord CE 2 Lite 5G (Blue Tide, 128 GB)\n",
      "MOTOROLA G62 5G (Frosted Blue, 128 GB)\n",
      "POCO C55 (Forest Green, 128 GB)\n",
      "MOTOROLA e32 (Arctic Blue, 64 GB)\n"
     ]
    }
   ],
   "source": [
    "# using XPATH method method\n",
    "for i in range(20):\n",
    "    print(driver.find_elements(By.XPATH,'//*[@class=\"_4rR01T\"]')[i].text)"
   ]
  },
  {
   "cell_type": "code",
   "execution_count": 52,
   "id": "4ed0e42e",
   "metadata": {
    "scrolled": true
   },
   "outputs": [
    {
     "name": "stdout",
     "output_type": "stream",
     "text": [
      "₹6,499\n",
      "₹6,499\n",
      "₹5,499\n",
      "₹13,999\n",
      "₹13,999\n",
      "₹12,999\n",
      "₹12,999\n",
      "₹13,999\n",
      "₹6,999\n",
      "₹7,799\n",
      "₹6,999\n",
      "₹8,999\n",
      "₹7,799\n",
      "₹8,999\n",
      "₹6,999\n",
      "₹11,999\n",
      "₹17,890\n",
      "₹14,999\n",
      "₹8,999\n",
      "₹7,999\n"
     ]
    }
   ],
   "source": [
    "# using XPATH method method\n",
    "for i in range(20):\n",
    "    print(driver.find_elements(By.XPATH,'//*[@class=\"_30jeq3 _1_WHN1\"]')[i].text)"
   ]
  },
  {
   "cell_type": "code",
   "execution_count": 53,
   "id": "5313e120",
   "metadata": {
    "scrolled": true
   },
   "outputs": [],
   "source": [
    "#for i in range(20):\n",
    "#    print(driver.find_elements(By.CSS_SELECTOR,\".t-ZTKy\")[i].text)"
   ]
  },
  {
   "cell_type": "code",
   "execution_count": 54,
   "id": "2d751732",
   "metadata": {},
   "outputs": [],
   "source": [
    "from pandas.io import sql\n",
    "import sqlalchemy"
   ]
  },
  {
   "cell_type": "code",
   "execution_count": 55,
   "id": "69341ab9",
   "metadata": {},
   "outputs": [],
   "source": [
    "df=pd.DataFrame({\"Mobile_name\":mobile,\"Price\":Product_price,\"Reviews\":Reviews})"
   ]
  },
  {
   "cell_type": "code",
   "execution_count": 56,
   "id": "5564943d",
   "metadata": {},
   "outputs": [],
   "source": [
    "from sqlalchemy import create_engine\n",
    "engine = create_engine('sqlite:///college.db', echo = True)"
   ]
  },
  {
   "cell_type": "code",
   "execution_count": 57,
   "id": "c2295160",
   "metadata": {},
   "outputs": [
    {
     "data": {
      "text/plain": [
       "Engine(sqlite:///college.db)"
      ]
     },
     "execution_count": 57,
     "metadata": {},
     "output_type": "execute_result"
    }
   ],
   "source": [
    "engine"
   ]
  },
  {
   "cell_type": "code",
   "execution_count": 58,
   "id": "0386e83e",
   "metadata": {},
   "outputs": [],
   "source": [
    "#df.to_sql(name = \"mobile_data\",con=engine)"
   ]
  },
  {
   "cell_type": "code",
   "execution_count": 59,
   "id": "7661d975",
   "metadata": {},
   "outputs": [],
   "source": [
    "#conda install -c anaconda sqlalchemy"
   ]
  },
  {
   "cell_type": "code",
   "execution_count": null,
   "id": "77c88924",
   "metadata": {},
   "outputs": [],
   "source": []
  }
 ],
 "metadata": {
  "kernelspec": {
   "display_name": "Python 3 (ipykernel)",
   "language": "python",
   "name": "python3"
  },
  "language_info": {
   "codemirror_mode": {
    "name": "ipython",
    "version": 3
   },
   "file_extension": ".py",
   "mimetype": "text/x-python",
   "name": "python",
   "nbconvert_exporter": "python",
   "pygments_lexer": "ipython3",
   "version": "3.9.7"
  }
 },
 "nbformat": 4,
 "nbformat_minor": 5
}
